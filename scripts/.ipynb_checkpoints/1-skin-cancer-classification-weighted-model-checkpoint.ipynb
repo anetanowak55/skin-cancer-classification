{
 "cells": [
  {
   "cell_type": "markdown",
   "metadata": {
    "id": "zCImDNTvn1L-"
   },
   "source": [
    "#0. Importy"
   ]
  },
  {
   "cell_type": "code",
   "execution_count": 1,
   "metadata": {
    "executionInfo": {
     "elapsed": 1195,
     "status": "ok",
     "timestamp": 1672823247250,
     "user": {
      "displayName": "Aneta Nowak",
      "userId": "06833223845055190790"
     },
     "user_tz": -60
    },
    "id": "Bt5vPVO2Uru4"
   },
   "outputs": [],
   "source": [
    "import pandas as pd \n",
    "import matplotlib.pyplot as plt\n",
    "import numpy as np\n",
    "from PIL import Image\n",
    "from sklearn.model_selection import train_test_split"
   ]
  },
  {
   "cell_type": "code",
   "execution_count": 2,
   "metadata": {
    "executionInfo": {
     "elapsed": 20,
     "status": "ok",
     "timestamp": 1672823247253,
     "user": {
      "displayName": "Aneta Nowak",
      "userId": "06833223845055190790"
     },
     "user_tz": -60
    },
    "id": "YQsoywZicQhw"
   },
   "outputs": [],
   "source": [
    "# from google.colab import drive\n",
    "# drive.mount('/content/drive')"
   ]
  },
  {
   "cell_type": "code",
   "execution_count": 3,
   "metadata": {
    "executionInfo": {
     "elapsed": 21,
     "status": "ok",
     "timestamp": 1672823247256,
     "user": {
      "displayName": "Aneta Nowak",
      "userId": "06833223845055190790"
     },
     "user_tz": -60
    },
    "id": "NRnO7YcigphU"
   },
   "outputs": [],
   "source": [
    "# !sudo pip install tensorflowjs\n",
    "# !pip show tensorflow\n",
    "# !pip show keras\n",
    "# !python -V"
   ]
  },
  {
   "cell_type": "code",
   "execution_count": 4,
   "metadata": {
    "executionInfo": {
     "elapsed": 2477,
     "status": "ok",
     "timestamp": 1672823249715,
     "user": {
      "displayName": "Aneta Nowak",
      "userId": "06833223845055190790"
     },
     "user_tz": -60
    },
    "id": "VuPJg0NQt8rv"
   },
   "outputs": [],
   "source": [
    "import tensorflow as tf\n",
    "from tensorflow import keras\n",
    "from tensorflow.keras.preprocessing import image\n",
    "from tensorflow.keras import layers\n",
    "from tensorflow.keras.models import Model,Sequential\n",
    "from tensorflow.keras.optimizers import Adam, SGD, RMSprop\n",
    "from tensorflow.keras.layers import Dropout, BatchNormalization\n",
    "from tensorflow.keras.layers import (\n",
    "    Input, Dense, Conv2D, Flatten, Activation, \n",
    "    MaxPooling2D, AveragePooling2D, ZeroPadding2D, GlobalAveragePooling2D, GlobalMaxPooling2D, add\n",
    ")\n",
    "from tensorflow.keras.applications import ResNet50\n",
    "from tensorflow.keras.callbacks import EarlyStopping, ModelCheckpoint\n",
    "#from tensorflow.keras.models import load_model\n",
    "from tensorflow.keras.utils import plot_model\n",
    "from tensorflow.keras.preprocessing.image import ImageDataGenerator\n",
    "#import tensorflowjs as tfjs"
   ]
  },
  {
   "cell_type": "markdown",
   "metadata": {
    "id": "unUP8BI9k7Bd"
   },
   "source": [
    "#1. Konfiguracja"
   ]
  },
  {
   "cell_type": "code",
   "execution_count": 5,
   "metadata": {
    "executionInfo": {
     "elapsed": 32,
     "status": "ok",
     "timestamp": 1672823249717,
     "user": {
      "displayName": "Aneta Nowak",
      "userId": "06833223845055190790"
     },
     "user_tz": -60
    },
    "id": "5qwtcjyauAEw"
   },
   "outputs": [],
   "source": [
    "SEED=123\n",
    "np.random.seed(SEED)"
   ]
  },
  {
   "cell_type": "code",
   "execution_count": 6,
   "metadata": {
    "colab": {
     "base_uri": "https://localhost:8080/"
    },
    "executionInfo": {
     "elapsed": 1373,
     "status": "ok",
     "timestamp": 1672823251066,
     "user": {
      "displayName": "Aneta Nowak",
      "userId": "06833223845055190790"
     },
     "user_tz": -60
    },
    "id": "iAPjQZbO9LNp",
    "outputId": "e972b9f0-bf93-43cf-e5aa-0976588127c0"
   },
   "outputs": [
    {
     "name": "stdout",
     "output_type": "stream",
     "text": [
      "Wed Jan  4 09:07:29 2023       \n",
      "+-----------------------------------------------------------------------------+\n",
      "| NVIDIA-SMI 460.32.03    Driver Version: 460.32.03    CUDA Version: 11.2     |\n",
      "|-------------------------------+----------------------+----------------------+\n",
      "| GPU  Name        Persistence-M| Bus-Id        Disp.A | Volatile Uncorr. ECC |\n",
      "| Fan  Temp  Perf  Pwr:Usage/Cap|         Memory-Usage | GPU-Util  Compute M. |\n",
      "|                               |                      |               MIG M. |\n",
      "|===============================+======================+======================|\n",
      "|   0  A100-SXM4-40GB      Off  | 00000000:00:04.0 Off |                    0 |\n",
      "| N/A   37C    P0    52W / 400W |      0MiB / 40536MiB |      0%      Default |\n",
      "|                               |                      |             Disabled |\n",
      "+-------------------------------+----------------------+----------------------+\n",
      "                                                                               \n",
      "+-----------------------------------------------------------------------------+\n",
      "| Processes:                                                                  |\n",
      "|  GPU   GI   CI        PID   Type   Process name                  GPU Memory |\n",
      "|        ID   ID                                                   Usage      |\n",
      "|=============================================================================|\n",
      "|  No running processes found                                                 |\n",
      "+-----------------------------------------------------------------------------+\n"
     ]
    }
   ],
   "source": [
    "gpu_info = !nvidia-smi\n",
    "gpu_info = '\\n'.join(gpu_info)\n",
    "if gpu_info.find('failed') >= 0:\n",
    "  print('Not connected to a GPU')\n",
    "else:\n",
    "  print(gpu_info)"
   ]
  },
  {
   "cell_type": "code",
   "execution_count": 7,
   "metadata": {
    "colab": {
     "base_uri": "https://localhost:8080/"
    },
    "executionInfo": {
     "elapsed": 396,
     "status": "ok",
     "timestamp": 1672823252143,
     "user": {
      "displayName": "Aneta Nowak",
      "userId": "06833223845055190790"
     },
     "user_tz": -60
    },
    "id": "8Xy3lydIbMDR",
    "outputId": "6596c129-ec37-44b4-c3e0-3bbbaaaafb74"
   },
   "outputs": [
    {
     "name": "stdout",
     "output_type": "stream",
     "text": [
      "Num GPUs Available:  1\n"
     ]
    }
   ],
   "source": [
    "print(\"Num GPUs Available: \", len(tf.config.experimental.list_physical_devices('GPU')))"
   ]
  },
  {
   "cell_type": "code",
   "execution_count": 8,
   "metadata": {
    "executionInfo": {
     "elapsed": 89,
     "status": "ok",
     "timestamp": 1672823252146,
     "user": {
      "displayName": "Aneta Nowak",
      "userId": "06833223845055190790"
     },
     "user_tz": -60
    },
    "id": "OjL-nbExWA2i"
   },
   "outputs": [],
   "source": [
    "base_path = \"drive/MyDrive/ColabNotebooks/\"\n",
    "path_train_csv = \"csv/train.csv\"\n",
    "path_test_csv = \"csv/test.csv\"\n",
    "path_train_img = base_path + \"datasets/train_30\"\n",
    "checkpoint_path = base_path + \"checkpoint/\"\n",
    "tfjs_target_dir = base_path + \"tfjs\"\n",
    "models_path = base_path + \"models\""
   ]
  },
  {
   "cell_type": "code",
   "execution_count": 9,
   "metadata": {
    "executionInfo": {
     "elapsed": 87,
     "status": "ok",
     "timestamp": 1672823252149,
     "user": {
      "displayName": "Aneta Nowak",
      "userId": "06833223845055190790"
     },
     "user_tz": -60
    },
    "id": "yFQSRiGyqyHE"
   },
   "outputs": [],
   "source": [
    "CONFIG = dict(\n",
    "    # Preprocessing\n",
    "    validation = 0.11,\n",
    "    target_size = (224,224),\n",
    "    input_shape = (224, 224, 3),\n",
    "\n",
    "    # Training\n",
    "    epochs = 100,\n",
    "    verbose = 1,\n",
    "    workers = 8,\n",
    "    optimizer = 'adam', # 'SGD', 'RMSprop', 'adam'\n",
    "    RANDOM_STATE = 123,\n",
    "    loss = 'binary_crossentropy', # focal loss\n",
    "\n",
    "    # Postprocessing\n",
    "    # label_smooth_fac  =  0.00,  # 0.01; 0.05; 0.1; 0.2;\n",
    ")"
   ]
  },
  {
   "cell_type": "markdown",
   "metadata": {
    "id": "hpwPG6X2lJmQ"
   },
   "source": [
    "#2. Wczytanie i eksploracja danych"
   ]
  },
  {
   "cell_type": "code",
   "execution_count": 10,
   "metadata": {
    "colab": {
     "base_uri": "https://localhost:8080/",
     "height": 0
    },
    "executionInfo": {
     "elapsed": 87,
     "status": "ok",
     "timestamp": 1672823252152,
     "user": {
      "displayName": "Aneta Nowak",
      "userId": "06833223845055190790"
     },
     "user_tz": -60
    },
    "id": "f1bcew3uWBF3",
    "outputId": "e37df6fb-367b-4e4c-f487-826a43fbcccc"
   },
   "outputs": [
    {
     "data": {
      "text/html": [
       "\n",
       "  <div id=\"df-af28a442-15f2-4192-a120-98049192f87b\">\n",
       "    <div class=\"colab-df-container\">\n",
       "      <div>\n",
       "<style scoped>\n",
       "    .dataframe tbody tr th:only-of-type {\n",
       "        vertical-align: middle;\n",
       "    }\n",
       "\n",
       "    .dataframe tbody tr th {\n",
       "        vertical-align: top;\n",
       "    }\n",
       "\n",
       "    .dataframe thead th {\n",
       "        text-align: right;\n",
       "    }\n",
       "</style>\n",
       "<table border=\"1\" class=\"dataframe\">\n",
       "  <thead>\n",
       "    <tr style=\"text-align: right;\">\n",
       "      <th></th>\n",
       "      <th>image_name</th>\n",
       "      <th>patient_id</th>\n",
       "      <th>sex</th>\n",
       "      <th>age_approx</th>\n",
       "      <th>anatom_site_general_challenge</th>\n",
       "      <th>diagnosis</th>\n",
       "      <th>benign_malignant</th>\n",
       "      <th>target</th>\n",
       "      <th>image_filename</th>\n",
       "    </tr>\n",
       "  </thead>\n",
       "  <tbody>\n",
       "    <tr>\n",
       "      <th>0</th>\n",
       "      <td>ISIC_2637011</td>\n",
       "      <td>IP_7279968</td>\n",
       "      <td>male</td>\n",
       "      <td>45.0</td>\n",
       "      <td>head/neck</td>\n",
       "      <td>unknown</td>\n",
       "      <td>benign</td>\n",
       "      <td>0</td>\n",
       "      <td>ISIC_2637011.jpg</td>\n",
       "    </tr>\n",
       "    <tr>\n",
       "      <th>1</th>\n",
       "      <td>ISIC_0015719</td>\n",
       "      <td>IP_3075186</td>\n",
       "      <td>female</td>\n",
       "      <td>45.0</td>\n",
       "      <td>upper extremity</td>\n",
       "      <td>unknown</td>\n",
       "      <td>benign</td>\n",
       "      <td>0</td>\n",
       "      <td>ISIC_0015719.jpg</td>\n",
       "    </tr>\n",
       "    <tr>\n",
       "      <th>2</th>\n",
       "      <td>ISIC_0052212</td>\n",
       "      <td>IP_2842074</td>\n",
       "      <td>female</td>\n",
       "      <td>50.0</td>\n",
       "      <td>lower extremity</td>\n",
       "      <td>nevus</td>\n",
       "      <td>benign</td>\n",
       "      <td>0</td>\n",
       "      <td>ISIC_0052212.jpg</td>\n",
       "    </tr>\n",
       "    <tr>\n",
       "      <th>3</th>\n",
       "      <td>ISIC_0068279</td>\n",
       "      <td>IP_6890425</td>\n",
       "      <td>female</td>\n",
       "      <td>45.0</td>\n",
       "      <td>head/neck</td>\n",
       "      <td>unknown</td>\n",
       "      <td>benign</td>\n",
       "      <td>0</td>\n",
       "      <td>ISIC_0068279.jpg</td>\n",
       "    </tr>\n",
       "    <tr>\n",
       "      <th>4</th>\n",
       "      <td>ISIC_0074268</td>\n",
       "      <td>IP_8723313</td>\n",
       "      <td>female</td>\n",
       "      <td>55.0</td>\n",
       "      <td>upper extremity</td>\n",
       "      <td>unknown</td>\n",
       "      <td>benign</td>\n",
       "      <td>0</td>\n",
       "      <td>ISIC_0074268.jpg</td>\n",
       "    </tr>\n",
       "    <tr>\n",
       "      <th>...</th>\n",
       "      <td>...</td>\n",
       "      <td>...</td>\n",
       "      <td>...</td>\n",
       "      <td>...</td>\n",
       "      <td>...</td>\n",
       "      <td>...</td>\n",
       "      <td>...</td>\n",
       "      <td>...</td>\n",
       "      <td>...</td>\n",
       "    </tr>\n",
       "    <tr>\n",
       "      <th>33121</th>\n",
       "      <td>ISIC_9999134</td>\n",
       "      <td>IP_6526534</td>\n",
       "      <td>male</td>\n",
       "      <td>50.0</td>\n",
       "      <td>torso</td>\n",
       "      <td>unknown</td>\n",
       "      <td>benign</td>\n",
       "      <td>0</td>\n",
       "      <td>ISIC_9999134.jpg</td>\n",
       "    </tr>\n",
       "    <tr>\n",
       "      <th>33122</th>\n",
       "      <td>ISIC_9999320</td>\n",
       "      <td>IP_3650745</td>\n",
       "      <td>male</td>\n",
       "      <td>65.0</td>\n",
       "      <td>torso</td>\n",
       "      <td>unknown</td>\n",
       "      <td>benign</td>\n",
       "      <td>0</td>\n",
       "      <td>ISIC_9999320.jpg</td>\n",
       "    </tr>\n",
       "    <tr>\n",
       "      <th>33123</th>\n",
       "      <td>ISIC_9999515</td>\n",
       "      <td>IP_2026598</td>\n",
       "      <td>male</td>\n",
       "      <td>20.0</td>\n",
       "      <td>lower extremity</td>\n",
       "      <td>unknown</td>\n",
       "      <td>benign</td>\n",
       "      <td>0</td>\n",
       "      <td>ISIC_9999515.jpg</td>\n",
       "    </tr>\n",
       "    <tr>\n",
       "      <th>33124</th>\n",
       "      <td>ISIC_9999666</td>\n",
       "      <td>IP_7702038</td>\n",
       "      <td>male</td>\n",
       "      <td>50.0</td>\n",
       "      <td>lower extremity</td>\n",
       "      <td>unknown</td>\n",
       "      <td>benign</td>\n",
       "      <td>0</td>\n",
       "      <td>ISIC_9999666.jpg</td>\n",
       "    </tr>\n",
       "    <tr>\n",
       "      <th>33125</th>\n",
       "      <td>ISIC_9999806</td>\n",
       "      <td>IP_0046310</td>\n",
       "      <td>male</td>\n",
       "      <td>45.0</td>\n",
       "      <td>torso</td>\n",
       "      <td>nevus</td>\n",
       "      <td>benign</td>\n",
       "      <td>0</td>\n",
       "      <td>ISIC_9999806.jpg</td>\n",
       "    </tr>\n",
       "  </tbody>\n",
       "</table>\n",
       "<p>33126 rows × 9 columns</p>\n",
       "</div>\n",
       "      <button class=\"colab-df-convert\" onclick=\"convertToInteractive('df-af28a442-15f2-4192-a120-98049192f87b')\"\n",
       "              title=\"Convert this dataframe to an interactive table.\"\n",
       "              style=\"display:none;\">\n",
       "        \n",
       "  <svg xmlns=\"http://www.w3.org/2000/svg\" height=\"24px\"viewBox=\"0 0 24 24\"\n",
       "       width=\"24px\">\n",
       "    <path d=\"M0 0h24v24H0V0z\" fill=\"none\"/>\n",
       "    <path d=\"M18.56 5.44l.94 2.06.94-2.06 2.06-.94-2.06-.94-.94-2.06-.94 2.06-2.06.94zm-11 1L8.5 8.5l.94-2.06 2.06-.94-2.06-.94L8.5 2.5l-.94 2.06-2.06.94zm10 10l.94 2.06.94-2.06 2.06-.94-2.06-.94-.94-2.06-.94 2.06-2.06.94z\"/><path d=\"M17.41 7.96l-1.37-1.37c-.4-.4-.92-.59-1.43-.59-.52 0-1.04.2-1.43.59L10.3 9.45l-7.72 7.72c-.78.78-.78 2.05 0 2.83L4 21.41c.39.39.9.59 1.41.59.51 0 1.02-.2 1.41-.59l7.78-7.78 2.81-2.81c.8-.78.8-2.07 0-2.86zM5.41 20L4 18.59l7.72-7.72 1.47 1.35L5.41 20z\"/>\n",
       "  </svg>\n",
       "      </button>\n",
       "      \n",
       "  <style>\n",
       "    .colab-df-container {\n",
       "      display:flex;\n",
       "      flex-wrap:wrap;\n",
       "      gap: 12px;\n",
       "    }\n",
       "\n",
       "    .colab-df-convert {\n",
       "      background-color: #E8F0FE;\n",
       "      border: none;\n",
       "      border-radius: 50%;\n",
       "      cursor: pointer;\n",
       "      display: none;\n",
       "      fill: #1967D2;\n",
       "      height: 32px;\n",
       "      padding: 0 0 0 0;\n",
       "      width: 32px;\n",
       "    }\n",
       "\n",
       "    .colab-df-convert:hover {\n",
       "      background-color: #E2EBFA;\n",
       "      box-shadow: 0px 1px 2px rgba(60, 64, 67, 0.3), 0px 1px 3px 1px rgba(60, 64, 67, 0.15);\n",
       "      fill: #174EA6;\n",
       "    }\n",
       "\n",
       "    [theme=dark] .colab-df-convert {\n",
       "      background-color: #3B4455;\n",
       "      fill: #D2E3FC;\n",
       "    }\n",
       "\n",
       "    [theme=dark] .colab-df-convert:hover {\n",
       "      background-color: #434B5C;\n",
       "      box-shadow: 0px 1px 3px 1px rgba(0, 0, 0, 0.15);\n",
       "      filter: drop-shadow(0px 1px 2px rgba(0, 0, 0, 0.3));\n",
       "      fill: #FFFFFF;\n",
       "    }\n",
       "  </style>\n",
       "\n",
       "      <script>\n",
       "        const buttonEl =\n",
       "          document.querySelector('#df-af28a442-15f2-4192-a120-98049192f87b button.colab-df-convert');\n",
       "        buttonEl.style.display =\n",
       "          google.colab.kernel.accessAllowed ? 'block' : 'none';\n",
       "\n",
       "        async function convertToInteractive(key) {\n",
       "          const element = document.querySelector('#df-af28a442-15f2-4192-a120-98049192f87b');\n",
       "          const dataTable =\n",
       "            await google.colab.kernel.invokeFunction('convertToInteractive',\n",
       "                                                     [key], {});\n",
       "          if (!dataTable) return;\n",
       "\n",
       "          const docLinkHtml = 'Like what you see? Visit the ' +\n",
       "            '<a target=\"_blank\" href=https://colab.research.google.com/notebooks/data_table.ipynb>data table notebook</a>'\n",
       "            + ' to learn more about interactive tables.';\n",
       "          element.innerHTML = '';\n",
       "          dataTable['output_type'] = 'display_data';\n",
       "          await google.colab.output.renderOutput(dataTable, element);\n",
       "          const docLink = document.createElement('div');\n",
       "          docLink.innerHTML = docLinkHtml;\n",
       "          element.appendChild(docLink);\n",
       "        }\n",
       "      </script>\n",
       "    </div>\n",
       "  </div>\n",
       "  "
      ],
      "text/plain": [
       "         image_name  patient_id     sex  age_approx  \\\n",
       "0      ISIC_2637011  IP_7279968    male        45.0   \n",
       "1      ISIC_0015719  IP_3075186  female        45.0   \n",
       "2      ISIC_0052212  IP_2842074  female        50.0   \n",
       "3      ISIC_0068279  IP_6890425  female        45.0   \n",
       "4      ISIC_0074268  IP_8723313  female        55.0   \n",
       "...             ...         ...     ...         ...   \n",
       "33121  ISIC_9999134  IP_6526534    male        50.0   \n",
       "33122  ISIC_9999320  IP_3650745    male        65.0   \n",
       "33123  ISIC_9999515  IP_2026598    male        20.0   \n",
       "33124  ISIC_9999666  IP_7702038    male        50.0   \n",
       "33125  ISIC_9999806  IP_0046310    male        45.0   \n",
       "\n",
       "      anatom_site_general_challenge diagnosis benign_malignant  target  \\\n",
       "0                         head/neck   unknown           benign       0   \n",
       "1                   upper extremity   unknown           benign       0   \n",
       "2                   lower extremity     nevus           benign       0   \n",
       "3                         head/neck   unknown           benign       0   \n",
       "4                   upper extremity   unknown           benign       0   \n",
       "...                             ...       ...              ...     ...   \n",
       "33121                         torso   unknown           benign       0   \n",
       "33122                         torso   unknown           benign       0   \n",
       "33123               lower extremity   unknown           benign       0   \n",
       "33124               lower extremity   unknown           benign       0   \n",
       "33125                         torso     nevus           benign       0   \n",
       "\n",
       "         image_filename  \n",
       "0      ISIC_2637011.jpg  \n",
       "1      ISIC_0015719.jpg  \n",
       "2      ISIC_0052212.jpg  \n",
       "3      ISIC_0068279.jpg  \n",
       "4      ISIC_0074268.jpg  \n",
       "...                 ...  \n",
       "33121  ISIC_9999134.jpg  \n",
       "33122  ISIC_9999320.jpg  \n",
       "33123  ISIC_9999515.jpg  \n",
       "33124  ISIC_9999666.jpg  \n",
       "33125  ISIC_9999806.jpg  \n",
       "\n",
       "[33126 rows x 9 columns]"
      ]
     },
     "execution_count": 10,
     "metadata": {},
     "output_type": "execute_result"
    }
   ],
   "source": [
    "train_df = pd.read_csv(base_path + path_train_csv)\n",
    "train_df['image_filename'] = train_df['image_name'].astype(str) + \".jpg\"\n",
    "train_df"
   ]
  },
  {
   "cell_type": "code",
   "execution_count": 11,
   "metadata": {
    "colab": {
     "base_uri": "https://localhost:8080/"
    },
    "executionInfo": {
     "elapsed": 625,
     "status": "ok",
     "timestamp": 1672823252703,
     "user": {
      "displayName": "Aneta Nowak",
      "userId": "06833223845055190790"
     },
     "user_tz": -60
    },
    "id": "6suv-vynkUx7",
    "outputId": "3c1b0cde-4dd6-438a-bf0c-86bdb5922e46"
   },
   "outputs": [
    {
     "data": {
      "text/plain": [
       "benign_malignant\n",
       "benign       32542\n",
       "malignant      584\n",
       "dtype: int64"
      ]
     },
     "execution_count": 11,
     "metadata": {},
     "output_type": "execute_result"
    }
   ],
   "source": [
    "train_df.groupby('benign_malignant').size()"
   ]
  },
  {
   "cell_type": "code",
   "execution_count": 12,
   "metadata": {
    "executionInfo": {
     "elapsed": 42,
     "status": "ok",
     "timestamp": 1672823252706,
     "user": {
      "displayName": "Aneta Nowak",
      "userId": "06833223845055190790"
     },
     "user_tz": -60
    },
    "id": "hm6L1FJ-ib3U"
   },
   "outputs": [],
   "source": [
    "# # Create a dataset with equal number of malignant and benign cases.\n",
    "\n",
    "# b, m = train_df.groupby('benign_malignant')\n",
    "# b[1].drop(b[1].index[584:], inplace=True)\n",
    "# b = b[1]\n",
    "# m = m[1]\n",
    "# train_df=pd.concat([m[1], b[1]])\n",
    "# train_df.groupby('benign_malignant').size()"
   ]
  },
  {
   "cell_type": "code",
   "execution_count": 13,
   "metadata": {
    "executionInfo": {
     "elapsed": 41,
     "status": "ok",
     "timestamp": 1672823252708,
     "user": {
      "displayName": "Aneta Nowak",
      "userId": "06833223845055190790"
     },
     "user_tz": -60
    },
    "id": "cEObXGHWr2-L"
   },
   "outputs": [],
   "source": [
    "# test_df = pd.read_csv(base_path + path_test_csv)\n",
    "# test_df['image_filename'] = test_df['image_name'].astype(str) + \".jpg\""
   ]
  },
  {
   "cell_type": "markdown",
   "metadata": {
    "id": "06B_3rz8Fhav"
   },
   "source": [
    "#old"
   ]
  },
  {
   "cell_type": "code",
   "execution_count": 14,
   "metadata": {
    "executionInfo": {
     "elapsed": 40,
     "status": "ok",
     "timestamp": 1672823252710,
     "user": {
      "displayName": "Aneta Nowak",
      "userId": "06833223845055190790"
     },
     "user_tz": -60
    },
    "id": "KYOMPDRfi8wh"
   },
   "outputs": [],
   "source": [
    "# # making sure the proportion of classes is equal in train and validation set\n",
    "# train_train, train_valid = train_test_split(train_df, test_size=CONFIG.get(\"validation\"), stratify=train_df['benign_malignant'])\n",
    "# train_df_stratified = pd.concat([train_train, train_valid])\n",
    "# train_df_stratified"
   ]
  },
  {
   "cell_type": "code",
   "execution_count": 15,
   "metadata": {
    "executionInfo": {
     "elapsed": 39,
     "status": "ok",
     "timestamp": 1672823252712,
     "user": {
      "displayName": "Aneta Nowak",
      "userId": "06833223845055190790"
     },
     "user_tz": -60
    },
    "id": "XBmBiFyAaVgV"
   },
   "outputs": [],
   "source": [
    "# # ref: https://vijayabhaskar96.medium.com/tutorial-on-keras-flow-from-dataframe-1fd4493d237c\n",
    "\n",
    "# datagen = ImageDataGenerator(validation_split=CONFIG.get(\"validation\")) # todo image augmentation??\n",
    "\n",
    "# train_generator = datagen.flow_from_dataframe(\n",
    "#   dataframe = train_train,\n",
    "#   directory = path_train_img,\n",
    "#   x_col = \"image_filename\",\n",
    "#   y_col = \"benign_malignant\",\n",
    "#   subset=\"training\",\n",
    "#   batch_size = 32,\n",
    "#   seed = SEED,\n",
    "#   shuffle = False,\n",
    "#   class_mode = \"categorical\",\n",
    "#   target_size = CONFIG.get(\"target_size\"))\n",
    "\n",
    "# valid_generator = datagen.flow_from_dataframe(\n",
    "#   dataframe = train_valid,\n",
    "#   directory = path_train_img,\n",
    "#   x_col = \"image_filename\",\n",
    "#   y_col = \"benign_malignant\",\n",
    "#   subset=\"validation\",\n",
    "#   batch_size = 32,\n",
    "#   seed = SEED,\n",
    "#   shuffle = False,\n",
    "#   class_mode = \"categorical\",\n",
    "#   target_size = CONFIG.get(\"target_size\"))\n",
    "\n",
    "# test_datagen = ImageDataGenerator()\n",
    "\n",
    "# test_generator = valid_generator = datagen.flow_from_dataframe(\n",
    "#   dataframe = test_df,\n",
    "#   directory = path_test_img,\n",
    "#   x_col = \"image_filename\",\n",
    "#   y_col = None,\n",
    "#   subset = \"validation\",\n",
    "#   batch_size = 32,\n",
    "#   seed = SEED,\n",
    "#   shuffle = False,\n",
    "#   class_mode = None,\n",
    "#   target_size = CONFIG.get(\"target_size\"))"
   ]
  },
  {
   "cell_type": "code",
   "execution_count": 16,
   "metadata": {
    "executionInfo": {
     "elapsed": 39,
     "status": "ok",
     "timestamp": 1672823252714,
     "user": {
      "displayName": "Aneta Nowak",
      "userId": "06833223845055190790"
     },
     "user_tz": -60
    },
    "id": "RYbqsPJYxKQX"
   },
   "outputs": [],
   "source": [
    "# train_dir = base_path + '/img'\n",
    "# train_ds = tf.keras.preprocessing.image_dataset_from_directory(train_dir, validation_split=0.3, image_size=(224,224), subset=\"training\", seed=SEED)\n",
    "# valid_ds = tf.keras.preprocessing.image_dataset_from_directory(train_dir, validation_split=0.3, image_size=(224,224), subset=\"validation\",seed=SEED)\n",
    "\n",
    "# class_names = train_ds.class_names\n",
    "# num_classes = len(class_names)\n",
    "# print('\\n{} classes:\\n{}'.format(num_classes,class_names))"
   ]
  },
  {
   "cell_type": "markdown",
   "metadata": {
    "id": "cOYjQ0rWlnmG"
   },
   "source": [
    "#4. Przygotowanie zbiorów danych treningowych i testowych"
   ]
  },
  {
   "cell_type": "code",
   "execution_count": 17,
   "metadata": {
    "colab": {
     "base_uri": "https://localhost:8080/"
    },
    "executionInfo": {
     "elapsed": 84240,
     "status": "ok",
     "timestamp": 1672823336917,
     "user": {
      "displayName": "Aneta Nowak",
      "userId": "06833223845055190790"
     },
     "user_tz": -60
    },
    "id": "WXPsE2gA40Qh",
    "outputId": "6c62cfc3-0f7a-4641-8471-04a9d08fc4b8"
   },
   "outputs": [
    {
     "name": "stdout",
     "output_type": "stream",
     "text": [
      "Found 10945 images belonging to 2 classes.\n",
      "Found 1352 images belonging to 2 classes.\n",
      "\n",
      "2 classes:\n",
      "{'benign': 0, 'malignant': 1}\n"
     ]
    }
   ],
   "source": [
    "train_datagen = ImageDataGenerator(rescale=1./255, validation_split=CONFIG.get(\"validation\"))\n",
    "\n",
    "train_generator = train_datagen.flow_from_directory(path_train_img,\n",
    "                                                    subset='training', \n",
    "                                                    target_size=CONFIG.get(\"target_size\"),\n",
    "                                                    batch_size = 16,\n",
    "                                                    class_mode='categorical',\n",
    "                                                    )\n",
    "\n",
    "valid_generator = train_datagen.flow_from_directory(path_train_img,\n",
    "                                                     subset='validation', \n",
    "                                                     target_size=CONFIG.get(\"target_size\"),\n",
    "                                                     batch_size = 16,\n",
    "                                                     class_mode='categorical'\n",
    "                                                     ) \n",
    "\n",
    "class_names = train_generator.class_indices\n",
    "num_classes = len(class_names)\n",
    "print('\\n{} classes:\\n{}'.format(num_classes,class_names))"
   ]
  },
  {
   "cell_type": "code",
   "execution_count": 18,
   "metadata": {
    "colab": {
     "base_uri": "https://localhost:8080/"
    },
    "executionInfo": {
     "elapsed": 41,
     "status": "ok",
     "timestamp": 1672823336918,
     "user": {
      "displayName": "Aneta Nowak",
      "userId": "06833223845055190790"
     },
     "user_tz": -60
    },
    "id": "gBIU21SFGFd4",
    "outputId": "12c4e4bf-5fc7-4e9e-8f62-ec7b5bdccf39"
   },
   "outputs": [
    {
     "name": "stdout",
     "output_type": "stream",
     "text": [
      "TRAINING >> dict_items([(0, 10506), (1, 439)]), ratio malignant/benign: 0.042\n",
      "VALIDATION >> dict_items([(0, 1298), (1, 54)]), ratio malignant/benign: 0.042\n"
     ]
    }
   ],
   "source": [
    "from collections import Counter\n",
    "\n",
    "counter_train = Counter(train_generator.classes)\n",
    "ratio_train = round(counter_train.get(1) / counter_train.get(0), 3)\n",
    "print(\"TRAINING >> {}, ratio malignant/benign: {}\".format(counter_train.items(), ratio_train))\n",
    "\n",
    "counter_valid = Counter(valid_generator.classes)\n",
    "ratio_valid = round(counter_valid.get(1) / counter_valid.get(0), 3)\n",
    "print(\"VALIDATION >> {}, ratio malignant/benign: {}\".format(counter_valid.items(), ratio_valid))"
   ]
  },
  {
   "cell_type": "markdown",
   "metadata": {
    "id": "If2zEQAR8bZn"
   },
   "source": [
    "#old"
   ]
  },
  {
   "cell_type": "markdown",
   "metadata": {
    "id": "sQS-0Fn58in3"
   },
   "source": [
    "Focal loss - function that addresses class imbalance during training in tasks like object detection\n",
    "\n",
    "Ref: https://github.com/mkocabas/focal-loss-keras"
   ]
  },
  {
   "cell_type": "code",
   "execution_count": 19,
   "metadata": {
    "executionInfo": {
     "elapsed": 27,
     "status": "ok",
     "timestamp": 1672823336919,
     "user": {
      "displayName": "Aneta Nowak",
      "userId": "06833223845055190790"
     },
     "user_tz": -60
    },
    "id": "OKMd1SaS8aMP"
   },
   "outputs": [],
   "source": [
    "def focal_loss(gamma=2., alpha=.25):\n",
    "\tdef focal_loss_fixed(y_true, y_pred):\n",
    "\t\tpt_1 = tf.where(tf.equal(y_true, 1), y_pred, tf.ones_like(y_pred))\n",
    "\t\tpt_0 = tf.where(tf.equal(y_true, 0), y_pred, tf.zeros_like(y_pred))\n",
    "\t\treturn -K.mean(alpha * K.pow(1. - pt_1, gamma) * K.log(pt_1+K.epsilon())) - K.mean((1 - alpha) * K.pow(pt_0, gamma) * K.log(1. - pt_0 + K.epsilon()))\n",
    "\treturn focal_loss_fixed"
   ]
  },
  {
   "cell_type": "markdown",
   "metadata": {
    "id": "_u7H8rBhq5ic"
   },
   "source": [
    "#5. Równoważenie klas"
   ]
  },
  {
   "cell_type": "code",
   "execution_count": 20,
   "metadata": {
    "colab": {
     "base_uri": "https://localhost:8080/"
    },
    "executionInfo": {
     "elapsed": 28,
     "status": "ok",
     "timestamp": 1672823336921,
     "user": {
      "displayName": "Aneta Nowak",
      "userId": "06833223845055190790"
     },
     "user_tz": -60
    },
    "id": "1Y8Zst-lrBMJ",
    "outputId": "18c16c26-af93-408b-f87c-b2b823b5ebbc"
   },
   "outputs": [
    {
     "name": "stdout",
     "output_type": "stream",
     "text": [
      "Weight for class 0: 0.52\n",
      "Weight for class 1: 12.47\n"
     ]
    }
   ],
   "source": [
    "# ref: https://www.tensorflow.org/tutorials/structured_data/imbalanced_data\n",
    "# Scaling by total/2 helps keep the loss to a similar magnitude.\n",
    "# The sum of the weights of all examples stays the same.\n",
    "n_benign = counter_train.get(0) + counter_valid.get(0)\n",
    "n_malignant = counter_train.get(1) + counter_valid.get(1)\n",
    "total = n_benign + n_malignant\n",
    "\n",
    "weight_for_malignant = (1 / n_malignant) * (total / 2.0)\n",
    "weight_for_benign = (1 / n_benign) * (total / 2.0)\n",
    "\n",
    "class_weight = {0: weight_for_benign, 1: weight_for_malignant}\n",
    "\n",
    "print('Weight for class 0: {:.2f}'.format(weight_for_benign))\n",
    "print('Weight for class 1: {:.2f}'.format(weight_for_malignant))\n",
    "\n",
    "# from sklearn.utils import class_weight \n",
    "# import numpy as np\n",
    "\n",
    "# class_weights = class_weight.compute_class_weight(\n",
    "#            'balanced',\n",
    "#             np.unique(train_generator.classes), \n",
    "#             train_generator.classes)"
   ]
  },
  {
   "cell_type": "markdown",
   "metadata": {
    "id": "blWPWEwzl3HU"
   },
   "source": [
    "#6. Przygotowanie modelu"
   ]
  },
  {
   "cell_type": "code",
   "execution_count": 21,
   "metadata": {
    "colab": {
     "base_uri": "https://localhost:8080/"
    },
    "executionInfo": {
     "elapsed": 4611,
     "status": "ok",
     "timestamp": 1672823341509,
     "user": {
      "displayName": "Aneta Nowak",
      "userId": "06833223845055190790"
     },
     "user_tz": -60
    },
    "id": "p2cOShsvaWKf",
    "outputId": "a50fd197-c452-49c1-8366-302ef2c7a6bb"
   },
   "outputs": [
    {
     "name": "stdout",
     "output_type": "stream",
     "text": [
      "Downloading data from https://storage.googleapis.com/tensorflow/keras-applications/resnet/resnet50_weights_tf_dim_ordering_tf_kernels_notop.h5\n",
      "94765736/94765736 [==============================] - 0s 0us/step\n",
      "Model: \"sequential\"\n",
      "_________________________________________________________________\n",
      " Layer (type)                Output Shape              Param #   \n",
      "=================================================================\n",
      " resnet50 (Functional)       (None, 7, 7, 2048)        23587712  \n",
      "                                                                 \n",
      " global_average_pooling2d (G  (None, 2048)             0         \n",
      " lobalAveragePooling2D)                                          \n",
      "                                                                 \n",
      " dense (Dense)               (None, 2)                 4098      \n",
      "                                                                 \n",
      "=================================================================\n",
      "Total params: 23,591,810\n",
      "Trainable params: 23,538,690\n",
      "Non-trainable params: 53,120\n",
      "_________________________________________________________________\n"
     ]
    }
   ],
   "source": [
    "model_ResNet50 = tf.keras.Sequential([\n",
    "     tf.keras.applications.ResNet50(\n",
    "        input_shape = CONFIG.get(\"input_shape\"),\n",
    "        weights = 'imagenet', # one of None (random initialization), \n",
    "                              # 'imagenet' (pre-training on ImageNet) - default,\n",
    "                              # or the path to the weights file to be loaded\n",
    "        include_top = False # include the fully-connected layer at the top of the network\n",
    "    ),\n",
    "    \n",
    "    GlobalAveragePooling2D(),\n",
    "    \n",
    "    Dense(num_classes, activation='softmax')\n",
    "])\n",
    "\n",
    "METRICS = [\n",
    "      keras.metrics.TruePositives(name='tp'),\n",
    "      keras.metrics.FalsePositives(name='fp'),\n",
    "      keras.metrics.TrueNegatives(name='tn'),\n",
    "      keras.metrics.FalseNegatives(name='fn'), \n",
    "      keras.metrics.BinaryAccuracy(name='accuracy'),\n",
    "      keras.metrics.Precision(name='precision'),\n",
    "      keras.metrics.Recall(name='recall'),\n",
    "      keras.metrics.AUC(name='auc'),\n",
    "      keras.metrics.AUC(name='prc', curve='PR'), # precision-recall curve\n",
    "]\n",
    "    \n",
    "model_ResNet50.compile(\n",
    "    optimizer = CONFIG.get(\"optimizer\"),\n",
    "    #loss = tf.keras.losses.BinaryCrossentropy(label_smoothing = CONFIG.get(\"label_smooth_fac\")),\n",
    "    loss = CONFIG.get('loss'), #[focal_loss(alpha=.25, gamma=2)],\n",
    "    metrics = METRICS\n",
    ")\n",
    "\n",
    "model_ResNet50.summary()\n"
   ]
  },
  {
   "cell_type": "code",
   "execution_count": 22,
   "metadata": {
    "colab": {
     "base_uri": "https://localhost:8080/"
    },
    "executionInfo": {
     "elapsed": 44,
     "status": "ok",
     "timestamp": 1672823341511,
     "user": {
      "displayName": "Aneta Nowak",
      "userId": "06833223845055190790"
     },
     "user_tz": -60
    },
    "id": "yIdyr0el6xoY",
    "outputId": "6e710f42-cbfb-4f6d-9409-cb6416f2777f"
   },
   "outputs": [
    {
     "name": "stdout",
     "output_type": "stream",
     "text": [
      "Model: \"sequential\"\n",
      "_________________________________________________________________\n",
      " Layer (type)                Output Shape              Param #   \n",
      "=================================================================\n",
      " resnet50 (Functional)       (None, 7, 7, 2048)        23587712  \n",
      "                                                                 \n",
      " global_average_pooling2d (G  (None, 2048)             0         \n",
      " lobalAveragePooling2D)                                          \n",
      "                                                                 \n",
      " dense (Dense)               (None, 2)                 4098      \n",
      "                                                                 \n",
      "=================================================================\n",
      "Total params: 23,591,810\n",
      "Trainable params: 4,098\n",
      "Non-trainable params: 23,587,712\n",
      "_________________________________________________________________\n"
     ]
    }
   ],
   "source": [
    "# freeze the first layer - reduce significantly number of trainable parameters\n",
    "# (excluded from training, weights will never be updated)\n",
    "\n",
    "model_ResNet50.layers[0].trainable = False\n",
    "model_ResNet50.summary()"
   ]
  },
  {
   "cell_type": "code",
   "execution_count": 23,
   "metadata": {
    "executionInfo": {
     "elapsed": 20,
     "status": "ok",
     "timestamp": 1672823341513,
     "user": {
      "displayName": "Aneta Nowak",
      "userId": "06833223845055190790"
     },
     "user_tz": -60
    },
    "id": "B4SUUuIb63_X"
   },
   "outputs": [],
   "source": [
    "#plot_model(model_ResNet50, to_file='model_plot.png', show_shapes=True, show_layer_names=True)"
   ]
  },
  {
   "cell_type": "markdown",
   "metadata": {
    "id": "camF2wF-npqZ"
   },
   "source": [
    "#7. Trenowanie modelu"
   ]
  },
  {
   "cell_type": "code",
   "execution_count": 24,
   "metadata": {
    "executionInfo": {
     "elapsed": 19,
     "status": "ok",
     "timestamp": 1672823341514,
     "user": {
      "displayName": "Aneta Nowak",
      "userId": "06833223845055190790"
     },
     "user_tz": -60
    },
    "id": "X56zsU7l5vCL"
   },
   "outputs": [],
   "source": [
    "# ref: https://keras.io/api/callbacks/early_stopping/\n",
    "cb_early_stopper = EarlyStopping(monitor = 'loss', patience = 10)\n",
    "\n",
    "# ref: https://keras.io/api/callbacks/model_checkpoint/\n",
    "cb_checkpointer  = ModelCheckpoint(filepath = checkpoint_path+'ResNet50-{epoch:02d}.hdf5',\n",
    "                                   monitor = 'loss', \n",
    "                                   verbose = 1,\n",
    "                                   save_best_only = True,\n",
    "                                   mode = 'min'\n",
    "                                  )\n",
    "\n",
    "callbacks_list = [cb_checkpointer, cb_early_stopper]"
   ]
  },
  {
   "cell_type": "code",
   "execution_count": null,
   "metadata": {
    "colab": {
     "base_uri": "https://localhost:8080/"
    },
    "id": "hvK_1Yl7BJCM",
    "outputId": "ea5bc993-156d-45ad-a943-5377b860db14"
   },
   "outputs": [
    {
     "name": "stdout",
     "output_type": "stream",
     "text": [
      "Epoch 1/100\n",
      "685/685 [==============================] - ETA: 0s - loss: 0.9261 - tp: 3786.0000 - fp: 7159.0000 - tn: 3786.0000 - fn: 7159.0000 - accuracy: 0.3459 - precision: 0.3459 - recall: 0.3459 - auc: 0.4505 - prc: 0.4978\n",
      "Epoch 1: loss improved from inf to 0.92608, saving model to drive/MyDrive/ColabNotebooks/checkpoint/ResNet50-01.hdf5\n",
      "685/685 [==============================] - 655s 921ms/step - loss: 0.9261 - tp: 3786.0000 - fp: 7159.0000 - tn: 3786.0000 - fn: 7159.0000 - accuracy: 0.3459 - precision: 0.3459 - recall: 0.3459 - auc: 0.4505 - prc: 0.4978 - val_loss: 0.6963 - val_tp: 54.0000 - val_fp: 1298.0000 - val_tn: 54.0000 - val_fn: 1298.0000 - val_accuracy: 0.0399 - val_precision: 0.0399 - val_recall: 0.0399 - val_auc: 0.0399 - val_prc: 0.3110\n",
      "Epoch 2/100\n",
      "685/685 [==============================] - ETA: 0s - loss: 0.7915 - tp: 3222.0000 - fp: 7723.0000 - tn: 3222.0000 - fn: 7723.0000 - accuracy: 0.2944 - precision: 0.2944 - recall: 0.2944 - auc: 0.3344 - prc: 0.4095\n",
      "Epoch 2: loss improved from 0.92608 to 0.79147, saving model to drive/MyDrive/ColabNotebooks/checkpoint/ResNet50-02.hdf5\n",
      "685/685 [==============================] - 333s 480ms/step - loss: 0.7915 - tp: 3222.0000 - fp: 7723.0000 - tn: 3222.0000 - fn: 7723.0000 - accuracy: 0.2944 - precision: 0.2944 - recall: 0.2944 - auc: 0.3344 - prc: 0.4095 - val_loss: 14.2109 - val_tp: 908.0000 - val_fp: 444.0000 - val_tn: 908.0000 - val_fn: 444.0000 - val_accuracy: 0.6716 - val_precision: 0.6716 - val_recall: 0.6716 - val_auc: 0.4832 - val_prc: 0.4689\n",
      "Epoch 3/100\n",
      "685/685 [==============================] - ETA: 0s - loss: 0.7019 - tp: 8383.0000 - fp: 2562.0000 - tn: 8383.0000 - fn: 2562.0000 - accuracy: 0.7659 - precision: 0.7659 - recall: 0.7659 - auc: 0.6674 - prc: 0.5920\n",
      "Epoch 3: loss improved from 0.79147 to 0.70194, saving model to drive/MyDrive/ColabNotebooks/checkpoint/ResNet50-03.hdf5\n",
      "685/685 [==============================] - 327s 474ms/step - loss: 0.7019 - tp: 8383.0000 - fp: 2562.0000 - tn: 8383.0000 - fn: 2562.0000 - accuracy: 0.7659 - precision: 0.7659 - recall: 0.7659 - auc: 0.6674 - prc: 0.5920 - val_loss: 0.7161 - val_tp: 1169.0000 - val_fp: 183.0000 - val_tn: 1169.0000 - val_fn: 183.0000 - val_accuracy: 0.8646 - val_precision: 0.8646 - val_recall: 0.8646 - val_auc: 0.7937 - val_prc: 0.7032\n",
      "Epoch 4/100\n",
      "685/685 [==============================] - ETA: 0s - loss: 0.6619 - tp: 8190.0000 - fp: 2755.0000 - tn: 8190.0000 - fn: 2755.0000 - accuracy: 0.7483 - precision: 0.7483 - recall: 0.7483 - auc: 0.6642 - prc: 0.5895\n",
      "Epoch 4: loss improved from 0.70194 to 0.66186, saving model to drive/MyDrive/ColabNotebooks/checkpoint/ResNet50-04.hdf5\n",
      "685/685 [==============================] - 327s 473ms/step - loss: 0.6619 - tp: 8190.0000 - fp: 2755.0000 - tn: 8190.0000 - fn: 2755.0000 - accuracy: 0.7483 - precision: 0.7483 - recall: 0.7483 - auc: 0.6642 - prc: 0.5895 - val_loss: 0.6626 - val_tp: 1160.0000 - val_fp: 192.0000 - val_tn: 1160.0000 - val_fn: 192.0000 - val_accuracy: 0.8580 - val_precision: 0.8580 - val_recall: 0.8580 - val_auc: 0.8437 - val_prc: 0.7811\n",
      "Epoch 5/100\n",
      "684/685 [============================>.] - ETA: 0s - loss: 0.6850 - tp: 8426.0000 - fp: 2503.0000 - tn: 8426.0000 - fn: 2503.0000 - accuracy: 0.7710 - precision: 0.7710 - recall: 0.7710 - auc: 0.6944 - prc: 0.6142\n",
      "Epoch 5: loss did not improve from 0.66186\n",
      "685/685 [==============================] - 321s 464ms/step - loss: 0.6845 - tp: 8439.0000 - fp: 2506.0000 - tn: 8439.0000 - fn: 2506.0000 - accuracy: 0.7710 - precision: 0.7710 - recall: 0.7710 - auc: 0.6946 - prc: 0.6143 - val_loss: 0.6998 - val_tp: 1120.0000 - val_fp: 232.0000 - val_tn: 1120.0000 - val_fn: 232.0000 - val_accuracy: 0.8284 - val_precision: 0.8284 - val_recall: 0.8284 - val_auc: 0.7803 - val_prc: 0.6905\n",
      "Epoch 6/100\n",
      "685/685 [==============================] - ETA: 0s - loss: 0.6470 - tp: 8568.0000 - fp: 2377.0000 - tn: 8568.0000 - fn: 2377.0000 - accuracy: 0.7828 - precision: 0.7828 - recall: 0.7828 - auc: 0.7246 - prc: 0.6399\n",
      "Epoch 6: loss improved from 0.66186 to 0.64704, saving model to drive/MyDrive/ColabNotebooks/checkpoint/ResNet50-06.hdf5\n",
      "685/685 [==============================] - 321s 464ms/step - loss: 0.6470 - tp: 8568.0000 - fp: 2377.0000 - tn: 8568.0000 - fn: 2377.0000 - accuracy: 0.7828 - precision: 0.7828 - recall: 0.7828 - auc: 0.7246 - prc: 0.6399 - val_loss: 0.8149 - val_tp: 1073.0000 - val_fp: 279.0000 - val_tn: 1073.0000 - val_fn: 279.0000 - val_accuracy: 0.7936 - val_precision: 0.7936 - val_recall: 0.7936 - val_auc: 0.6987 - val_prc: 0.6168\n",
      "Epoch 7/100\n",
      "685/685 [==============================] - ETA: 0s - loss: 0.6351 - tp: 8280.0000 - fp: 2665.0000 - tn: 8280.0000 - fn: 2665.0000 - accuracy: 0.7565 - precision: 0.7565 - recall: 0.7565 - auc: 0.7102 - prc: 0.6280\n",
      "Epoch 7: loss improved from 0.64704 to 0.63511, saving model to drive/MyDrive/ColabNotebooks/checkpoint/ResNet50-07.hdf5\n",
      "685/685 [==============================] - 323s 469ms/step - loss: 0.6351 - tp: 8280.0000 - fp: 2665.0000 - tn: 8280.0000 - fn: 2665.0000 - accuracy: 0.7565 - precision: 0.7565 - recall: 0.7565 - auc: 0.7102 - prc: 0.6280 - val_loss: 0.6353 - val_tp: 1039.0000 - val_fp: 313.0000 - val_tn: 1039.0000 - val_fn: 313.0000 - val_accuracy: 0.7685 - val_precision: 0.7685 - val_recall: 0.7685 - val_auc: 0.7501 - val_prc: 0.6656\n",
      "Epoch 8/100\n",
      "685/685 [==============================] - ETA: 0s - loss: 0.6260 - tp: 8302.0000 - fp: 2643.0000 - tn: 8302.0000 - fn: 2643.0000 - accuracy: 0.7585 - precision: 0.7585 - recall: 0.7585 - auc: 0.7335 - prc: 0.6502\n",
      "Epoch 8: loss improved from 0.63511 to 0.62602, saving model to drive/MyDrive/ColabNotebooks/checkpoint/ResNet50-08.hdf5\n",
      "685/685 [==============================] - 323s 467ms/step - loss: 0.6260 - tp: 8302.0000 - fp: 2643.0000 - tn: 8302.0000 - fn: 2643.0000 - accuracy: 0.7585 - precision: 0.7585 - recall: 0.7585 - auc: 0.7335 - prc: 0.6502 - val_loss: 0.8947 - val_tp: 1009.0000 - val_fp: 343.0000 - val_tn: 1009.0000 - val_fn: 343.0000 - val_accuracy: 0.7463 - val_precision: 0.7463 - val_recall: 0.7463 - val_auc: 0.6564 - val_prc: 0.5832\n",
      "Epoch 9/100\n",
      "685/685 [==============================] - ETA: 0s - loss: 0.6051 - tp: 8103.0000 - fp: 2842.0000 - tn: 8103.0000 - fn: 2842.0000 - accuracy: 0.7403 - precision: 0.7403 - recall: 0.7403 - auc: 0.7178 - prc: 0.6373\n",
      "Epoch 9: loss improved from 0.62602 to 0.60510, saving model to drive/MyDrive/ColabNotebooks/checkpoint/ResNet50-09.hdf5\n",
      "685/685 [==============================] - 322s 464ms/step - loss: 0.6051 - tp: 8103.0000 - fp: 2842.0000 - tn: 8103.0000 - fn: 2842.0000 - accuracy: 0.7403 - precision: 0.7403 - recall: 0.7403 - auc: 0.7178 - prc: 0.6373 - val_loss: 0.6258 - val_tp: 1069.0000 - val_fp: 283.0000 - val_tn: 1069.0000 - val_fn: 283.0000 - val_accuracy: 0.7907 - val_precision: 0.7907 - val_recall: 0.7907 - val_auc: 0.7659 - val_prc: 0.6789\n",
      "Epoch 10/100\n",
      "685/685 [==============================] - ETA: 0s - loss: 0.5982 - tp: 7739.0000 - fp: 3206.0000 - tn: 7739.0000 - fn: 3206.0000 - accuracy: 0.7071 - precision: 0.7071 - recall: 0.7071 - auc: 0.7076 - prc: 0.6319\n",
      "Epoch 10: loss improved from 0.60510 to 0.59817, saving model to drive/MyDrive/ColabNotebooks/checkpoint/ResNet50-10.hdf5\n",
      "685/685 [==============================] - 319s 461ms/step - loss: 0.5982 - tp: 7739.0000 - fp: 3206.0000 - tn: 7739.0000 - fn: 3206.0000 - accuracy: 0.7071 - precision: 0.7071 - recall: 0.7071 - auc: 0.7076 - prc: 0.6319 - val_loss: 0.6412 - val_tp: 924.0000 - val_fp: 428.0000 - val_tn: 924.0000 - val_fn: 428.0000 - val_accuracy: 0.6834 - val_precision: 0.6834 - val_recall: 0.6834 - val_auc: 0.7382 - val_prc: 0.6725\n",
      "Epoch 11/100\n",
      "685/685 [==============================] - ETA: 0s - loss: 0.5839 - tp: 8003.0000 - fp: 2942.0000 - tn: 8003.0000 - fn: 2942.0000 - accuracy: 0.7312 - precision: 0.7312 - recall: 0.7312 - auc: 0.7374 - prc: 0.6601\n",
      "Epoch 11: loss improved from 0.59817 to 0.58387, saving model to drive/MyDrive/ColabNotebooks/checkpoint/ResNet50-11.hdf5\n",
      "685/685 [==============================] - 323s 467ms/step - loss: 0.5839 - tp: 8003.0000 - fp: 2942.0000 - tn: 8003.0000 - fn: 2942.0000 - accuracy: 0.7312 - precision: 0.7312 - recall: 0.7312 - auc: 0.7374 - prc: 0.6601 - val_loss: 0.5770 - val_tp: 1030.0000 - val_fp: 322.0000 - val_tn: 1030.0000 - val_fn: 322.0000 - val_accuracy: 0.7618 - val_precision: 0.7618 - val_recall: 0.7618 - val_auc: 0.8270 - val_prc: 0.7713\n",
      "Epoch 12/100\n",
      "685/685 [==============================] - ETA: 0s - loss: 0.5782 - tp: 7820.0000 - fp: 3125.0000 - tn: 7820.0000 - fn: 3125.0000 - accuracy: 0.7145 - precision: 0.7145 - recall: 0.7145 - auc: 0.7269 - prc: 0.6518\n",
      "Epoch 12: loss improved from 0.58387 to 0.57824, saving model to drive/MyDrive/ColabNotebooks/checkpoint/ResNet50-12.hdf5\n",
      "685/685 [==============================] - 318s 460ms/step - loss: 0.5782 - tp: 7820.0000 - fp: 3125.0000 - tn: 7820.0000 - fn: 3125.0000 - accuracy: 0.7145 - precision: 0.7145 - recall: 0.7145 - auc: 0.7269 - prc: 0.6518 - val_loss: 0.5772 - val_tp: 1090.0000 - val_fp: 262.0000 - val_tn: 1090.0000 - val_fn: 262.0000 - val_accuracy: 0.8062 - val_precision: 0.8062 - val_recall: 0.8062 - val_auc: 0.8302 - val_prc: 0.7552\n",
      "Epoch 13/100\n",
      "685/685 [==============================] - ETA: 0s - loss: 0.5782 - tp: 8051.0000 - fp: 2894.0000 - tn: 8051.0000 - fn: 2894.0000 - accuracy: 0.7356 - precision: 0.7356 - recall: 0.7356 - auc: 0.7480 - prc: 0.6727\n",
      "Epoch 13: loss improved from 0.57824 to 0.57821, saving model to drive/MyDrive/ColabNotebooks/checkpoint/ResNet50-13.hdf5\n",
      "685/685 [==============================] - 319s 462ms/step - loss: 0.5782 - tp: 8051.0000 - fp: 2894.0000 - tn: 8051.0000 - fn: 2894.0000 - accuracy: 0.7356 - precision: 0.7356 - recall: 0.7356 - auc: 0.7480 - prc: 0.6727 - val_loss: 0.5755 - val_tp: 1069.0000 - val_fp: 283.0000 - val_tn: 1069.0000 - val_fn: 283.0000 - val_accuracy: 0.7907 - val_precision: 0.7907 - val_recall: 0.7907 - val_auc: 0.7972 - val_prc: 0.7136\n",
      "Epoch 14/100\n",
      "685/685 [==============================] - ETA: 0s - loss: 0.5882 - tp: 7843.0000 - fp: 3102.0000 - tn: 7843.0000 - fn: 3102.0000 - accuracy: 0.7166 - precision: 0.7166 - recall: 0.7166 - auc: 0.7458 - prc: 0.6731\n",
      "Epoch 14: loss did not improve from 0.57821\n",
      "685/685 [==============================] - 320s 464ms/step - loss: 0.5882 - tp: 7843.0000 - fp: 3102.0000 - tn: 7843.0000 - fn: 3102.0000 - accuracy: 0.7166 - precision: 0.7166 - recall: 0.7166 - auc: 0.7458 - prc: 0.6731 - val_loss: 0.6738 - val_tp: 1024.0000 - val_fp: 328.0000 - val_tn: 1024.0000 - val_fn: 328.0000 - val_accuracy: 0.7574 - val_precision: 0.7574 - val_recall: 0.7574 - val_auc: 0.7655 - val_prc: 0.6838\n",
      "Epoch 15/100\n",
      "685/685 [==============================] - ETA: 0s - loss: 0.5592 - tp: 7985.0000 - fp: 2960.0000 - tn: 7985.0000 - fn: 2960.0000 - accuracy: 0.7296 - precision: 0.7296 - recall: 0.7296 - auc: 0.7570 - prc: 0.6872\n",
      "Epoch 15: loss improved from 0.57821 to 0.55920, saving model to drive/MyDrive/ColabNotebooks/checkpoint/ResNet50-15.hdf5\n",
      "685/685 [==============================] - 317s 459ms/step - loss: 0.5592 - tp: 7985.0000 - fp: 2960.0000 - tn: 7985.0000 - fn: 2960.0000 - accuracy: 0.7296 - precision: 0.7296 - recall: 0.7296 - auc: 0.7570 - prc: 0.6872 - val_loss: 0.7423 - val_tp: 922.0000 - val_fp: 430.0000 - val_tn: 922.0000 - val_fn: 430.0000 - val_accuracy: 0.6820 - val_precision: 0.6820 - val_recall: 0.6820 - val_auc: 0.6749 - val_prc: 0.6033\n",
      "Epoch 16/100\n",
      "685/685 [==============================] - ETA: 0s - loss: 0.5623 - tp: 7860.0000 - fp: 3085.0000 - tn: 7860.0000 - fn: 3085.0000 - accuracy: 0.7181 - precision: 0.7181 - recall: 0.7181 - auc: 0.7749 - prc: 0.7499\n",
      "Epoch 16: loss did not improve from 0.55920\n",
      "685/685 [==============================] - 317s 459ms/step - loss: 0.5623 - tp: 7860.0000 - fp: 3085.0000 - tn: 7860.0000 - fn: 3085.0000 - accuracy: 0.7181 - precision: 0.7181 - recall: 0.7181 - auc: 0.7749 - prc: 0.7499 - val_loss: 0.7526 - val_tp: 829.0000 - val_fp: 523.0000 - val_tn: 829.0000 - val_fn: 523.0000 - val_accuracy: 0.6132 - val_precision: 0.6132 - val_recall: 0.6132 - val_auc: 0.6838 - val_prc: 0.6816\n",
      "Epoch 17/100\n",
      "685/685 [==============================] - ETA: 0s - loss: 0.5302 - tp: 7776.0000 - fp: 3169.0000 - tn: 7776.0000 - fn: 3169.0000 - accuracy: 0.7105 - precision: 0.7105 - recall: 0.7105 - auc: 0.7973 - prc: 0.7953\n",
      "Epoch 17: loss improved from 0.55920 to 0.53015, saving model to drive/MyDrive/ColabNotebooks/checkpoint/ResNet50-17.hdf5\n",
      "685/685 [==============================] - 318s 460ms/step - loss: 0.5302 - tp: 7776.0000 - fp: 3169.0000 - tn: 7776.0000 - fn: 3169.0000 - accuracy: 0.7105 - precision: 0.7105 - recall: 0.7105 - auc: 0.7973 - prc: 0.7953 - val_loss: 0.7339 - val_tp: 948.0000 - val_fp: 404.0000 - val_tn: 948.0000 - val_fn: 404.0000 - val_accuracy: 0.7012 - val_precision: 0.7012 - val_recall: 0.7012 - val_auc: 0.7640 - val_prc: 0.7409\n",
      "Epoch 18/100\n",
      "685/685 [==============================] - ETA: 0s - loss: 0.5200 - tp: 7638.0000 - fp: 3307.0000 - tn: 7638.0000 - fn: 3307.0000 - accuracy: 0.6979 - precision: 0.6979 - recall: 0.6979 - auc: 0.7944 - prc: 0.8005\n",
      "Epoch 18: loss improved from 0.53015 to 0.51999, saving model to drive/MyDrive/ColabNotebooks/checkpoint/ResNet50-18.hdf5\n",
      "685/685 [==============================] - 315s 454ms/step - loss: 0.5200 - tp: 7638.0000 - fp: 3307.0000 - tn: 7638.0000 - fn: 3307.0000 - accuracy: 0.6979 - precision: 0.6979 - recall: 0.6979 - auc: 0.7944 - prc: 0.8005 - val_loss: 0.4929 - val_tp: 1015.0000 - val_fp: 337.0000 - val_tn: 1015.0000 - val_fn: 337.0000 - val_accuracy: 0.7507 - val_precision: 0.7507 - val_recall: 0.7507 - val_auc: 0.8442 - val_prc: 0.8354\n",
      "Epoch 19/100\n",
      "685/685 [==============================] - ETA: 0s - loss: 0.5212 - tp: 7624.0000 - fp: 3321.0000 - tn: 7624.0000 - fn: 3321.0000 - accuracy: 0.6966 - precision: 0.6966 - recall: 0.6966 - auc: 0.7927 - prc: 0.7992\n",
      "Epoch 19: loss did not improve from 0.51999\n",
      "685/685 [==============================] - 317s 458ms/step - loss: 0.5212 - tp: 7624.0000 - fp: 3321.0000 - tn: 7624.0000 - fn: 3321.0000 - accuracy: 0.6966 - precision: 0.6966 - recall: 0.6966 - auc: 0.7927 - prc: 0.7992 - val_loss: 0.4476 - val_tp: 1081.0000 - val_fp: 271.0000 - val_tn: 1081.0000 - val_fn: 271.0000 - val_accuracy: 0.7996 - val_precision: 0.7996 - val_recall: 0.7996 - val_auc: 0.8738 - val_prc: 0.8726\n",
      "Epoch 20/100\n",
      "685/685 [==============================] - ETA: 0s - loss: 0.5198 - tp: 7726.0000 - fp: 3219.0000 - tn: 7726.0000 - fn: 3219.0000 - accuracy: 0.7059 - precision: 0.7059 - recall: 0.7059 - auc: 0.7907 - prc: 0.7904\n",
      "Epoch 20: loss improved from 0.51999 to 0.51984, saving model to drive/MyDrive/ColabNotebooks/checkpoint/ResNet50-20.hdf5\n",
      "685/685 [==============================] - 317s 461ms/step - loss: 0.5198 - tp: 7726.0000 - fp: 3219.0000 - tn: 7726.0000 - fn: 3219.0000 - accuracy: 0.7059 - precision: 0.7059 - recall: 0.7059 - auc: 0.7907 - prc: 0.7904 - val_loss: 0.3576 - val_tp: 1096.0000 - val_fp: 256.0000 - val_tn: 1096.0000 - val_fn: 256.0000 - val_accuracy: 0.8107 - val_precision: 0.8107 - val_recall: 0.8107 - val_auc: 0.9120 - val_prc: 0.9135\n",
      "Epoch 21/100\n",
      "685/685 [==============================] - ETA: 0s - loss: 0.5293 - tp: 7477.0000 - fp: 3468.0000 - tn: 7477.0000 - fn: 3468.0000 - accuracy: 0.6831 - precision: 0.6831 - recall: 0.6831 - auc: 0.7793 - prc: 0.7851\n",
      "Epoch 21: loss did not improve from 0.51984\n",
      "685/685 [==============================] - 314s 454ms/step - loss: 0.5293 - tp: 7477.0000 - fp: 3468.0000 - tn: 7477.0000 - fn: 3468.0000 - accuracy: 0.6831 - precision: 0.6831 - recall: 0.6831 - auc: 0.7793 - prc: 0.7851 - val_loss: 0.6392 - val_tp: 863.0000 - val_fp: 489.0000 - val_tn: 863.0000 - val_fn: 489.0000 - val_accuracy: 0.6383 - val_precision: 0.6383 - val_recall: 0.6383 - val_auc: 0.7761 - val_prc: 0.7850\n",
      "Epoch 22/100\n",
      "685/685 [==============================] - ETA: 0s - loss: 0.5068 - tp: 7700.0000 - fp: 3245.0000 - tn: 7700.0000 - fn: 3245.0000 - accuracy: 0.7035 - precision: 0.7035 - recall: 0.7035 - auc: 0.8076 - prc: 0.8132\n",
      "Epoch 22: loss improved from 0.51984 to 0.50684, saving model to drive/MyDrive/ColabNotebooks/checkpoint/ResNet50-22.hdf5\n",
      "685/685 [==============================] - 314s 455ms/step - loss: 0.5068 - tp: 7700.0000 - fp: 3245.0000 - tn: 7700.0000 - fn: 3245.0000 - accuracy: 0.7035 - precision: 0.7035 - recall: 0.7035 - auc: 0.8076 - prc: 0.8132 - val_loss: 0.7294 - val_tp: 829.0000 - val_fp: 523.0000 - val_tn: 829.0000 - val_fn: 523.0000 - val_accuracy: 0.6132 - val_precision: 0.6132 - val_recall: 0.6132 - val_auc: 0.7107 - val_prc: 0.7167\n",
      "Epoch 23/100\n",
      "685/685 [==============================] - ETA: 0s - loss: 0.4819 - tp: 7796.0000 - fp: 3149.0000 - tn: 7796.0000 - fn: 3149.0000 - accuracy: 0.7123 - precision: 0.7123 - recall: 0.7123 - auc: 0.8131 - prc: 0.8191\n",
      "Epoch 23: loss improved from 0.50684 to 0.48195, saving model to drive/MyDrive/ColabNotebooks/checkpoint/ResNet50-23.hdf5\n",
      "685/685 [==============================] - 316s 459ms/step - loss: 0.4819 - tp: 7796.0000 - fp: 3149.0000 - tn: 7796.0000 - fn: 3149.0000 - accuracy: 0.7123 - precision: 0.7123 - recall: 0.7123 - auc: 0.8131 - prc: 0.8191 - val_loss: 0.6084 - val_tp: 938.0000 - val_fp: 414.0000 - val_tn: 938.0000 - val_fn: 414.0000 - val_accuracy: 0.6938 - val_precision: 0.6938 - val_recall: 0.6938 - val_auc: 0.8055 - val_prc: 0.8029\n",
      "Epoch 24/100\n",
      "685/685 [==============================] - ETA: 0s - loss: 0.4803 - tp: 7944.0000 - fp: 3001.0000 - tn: 7944.0000 - fn: 3001.0000 - accuracy: 0.7258 - precision: 0.7258 - recall: 0.7258 - auc: 0.8244 - prc: 0.8284\n",
      "Epoch 24: loss improved from 0.48195 to 0.48033, saving model to drive/MyDrive/ColabNotebooks/checkpoint/ResNet50-24.hdf5\n",
      "685/685 [==============================] - 317s 459ms/step - loss: 0.4803 - tp: 7944.0000 - fp: 3001.0000 - tn: 7944.0000 - fn: 3001.0000 - accuracy: 0.7258 - precision: 0.7258 - recall: 0.7258 - auc: 0.8244 - prc: 0.8284 - val_loss: 1.1274 - val_tp: 584.0000 - val_fp: 768.0000 - val_tn: 584.0000 - val_fn: 768.0000 - val_accuracy: 0.4320 - val_precision: 0.4320 - val_recall: 0.4320 - val_auc: 0.3738 - val_prc: 0.4127\n",
      "Epoch 25/100\n",
      "685/685 [==============================] - ETA: 0s - loss: 0.4867 - tp: 7699.0000 - fp: 3246.0000 - tn: 7699.0000 - fn: 3246.0000 - accuracy: 0.7034 - precision: 0.7034 - recall: 0.7034 - auc: 0.8067 - prc: 0.8120\n",
      "Epoch 25: loss did not improve from 0.48033\n",
      "685/685 [==============================] - 318s 460ms/step - loss: 0.4867 - tp: 7699.0000 - fp: 3246.0000 - tn: 7699.0000 - fn: 3246.0000 - accuracy: 0.7034 - precision: 0.7034 - recall: 0.7034 - auc: 0.8067 - prc: 0.8120 - val_loss: 0.3669 - val_tp: 1128.0000 - val_fp: 224.0000 - val_tn: 1128.0000 - val_fn: 224.0000 - val_accuracy: 0.8343 - val_precision: 0.8343 - val_recall: 0.8343 - val_auc: 0.9150 - val_prc: 0.9117\n",
      "Epoch 26/100\n",
      "685/685 [==============================] - ETA: 0s - loss: 0.4840 - tp: 7848.0000 - fp: 3097.0000 - tn: 7848.0000 - fn: 3097.0000 - accuracy: 0.7170 - precision: 0.7170 - recall: 0.7170 - auc: 0.8202 - prc: 0.8265\n",
      "Epoch 26: loss did not improve from 0.48033\n",
      "685/685 [==============================] - 314s 454ms/step - loss: 0.4840 - tp: 7848.0000 - fp: 3097.0000 - tn: 7848.0000 - fn: 3097.0000 - accuracy: 0.7170 - precision: 0.7170 - recall: 0.7170 - auc: 0.8202 - prc: 0.8265 - val_loss: 0.3424 - val_tp: 1162.0000 - val_fp: 190.0000 - val_tn: 1162.0000 - val_fn: 190.0000 - val_accuracy: 0.8595 - val_precision: 0.8595 - val_recall: 0.8595 - val_auc: 0.9286 - val_prc: 0.9235\n",
      "Epoch 27/100\n",
      "685/685 [==============================] - ETA: 0s - loss: 0.4714 - tp: 7852.0000 - fp: 3093.0000 - tn: 7852.0000 - fn: 3093.0000 - accuracy: 0.7174 - precision: 0.7174 - recall: 0.7174 - auc: 0.8217 - prc: 0.8286\n",
      "Epoch 27: loss improved from 0.48033 to 0.47136, saving model to drive/MyDrive/ColabNotebooks/checkpoint/ResNet50-27.hdf5\n",
      "685/685 [==============================] - 315s 456ms/step - loss: 0.4714 - tp: 7852.0000 - fp: 3093.0000 - tn: 7852.0000 - fn: 3093.0000 - accuracy: 0.7174 - precision: 0.7174 - recall: 0.7174 - auc: 0.8217 - prc: 0.8286 - val_loss: 0.4000 - val_tp: 1099.0000 - val_fp: 253.0000 - val_tn: 1099.0000 - val_fn: 253.0000 - val_accuracy: 0.8129 - val_precision: 0.8129 - val_recall: 0.8129 - val_auc: 0.8990 - val_prc: 0.8943\n",
      "Epoch 28/100\n",
      "685/685 [==============================] - ETA: 0s - loss: 0.4783 - tp: 7914.0000 - fp: 3031.0000 - tn: 7914.0000 - fn: 3031.0000 - accuracy: 0.7231 - precision: 0.7231 - recall: 0.7231 - auc: 0.8251 - prc: 0.8284\n",
      "Epoch 28: loss did not improve from 0.47136\n",
      "685/685 [==============================] - 318s 459ms/step - loss: 0.4783 - tp: 7914.0000 - fp: 3031.0000 - tn: 7914.0000 - fn: 3031.0000 - accuracy: 0.7231 - precision: 0.7231 - recall: 0.7231 - auc: 0.8251 - prc: 0.8284 - val_loss: 0.4391 - val_tp: 1041.0000 - val_fp: 311.0000 - val_tn: 1041.0000 - val_fn: 311.0000 - val_accuracy: 0.7700 - val_precision: 0.7700 - val_recall: 0.7700 - val_auc: 0.8783 - val_prc: 0.8755\n",
      "Epoch 29/100\n",
      "685/685 [==============================] - ETA: 0s - loss: 0.4930 - tp: 7864.0000 - fp: 3081.0000 - tn: 7864.0000 - fn: 3081.0000 - accuracy: 0.7185 - precision: 0.7185 - recall: 0.7185 - auc: 0.8186 - prc: 0.8232\n",
      "Epoch 29: loss did not improve from 0.47136\n",
      "685/685 [==============================] - 316s 459ms/step - loss: 0.4930 - tp: 7864.0000 - fp: 3081.0000 - tn: 7864.0000 - fn: 3081.0000 - accuracy: 0.7185 - precision: 0.7185 - recall: 0.7185 - auc: 0.8186 - prc: 0.8232 - val_loss: 0.3862 - val_tp: 1092.0000 - val_fp: 260.0000 - val_tn: 1092.0000 - val_fn: 260.0000 - val_accuracy: 0.8077 - val_precision: 0.8077 - val_recall: 0.8077 - val_auc: 0.8970 - val_prc: 0.8957\n",
      "Epoch 30/100\n",
      "685/685 [==============================] - ETA: 0s - loss: 0.4578 - tp: 8092.0000 - fp: 2853.0000 - tn: 8092.0000 - fn: 2853.0000 - accuracy: 0.7393 - precision: 0.7393 - recall: 0.7393 - auc: 0.8391 - prc: 0.8432\n",
      "Epoch 30: loss improved from 0.47136 to 0.45785, saving model to drive/MyDrive/ColabNotebooks/checkpoint/ResNet50-30.hdf5\n",
      "685/685 [==============================] - 317s 459ms/step - loss: 0.4578 - tp: 8092.0000 - fp: 2853.0000 - tn: 8092.0000 - fn: 2853.0000 - accuracy: 0.7393 - precision: 0.7393 - recall: 0.7393 - auc: 0.8391 - prc: 0.8432 - val_loss: 0.3787 - val_tp: 1091.0000 - val_fp: 261.0000 - val_tn: 1091.0000 - val_fn: 261.0000 - val_accuracy: 0.8070 - val_precision: 0.8070 - val_recall: 0.8070 - val_auc: 0.9017 - val_prc: 0.9027\n",
      "Epoch 31/100\n",
      "685/685 [==============================] - ETA: 0s - loss: 0.4635 - tp: 8075.0000 - fp: 2870.0000 - tn: 8075.0000 - fn: 2870.0000 - accuracy: 0.7378 - precision: 0.7378 - recall: 0.7378 - auc: 0.8366 - prc: 0.8395\n",
      "Epoch 31: loss did not improve from 0.45785\n",
      "685/685 [==============================] - 315s 456ms/step - loss: 0.4635 - tp: 8075.0000 - fp: 2870.0000 - tn: 8075.0000 - fn: 2870.0000 - accuracy: 0.7378 - precision: 0.7378 - recall: 0.7378 - auc: 0.8366 - prc: 0.8395 - val_loss: 0.4405 - val_tp: 1113.0000 - val_fp: 239.0000 - val_tn: 1113.0000 - val_fn: 239.0000 - val_accuracy: 0.8232 - val_precision: 0.8232 - val_recall: 0.8232 - val_auc: 0.8882 - val_prc: 0.8806\n",
      "Epoch 32/100\n",
      "685/685 [==============================] - ETA: 0s - loss: 0.4697 - tp: 7937.0000 - fp: 3008.0000 - tn: 7937.0000 - fn: 3008.0000 - accuracy: 0.7252 - precision: 0.7252 - recall: 0.7252 - auc: 0.8300 - prc: 0.8363\n",
      "Epoch 32: loss did not improve from 0.45785\n",
      "685/685 [==============================] - 319s 459ms/step - loss: 0.4697 - tp: 7937.0000 - fp: 3008.0000 - tn: 7937.0000 - fn: 3008.0000 - accuracy: 0.7252 - precision: 0.7252 - recall: 0.7252 - auc: 0.8300 - prc: 0.8363 - val_loss: 0.3463 - val_tp: 1176.0000 - val_fp: 176.0000 - val_tn: 1176.0000 - val_fn: 176.0000 - val_accuracy: 0.8698 - val_precision: 0.8698 - val_recall: 0.8698 - val_auc: 0.9360 - val_prc: 0.9350\n",
      "Epoch 33/100\n",
      "685/685 [==============================] - ETA: 0s - loss: 0.4562 - tp: 8056.0000 - fp: 2889.0000 - tn: 8056.0000 - fn: 2889.0000 - accuracy: 0.7360 - precision: 0.7360 - recall: 0.7360 - auc: 0.8368 - prc: 0.8395\n",
      "Epoch 33: loss improved from 0.45785 to 0.45618, saving model to drive/MyDrive/ColabNotebooks/checkpoint/ResNet50-33.hdf5\n",
      "685/685 [==============================] - 316s 457ms/step - loss: 0.4562 - tp: 8056.0000 - fp: 2889.0000 - tn: 8056.0000 - fn: 2889.0000 - accuracy: 0.7360 - precision: 0.7360 - recall: 0.7360 - auc: 0.8368 - prc: 0.8395 - val_loss: 0.4511 - val_tp: 1075.0000 - val_fp: 277.0000 - val_tn: 1075.0000 - val_fn: 277.0000 - val_accuracy: 0.7951 - val_precision: 0.7951 - val_recall: 0.7951 - val_auc: 0.8880 - val_prc: 0.8846\n",
      "Epoch 34/100\n",
      "685/685 [==============================] - ETA: 0s - loss: 0.4840 - tp: 8123.0000 - fp: 2822.0000 - tn: 8123.0000 - fn: 2822.0000 - accuracy: 0.7422 - precision: 0.7422 - recall: 0.7422 - auc: 0.8356 - prc: 0.8368\n",
      "Epoch 34: loss did not improve from 0.45618\n",
      "685/685 [==============================] - 315s 458ms/step - loss: 0.4840 - tp: 8123.0000 - fp: 2822.0000 - tn: 8123.0000 - fn: 2822.0000 - accuracy: 0.7422 - precision: 0.7422 - recall: 0.7422 - auc: 0.8356 - prc: 0.8368 - val_loss: 0.4090 - val_tp: 1069.0000 - val_fp: 283.0000 - val_tn: 1069.0000 - val_fn: 283.0000 - val_accuracy: 0.7907 - val_precision: 0.7907 - val_recall: 0.7907 - val_auc: 0.8882 - val_prc: 0.8854\n",
      "Epoch 35/100\n",
      "685/685 [==============================] - ETA: 0s - loss: 0.4532 - tp: 8155.0000 - fp: 2790.0000 - tn: 8155.0000 - fn: 2790.0000 - accuracy: 0.7451 - precision: 0.7451 - recall: 0.7451 - auc: 0.8464 - prc: 0.8496\n",
      "Epoch 35: loss improved from 0.45618 to 0.45322, saving model to drive/MyDrive/ColabNotebooks/checkpoint/ResNet50-35.hdf5\n",
      "685/685 [==============================] - 317s 460ms/step - loss: 0.4532 - tp: 8155.0000 - fp: 2790.0000 - tn: 8155.0000 - fn: 2790.0000 - accuracy: 0.7451 - precision: 0.7451 - recall: 0.7451 - auc: 0.8464 - prc: 0.8496 - val_loss: 0.3478 - val_tp: 1109.0000 - val_fp: 243.0000 - val_tn: 1109.0000 - val_fn: 243.0000 - val_accuracy: 0.8203 - val_precision: 0.8203 - val_recall: 0.8203 - val_auc: 0.9183 - val_prc: 0.9178\n",
      "Epoch 36/100\n",
      "685/685 [==============================] - ETA: 0s - loss: 0.4589 - tp: 8190.0000 - fp: 2755.0000 - tn: 8190.0000 - fn: 2755.0000 - accuracy: 0.7483 - precision: 0.7483 - recall: 0.7483 - auc: 0.8514 - prc: 0.8536\n",
      "Epoch 36: loss did not improve from 0.45322\n",
      "685/685 [==============================] - 320s 463ms/step - loss: 0.4589 - tp: 8190.0000 - fp: 2755.0000 - tn: 8190.0000 - fn: 2755.0000 - accuracy: 0.7483 - precision: 0.7483 - recall: 0.7483 - auc: 0.8514 - prc: 0.8536 - val_loss: 0.7134 - val_tp: 862.0000 - val_fp: 490.0000 - val_tn: 862.0000 - val_fn: 490.0000 - val_accuracy: 0.6376 - val_precision: 0.6376 - val_recall: 0.6376 - val_auc: 0.7061 - val_prc: 0.6908\n",
      "Epoch 37/100\n",
      "685/685 [==============================] - ETA: 0s - loss: 0.4363 - tp: 8293.0000 - fp: 2652.0000 - tn: 8293.0000 - fn: 2652.0000 - accuracy: 0.7577 - precision: 0.7577 - recall: 0.7577 - auc: 0.8513 - prc: 0.8523\n",
      "Epoch 37: loss improved from 0.45322 to 0.43633, saving model to drive/MyDrive/ColabNotebooks/checkpoint/ResNet50-37.hdf5\n",
      "685/685 [==============================] - 318s 462ms/step - loss: 0.4363 - tp: 8293.0000 - fp: 2652.0000 - tn: 8293.0000 - fn: 2652.0000 - accuracy: 0.7577 - precision: 0.7577 - recall: 0.7577 - auc: 0.8513 - prc: 0.8523 - val_loss: 0.4032 - val_tp: 1066.0000 - val_fp: 286.0000 - val_tn: 1066.0000 - val_fn: 286.0000 - val_accuracy: 0.7885 - val_precision: 0.7885 - val_recall: 0.7885 - val_auc: 0.8902 - val_prc: 0.8920\n",
      "Epoch 38/100\n",
      "685/685 [==============================] - ETA: 0s - loss: 0.4521 - tp: 8281.0000 - fp: 2664.0000 - tn: 8281.0000 - fn: 2664.0000 - accuracy: 0.7566 - precision: 0.7566 - recall: 0.7566 - auc: 0.8550 - prc: 0.8550\n",
      "Epoch 38: loss did not improve from 0.43633\n",
      "685/685 [==============================] - 318s 459ms/step - loss: 0.4521 - tp: 8281.0000 - fp: 2664.0000 - tn: 8281.0000 - fn: 2664.0000 - accuracy: 0.7566 - precision: 0.7566 - recall: 0.7566 - auc: 0.8550 - prc: 0.8550 - val_loss: 0.3001 - val_tp: 1172.0000 - val_fp: 180.0000 - val_tn: 1172.0000 - val_fn: 180.0000 - val_accuracy: 0.8669 - val_precision: 0.8669 - val_recall: 0.8669 - val_auc: 0.9452 - val_prc: 0.9406\n",
      "Epoch 39/100\n",
      "685/685 [==============================] - ETA: 0s - loss: 0.4258 - tp: 8269.0000 - fp: 2676.0000 - tn: 8269.0000 - fn: 2676.0000 - accuracy: 0.7555 - precision: 0.7555 - recall: 0.7555 - auc: 0.8593 - prc: 0.8607\n",
      "Epoch 39: loss improved from 0.43633 to 0.42581, saving model to drive/MyDrive/ColabNotebooks/checkpoint/ResNet50-39.hdf5\n",
      "685/685 [==============================] - 321s 464ms/step - loss: 0.4258 - tp: 8269.0000 - fp: 2676.0000 - tn: 8269.0000 - fn: 2676.0000 - accuracy: 0.7555 - precision: 0.7555 - recall: 0.7555 - auc: 0.8593 - prc: 0.8607 - val_loss: 0.4150 - val_tp: 1042.0000 - val_fp: 310.0000 - val_tn: 1042.0000 - val_fn: 310.0000 - val_accuracy: 0.7707 - val_precision: 0.7707 - val_recall: 0.7707 - val_auc: 0.8856 - val_prc: 0.8891\n",
      "Epoch 40/100\n",
      "685/685 [==============================] - ETA: 0s - loss: 0.4026 - tp: 8436.0000 - fp: 2509.0000 - tn: 8436.0000 - fn: 2509.0000 - accuracy: 0.7708 - precision: 0.7708 - recall: 0.7708 - auc: 0.8745 - prc: 0.8755\n",
      "Epoch 40: loss improved from 0.42581 to 0.40256, saving model to drive/MyDrive/ColabNotebooks/checkpoint/ResNet50-40.hdf5\n",
      "685/685 [==============================] - 319s 460ms/step - loss: 0.4026 - tp: 8436.0000 - fp: 2509.0000 - tn: 8436.0000 - fn: 2509.0000 - accuracy: 0.7708 - precision: 0.7708 - recall: 0.7708 - auc: 0.8745 - prc: 0.8755 - val_loss: 5.3452 - val_tp: 507.0000 - val_fp: 845.0000 - val_tn: 507.0000 - val_fn: 845.0000 - val_accuracy: 0.3750 - val_precision: 0.3750 - val_recall: 0.3750 - val_auc: 0.2814 - val_prc: 0.3713\n",
      "Epoch 41/100\n",
      "685/685 [==============================] - ETA: 0s - loss: 0.4067 - tp: 8523.0000 - fp: 2422.0000 - tn: 8523.0000 - fn: 2422.0000 - accuracy: 0.7787 - precision: 0.7787 - recall: 0.7787 - auc: 0.8769 - prc: 0.8770\n",
      "Epoch 41: loss did not improve from 0.40256\n",
      "685/685 [==============================] - 316s 457ms/step - loss: 0.4067 - tp: 8523.0000 - fp: 2422.0000 - tn: 8523.0000 - fn: 2422.0000 - accuracy: 0.7787 - precision: 0.7787 - recall: 0.7787 - auc: 0.8769 - prc: 0.8770 - val_loss: 0.3880 - val_tp: 1057.0000 - val_fp: 295.0000 - val_tn: 1057.0000 - val_fn: 295.0000 - val_accuracy: 0.7818 - val_precision: 0.7818 - val_recall: 0.7818 - val_auc: 0.8946 - val_prc: 0.8979\n",
      "Epoch 42/100\n",
      "685/685 [==============================] - ETA: 0s - loss: 0.3932 - tp: 8713.0000 - fp: 2232.0000 - tn: 8713.0000 - fn: 2232.0000 - accuracy: 0.7961 - precision: 0.7961 - recall: 0.7961 - auc: 0.8905 - prc: 0.8889\n",
      "Epoch 42: loss improved from 0.40256 to 0.39322, saving model to drive/MyDrive/ColabNotebooks/checkpoint/ResNet50-42.hdf5\n",
      "685/685 [==============================] - 320s 462ms/step - loss: 0.3932 - tp: 8713.0000 - fp: 2232.0000 - tn: 8713.0000 - fn: 2232.0000 - accuracy: 0.7961 - precision: 0.7961 - recall: 0.7961 - auc: 0.8905 - prc: 0.8889 - val_loss: 0.4225 - val_tp: 1065.0000 - val_fp: 287.0000 - val_tn: 1065.0000 - val_fn: 287.0000 - val_accuracy: 0.7877 - val_precision: 0.7877 - val_recall: 0.7877 - val_auc: 0.8874 - val_prc: 0.8852\n",
      "Epoch 43/100\n",
      "685/685 [==============================] - ETA: 0s - loss: 0.3971 - tp: 8592.0000 - fp: 2353.0000 - tn: 8592.0000 - fn: 2353.0000 - accuracy: 0.7850 - precision: 0.7850 - recall: 0.7850 - auc: 0.8784 - prc: 0.8753\n",
      "Epoch 43: loss did not improve from 0.39322\n",
      "685/685 [==============================] - 319s 464ms/step - loss: 0.3971 - tp: 8592.0000 - fp: 2353.0000 - tn: 8592.0000 - fn: 2353.0000 - accuracy: 0.7850 - precision: 0.7850 - recall: 0.7850 - auc: 0.8784 - prc: 0.8753 - val_loss: 0.2754 - val_tp: 1184.0000 - val_fp: 168.0000 - val_tn: 1184.0000 - val_fn: 168.0000 - val_accuracy: 0.8757 - val_precision: 0.8757 - val_recall: 0.8757 - val_auc: 0.9562 - val_prc: 0.9559\n",
      "Epoch 44/100\n",
      "685/685 [==============================] - ETA: 0s - loss: 0.3687 - tp: 8845.0000 - fp: 2100.0000 - tn: 8845.0000 - fn: 2100.0000 - accuracy: 0.8081 - precision: 0.8081 - recall: 0.8081 - auc: 0.8973 - prc: 0.8946\n",
      "Epoch 44: loss improved from 0.39322 to 0.36873, saving model to drive/MyDrive/ColabNotebooks/checkpoint/ResNet50-44.hdf5\n",
      "685/685 [==============================] - 315s 457ms/step - loss: 0.3687 - tp: 8845.0000 - fp: 2100.0000 - tn: 8845.0000 - fn: 2100.0000 - accuracy: 0.8081 - precision: 0.8081 - recall: 0.8081 - auc: 0.8973 - prc: 0.8946 - val_loss: 0.5772 - val_tp: 964.0000 - val_fp: 388.0000 - val_tn: 964.0000 - val_fn: 388.0000 - val_accuracy: 0.7130 - val_precision: 0.7130 - val_recall: 0.7130 - val_auc: 0.8077 - val_prc: 0.8073\n",
      "Epoch 45/100\n",
      "685/685 [==============================] - ETA: 0s - loss: 0.4247 - tp: 8725.0000 - fp: 2220.0000 - tn: 8725.0000 - fn: 2220.0000 - accuracy: 0.7972 - precision: 0.7972 - recall: 0.7972 - auc: 0.8865 - prc: 0.8804\n",
      "Epoch 45: loss did not improve from 0.36873\n",
      "685/685 [==============================] - 315s 456ms/step - loss: 0.4247 - tp: 8725.0000 - fp: 2220.0000 - tn: 8725.0000 - fn: 2220.0000 - accuracy: 0.7972 - precision: 0.7972 - recall: 0.7972 - auc: 0.8865 - prc: 0.8804 - val_loss: 0.3596 - val_tp: 1145.0000 - val_fp: 207.0000 - val_tn: 1145.0000 - val_fn: 207.0000 - val_accuracy: 0.8469 - val_precision: 0.8469 - val_recall: 0.8469 - val_auc: 0.9264 - val_prc: 0.9175\n",
      "Epoch 46/100\n",
      "685/685 [==============================] - ETA: 0s - loss: 0.4034 - tp: 8742.0000 - fp: 2203.0000 - tn: 8742.0000 - fn: 2203.0000 - accuracy: 0.7987 - precision: 0.7987 - recall: 0.7987 - auc: 0.8876 - prc: 0.8834\n",
      "Epoch 46: loss did not improve from 0.36873\n",
      "685/685 [==============================] - 319s 458ms/step - loss: 0.4034 - tp: 8742.0000 - fp: 2203.0000 - tn: 8742.0000 - fn: 2203.0000 - accuracy: 0.7987 - precision: 0.7987 - recall: 0.7987 - auc: 0.8876 - prc: 0.8834 - val_loss: 0.5267 - val_tp: 1024.0000 - val_fp: 328.0000 - val_tn: 1024.0000 - val_fn: 328.0000 - val_accuracy: 0.7574 - val_precision: 0.7574 - val_recall: 0.7574 - val_auc: 0.8477 - val_prc: 0.8394\n",
      "Epoch 47/100\n",
      "685/685 [==============================] - ETA: 0s - loss: 0.3617 - tp: 8965.0000 - fp: 1980.0000 - tn: 8965.0000 - fn: 1980.0000 - accuracy: 0.8191 - precision: 0.8191 - recall: 0.8191 - auc: 0.9074 - prc: 0.9045\n",
      "Epoch 47: loss improved from 0.36873 to 0.36168, saving model to drive/MyDrive/ColabNotebooks/checkpoint/ResNet50-47.hdf5\n",
      "685/685 [==============================] - 316s 456ms/step - loss: 0.3617 - tp: 8965.0000 - fp: 1980.0000 - tn: 8965.0000 - fn: 1980.0000 - accuracy: 0.8191 - precision: 0.8191 - recall: 0.8191 - auc: 0.9074 - prc: 0.9045 - val_loss: 0.4727 - val_tp: 1073.0000 - val_fp: 279.0000 - val_tn: 1073.0000 - val_fn: 279.0000 - val_accuracy: 0.7936 - val_precision: 0.7936 - val_recall: 0.7936 - val_auc: 0.8800 - val_prc: 0.8669\n",
      "Epoch 48/100\n",
      "685/685 [==============================] - ETA: 0s - loss: 0.3500 - tp: 8983.0000 - fp: 1962.0000 - tn: 8983.0000 - fn: 1962.0000 - accuracy: 0.8207 - precision: 0.8207 - recall: 0.8207 - auc: 0.9103 - prc: 0.9070\n",
      "Epoch 48: loss improved from 0.36168 to 0.35003, saving model to drive/MyDrive/ColabNotebooks/checkpoint/ResNet50-48.hdf5\n",
      "685/685 [==============================] - 316s 458ms/step - loss: 0.3500 - tp: 8983.0000 - fp: 1962.0000 - tn: 8983.0000 - fn: 1962.0000 - accuracy: 0.8207 - precision: 0.8207 - recall: 0.8207 - auc: 0.9103 - prc: 0.9070 - val_loss: 0.3227 - val_tp: 1165.0000 - val_fp: 187.0000 - val_tn: 1165.0000 - val_fn: 187.0000 - val_accuracy: 0.8617 - val_precision: 0.8617 - val_recall: 0.8617 - val_auc: 0.9327 - val_prc: 0.9260\n",
      "Epoch 49/100\n",
      "685/685 [==============================] - ETA: 0s - loss: 0.3528 - tp: 9002.0000 - fp: 1943.0000 - tn: 9002.0000 - fn: 1943.0000 - accuracy: 0.8225 - precision: 0.8225 - recall: 0.8225 - auc: 0.9135 - prc: 0.9096\n",
      "Epoch 49: loss did not improve from 0.35003\n",
      "685/685 [==============================] - 316s 458ms/step - loss: 0.3528 - tp: 9002.0000 - fp: 1943.0000 - tn: 9002.0000 - fn: 1943.0000 - accuracy: 0.8225 - precision: 0.8225 - recall: 0.8225 - auc: 0.9135 - prc: 0.9096 - val_loss: 0.5041 - val_tp: 1086.0000 - val_fp: 266.0000 - val_tn: 1086.0000 - val_fn: 266.0000 - val_accuracy: 0.8033 - val_precision: 0.8033 - val_recall: 0.8033 - val_auc: 0.8668 - val_prc: 0.8520\n",
      "Epoch 50/100\n",
      "685/685 [==============================] - ETA: 0s - loss: 0.3175 - tp: 9152.0000 - fp: 1793.0000 - tn: 9152.0000 - fn: 1793.0000 - accuracy: 0.8362 - precision: 0.8362 - recall: 0.8362 - auc: 0.9217 - prc: 0.9181\n",
      "Epoch 50: loss improved from 0.35003 to 0.31751, saving model to drive/MyDrive/ColabNotebooks/checkpoint/ResNet50-50.hdf5\n",
      "685/685 [==============================] - 319s 461ms/step - loss: 0.3175 - tp: 9152.0000 - fp: 1793.0000 - tn: 9152.0000 - fn: 1793.0000 - accuracy: 0.8362 - precision: 0.8362 - recall: 0.8362 - auc: 0.9217 - prc: 0.9181 - val_loss: 0.3656 - val_tp: 1148.0000 - val_fp: 204.0000 - val_tn: 1148.0000 - val_fn: 204.0000 - val_accuracy: 0.8491 - val_precision: 0.8491 - val_recall: 0.8491 - val_auc: 0.9271 - val_prc: 0.9195\n",
      "Epoch 51/100\n",
      "685/685 [==============================] - ETA: 0s - loss: 0.3121 - tp: 9301.0000 - fp: 1644.0000 - tn: 9301.0000 - fn: 1644.0000 - accuracy: 0.8498 - precision: 0.8498 - recall: 0.8498 - auc: 0.9290 - prc: 0.9240\n",
      "Epoch 51: loss improved from 0.31751 to 0.31210, saving model to drive/MyDrive/ColabNotebooks/checkpoint/ResNet50-51.hdf5\n",
      "685/685 [==============================] - 316s 460ms/step - loss: 0.3121 - tp: 9301.0000 - fp: 1644.0000 - tn: 9301.0000 - fn: 1644.0000 - accuracy: 0.8498 - precision: 0.8498 - recall: 0.8498 - auc: 0.9290 - prc: 0.9240 - val_loss: 0.4153 - val_tp: 1126.0000 - val_fp: 226.0000 - val_tn: 1126.0000 - val_fn: 226.0000 - val_accuracy: 0.8328 - val_precision: 0.8328 - val_recall: 0.8328 - val_auc: 0.9085 - val_prc: 0.8971\n",
      "Epoch 52/100\n",
      "685/685 [==============================] - ETA: 0s - loss: 0.3081 - tp: 9283.0000 - fp: 1662.0000 - tn: 9283.0000 - fn: 1662.0000 - accuracy: 0.8481 - precision: 0.8481 - recall: 0.8481 - auc: 0.9285 - prc: 0.9240\n",
      "Epoch 52: loss improved from 0.31210 to 0.30808, saving model to drive/MyDrive/ColabNotebooks/checkpoint/ResNet50-52.hdf5\n",
      "685/685 [==============================] - 318s 460ms/step - loss: 0.3081 - tp: 9283.0000 - fp: 1662.0000 - tn: 9283.0000 - fn: 1662.0000 - accuracy: 0.8481 - precision: 0.8481 - recall: 0.8481 - auc: 0.9285 - prc: 0.9240 - val_loss: 0.2719 - val_tp: 1191.0000 - val_fp: 161.0000 - val_tn: 1191.0000 - val_fn: 161.0000 - val_accuracy: 0.8809 - val_precision: 0.8809 - val_recall: 0.8809 - val_auc: 0.9488 - val_prc: 0.9418\n",
      "Epoch 53/100\n",
      "685/685 [==============================] - ETA: 0s - loss: 0.3044 - tp: 9358.0000 - fp: 1587.0000 - tn: 9358.0000 - fn: 1587.0000 - accuracy: 0.8550 - precision: 0.8550 - recall: 0.8550 - auc: 0.9317 - prc: 0.9267\n",
      "Epoch 53: loss improved from 0.30808 to 0.30435, saving model to drive/MyDrive/ColabNotebooks/checkpoint/ResNet50-53.hdf5\n",
      "685/685 [==============================] - 320s 463ms/step - loss: 0.3044 - tp: 9358.0000 - fp: 1587.0000 - tn: 9358.0000 - fn: 1587.0000 - accuracy: 0.8550 - precision: 0.8550 - recall: 0.8550 - auc: 0.9317 - prc: 0.9267 - val_loss: 0.2225 - val_tp: 1203.0000 - val_fp: 149.0000 - val_tn: 1203.0000 - val_fn: 149.0000 - val_accuracy: 0.8898 - val_precision: 0.8898 - val_recall: 0.8898 - val_auc: 0.9664 - val_prc: 0.9638\n",
      "Epoch 54/100\n",
      "685/685 [==============================] - ETA: 0s - loss: 0.3546 - tp: 9317.0000 - fp: 1628.0000 - tn: 9317.0000 - fn: 1628.0000 - accuracy: 0.8513 - precision: 0.8513 - recall: 0.8513 - auc: 0.9250 - prc: 0.9163\n",
      "Epoch 54: loss did not improve from 0.30435\n",
      "685/685 [==============================] - 316s 459ms/step - loss: 0.3546 - tp: 9317.0000 - fp: 1628.0000 - tn: 9317.0000 - fn: 1628.0000 - accuracy: 0.8513 - precision: 0.8513 - recall: 0.8513 - auc: 0.9250 - prc: 0.9163 - val_loss: 0.2459 - val_tp: 1218.0000 - val_fp: 134.0000 - val_tn: 1218.0000 - val_fn: 134.0000 - val_accuracy: 0.9009 - val_precision: 0.9009 - val_recall: 0.9009 - val_auc: 0.9601 - val_prc: 0.9542\n",
      "Epoch 55/100\n",
      "685/685 [==============================] - ETA: 0s - loss: 0.2921 - tp: 9467.0000 - fp: 1478.0000 - tn: 9467.0000 - fn: 1478.0000 - accuracy: 0.8650 - precision: 0.8650 - recall: 0.8650 - auc: 0.9381 - prc: 0.9324\n",
      "Epoch 55: loss improved from 0.30435 to 0.29212, saving model to drive/MyDrive/ColabNotebooks/checkpoint/ResNet50-55.hdf5\n",
      "685/685 [==============================] - 319s 461ms/step - loss: 0.2921 - tp: 9467.0000 - fp: 1478.0000 - tn: 9467.0000 - fn: 1478.0000 - accuracy: 0.8650 - precision: 0.8650 - recall: 0.8650 - auc: 0.9381 - prc: 0.9324 - val_loss: 0.2717 - val_tp: 1202.0000 - val_fp: 150.0000 - val_tn: 1202.0000 - val_fn: 150.0000 - val_accuracy: 0.8891 - val_precision: 0.8891 - val_recall: 0.8891 - val_auc: 0.9543 - val_prc: 0.9481\n",
      "Epoch 56/100\n",
      "685/685 [==============================] - ETA: 0s - loss: 0.2569 - tp: 9582.0000 - fp: 1363.0000 - tn: 9582.0000 - fn: 1363.0000 - accuracy: 0.8755 - precision: 0.8755 - recall: 0.8755 - auc: 0.9500 - prc: 0.9462\n",
      "Epoch 56: loss improved from 0.29212 to 0.25690, saving model to drive/MyDrive/ColabNotebooks/checkpoint/ResNet50-56.hdf5\n",
      "685/685 [==============================] - 321s 464ms/step - loss: 0.2569 - tp: 9582.0000 - fp: 1363.0000 - tn: 9582.0000 - fn: 1363.0000 - accuracy: 0.8755 - precision: 0.8755 - recall: 0.8755 - auc: 0.9500 - prc: 0.9462 - val_loss: 0.3303 - val_tp: 1164.0000 - val_fp: 188.0000 - val_tn: 1164.0000 - val_fn: 188.0000 - val_accuracy: 0.8609 - val_precision: 0.8609 - val_recall: 0.8609 - val_auc: 0.9381 - val_prc: 0.9318\n",
      "Epoch 57/100\n",
      "685/685 [==============================] - ETA: 0s - loss: 0.2677 - tp: 9578.0000 - fp: 1367.0000 - tn: 9578.0000 - fn: 1367.0000 - accuracy: 0.8751 - precision: 0.8751 - recall: 0.8751 - auc: 0.9472 - prc: 0.9421\n",
      "Epoch 57: loss did not improve from 0.25690\n",
      "685/685 [==============================] - 318s 460ms/step - loss: 0.2677 - tp: 9578.0000 - fp: 1367.0000 - tn: 9578.0000 - fn: 1367.0000 - accuracy: 0.8751 - precision: 0.8751 - recall: 0.8751 - auc: 0.9472 - prc: 0.9421 - val_loss: 0.3674 - val_tp: 1164.0000 - val_fp: 188.0000 - val_tn: 1164.0000 - val_fn: 188.0000 - val_accuracy: 0.8609 - val_precision: 0.8609 - val_recall: 0.8609 - val_auc: 0.9235 - val_prc: 0.9125\n",
      "Epoch 58/100\n",
      "685/685 [==============================] - ETA: 0s - loss: 0.2502 - tp: 9638.0000 - fp: 1307.0000 - tn: 9638.0000 - fn: 1307.0000 - accuracy: 0.8806 - precision: 0.8806 - recall: 0.8806 - auc: 0.9501 - prc: 0.9453\n",
      "Epoch 58: loss improved from 0.25690 to 0.25022, saving model to drive/MyDrive/ColabNotebooks/checkpoint/ResNet50-58.hdf5\n",
      "685/685 [==============================] - 316s 458ms/step - loss: 0.2502 - tp: 9638.0000 - fp: 1307.0000 - tn: 9638.0000 - fn: 1307.0000 - accuracy: 0.8806 - precision: 0.8806 - recall: 0.8806 - auc: 0.9501 - prc: 0.9453 - val_loss: 0.2560 - val_tp: 1228.0000 - val_fp: 124.0000 - val_tn: 1228.0000 - val_fn: 124.0000 - val_accuracy: 0.9083 - val_precision: 0.9083 - val_recall: 0.9083 - val_auc: 0.9572 - val_prc: 0.9487\n",
      "Epoch 59/100\n",
      "685/685 [==============================] - ETA: 0s - loss: 0.2216 - tp: 9775.0000 - fp: 1170.0000 - tn: 9775.0000 - fn: 1170.0000 - accuracy: 0.8931 - precision: 0.8931 - recall: 0.8931 - auc: 0.9579 - prc: 0.9527\n",
      "Epoch 59: loss improved from 0.25022 to 0.22155, saving model to drive/MyDrive/ColabNotebooks/checkpoint/ResNet50-59.hdf5\n",
      "685/685 [==============================] - 318s 463ms/step - loss: 0.2216 - tp: 9775.0000 - fp: 1170.0000 - tn: 9775.0000 - fn: 1170.0000 - accuracy: 0.8931 - precision: 0.8931 - recall: 0.8931 - auc: 0.9579 - prc: 0.9527 - val_loss: 0.4143 - val_tp: 1166.0000 - val_fp: 186.0000 - val_tn: 1166.0000 - val_fn: 186.0000 - val_accuracy: 0.8624 - val_precision: 0.8624 - val_recall: 0.8624 - val_auc: 0.9163 - val_prc: 0.9001\n",
      "Epoch 60/100\n",
      "685/685 [==============================] - ETA: 0s - loss: 0.2419 - tp: 9735.0000 - fp: 1210.0000 - tn: 9735.0000 - fn: 1210.0000 - accuracy: 0.8894 - precision: 0.8894 - recall: 0.8894 - auc: 0.9522 - prc: 0.9459\n",
      "Epoch 60: loss did not improve from 0.22155\n",
      "685/685 [==============================] - 317s 459ms/step - loss: 0.2419 - tp: 9735.0000 - fp: 1210.0000 - tn: 9735.0000 - fn: 1210.0000 - accuracy: 0.8894 - precision: 0.8894 - recall: 0.8894 - auc: 0.9522 - prc: 0.9459 - val_loss: 0.2835 - val_tp: 1212.0000 - val_fp: 140.0000 - val_tn: 1212.0000 - val_fn: 140.0000 - val_accuracy: 0.8964 - val_precision: 0.8964 - val_recall: 0.8964 - val_auc: 0.9516 - val_prc: 0.9419\n",
      "Epoch 61/100\n",
      "685/685 [==============================] - ETA: 0s - loss: 0.2102 - tp: 9857.0000 - fp: 1088.0000 - tn: 9857.0000 - fn: 1088.0000 - accuracy: 0.9006 - precision: 0.9006 - recall: 0.9006 - auc: 0.9637 - prc: 0.9595\n",
      "Epoch 61: loss improved from 0.22155 to 0.21024, saving model to drive/MyDrive/ColabNotebooks/checkpoint/ResNet50-61.hdf5\n",
      "685/685 [==============================] - 320s 464ms/step - loss: 0.2102 - tp: 9857.0000 - fp: 1088.0000 - tn: 9857.0000 - fn: 1088.0000 - accuracy: 0.9006 - precision: 0.9006 - recall: 0.9006 - auc: 0.9637 - prc: 0.9595 - val_loss: 0.3020 - val_tp: 1205.0000 - val_fp: 147.0000 - val_tn: 1205.0000 - val_fn: 147.0000 - val_accuracy: 0.8913 - val_precision: 0.8913 - val_recall: 0.8913 - val_auc: 0.9503 - val_prc: 0.9415\n",
      "Epoch 62/100\n",
      "685/685 [==============================] - ETA: 0s - loss: 0.2309 - tp: 9802.0000 - fp: 1143.0000 - tn: 9802.0000 - fn: 1143.0000 - accuracy: 0.8956 - precision: 0.8956 - recall: 0.8956 - auc: 0.9564 - prc: 0.9506\n",
      "Epoch 62: loss did not improve from 0.21024\n",
      "685/685 [==============================] - 318s 459ms/step - loss: 0.2309 - tp: 9802.0000 - fp: 1143.0000 - tn: 9802.0000 - fn: 1143.0000 - accuracy: 0.8956 - precision: 0.8956 - recall: 0.8956 - auc: 0.9564 - prc: 0.9506 - val_loss: 0.3667 - val_tp: 1175.0000 - val_fp: 177.0000 - val_tn: 1175.0000 - val_fn: 177.0000 - val_accuracy: 0.8691 - val_precision: 0.8691 - val_recall: 0.8691 - val_auc: 0.9372 - val_prc: 0.9289\n",
      "Epoch 63/100\n",
      "685/685 [==============================] - ETA: 0s - loss: 0.1885 - tp: 10005.0000 - fp: 940.0000 - tn: 10005.0000 - fn: 940.0000 - accuracy: 0.9141 - precision: 0.9141 - recall: 0.9141 - auc: 0.9673 - prc: 0.9626\n",
      "Epoch 63: loss improved from 0.21024 to 0.18850, saving model to drive/MyDrive/ColabNotebooks/checkpoint/ResNet50-63.hdf5\n",
      "685/685 [==============================] - 316s 456ms/step - loss: 0.1885 - tp: 10005.0000 - fp: 940.0000 - tn: 10005.0000 - fn: 940.0000 - accuracy: 0.9141 - precision: 0.9141 - recall: 0.9141 - auc: 0.9673 - prc: 0.9626 - val_loss: 0.4983 - val_tp: 1109.0000 - val_fp: 243.0000 - val_tn: 1109.0000 - val_fn: 243.0000 - val_accuracy: 0.8203 - val_precision: 0.8203 - val_recall: 0.8203 - val_auc: 0.8989 - val_prc: 0.8848\n",
      "Epoch 64/100\n",
      "685/685 [==============================] - ETA: 0s - loss: 0.1923 - tp: 9965.0000 - fp: 980.0000 - tn: 9965.0000 - fn: 980.0000 - accuracy: 0.9105 - precision: 0.9105 - recall: 0.9105 - auc: 0.9669 - prc: 0.9624\n",
      "Epoch 64: loss did not improve from 0.18850\n",
      "685/685 [==============================] - 317s 459ms/step - loss: 0.1923 - tp: 9965.0000 - fp: 980.0000 - tn: 9965.0000 - fn: 980.0000 - accuracy: 0.9105 - precision: 0.9105 - recall: 0.9105 - auc: 0.9669 - prc: 0.9624 - val_loss: 0.3581 - val_tp: 1208.0000 - val_fp: 144.0000 - val_tn: 1208.0000 - val_fn: 144.0000 - val_accuracy: 0.8935 - val_precision: 0.8935 - val_recall: 0.8935 - val_auc: 0.9417 - val_prc: 0.9293\n",
      "Epoch 65/100\n",
      "685/685 [==============================] - ETA: 0s - loss: 0.1737 - tp: 10087.0000 - fp: 858.0000 - tn: 10087.0000 - fn: 858.0000 - accuracy: 0.9216 - precision: 0.9216 - recall: 0.9216 - auc: 0.9700 - prc: 0.9651\n",
      "Epoch 65: loss improved from 0.18850 to 0.17370, saving model to drive/MyDrive/ColabNotebooks/checkpoint/ResNet50-65.hdf5\n",
      "685/685 [==============================] - 319s 462ms/step - loss: 0.1737 - tp: 10087.0000 - fp: 858.0000 - tn: 10087.0000 - fn: 858.0000 - accuracy: 0.9216 - precision: 0.9216 - recall: 0.9216 - auc: 0.9700 - prc: 0.9651 - val_loss: 0.3909 - val_tp: 1157.0000 - val_fp: 195.0000 - val_tn: 1157.0000 - val_fn: 195.0000 - val_accuracy: 0.8558 - val_precision: 0.8558 - val_recall: 0.8558 - val_auc: 0.9207 - val_prc: 0.9053\n",
      "Epoch 66/100\n",
      "685/685 [==============================] - ETA: 0s - loss: 0.1701 - tp: 10106.0000 - fp: 839.0000 - tn: 10106.0000 - fn: 839.0000 - accuracy: 0.9233 - precision: 0.9233 - recall: 0.9233 - auc: 0.9714 - prc: 0.9664\n",
      "Epoch 66: loss improved from 0.17370 to 0.17005, saving model to drive/MyDrive/ColabNotebooks/checkpoint/ResNet50-66.hdf5\n",
      "685/685 [==============================] - 315s 456ms/step - loss: 0.1701 - tp: 10106.0000 - fp: 839.0000 - tn: 10106.0000 - fn: 839.0000 - accuracy: 0.9233 - precision: 0.9233 - recall: 0.9233 - auc: 0.9714 - prc: 0.9664 - val_loss: 0.2840 - val_tp: 1211.0000 - val_fp: 141.0000 - val_tn: 1211.0000 - val_fn: 141.0000 - val_accuracy: 0.8957 - val_precision: 0.8957 - val_recall: 0.8957 - val_auc: 0.9497 - val_prc: 0.9405\n",
      "Epoch 67/100\n",
      "685/685 [==============================] - ETA: 0s - loss: 0.1950 - tp: 10006.0000 - fp: 939.0000 - tn: 10006.0000 - fn: 939.0000 - accuracy: 0.9142 - precision: 0.9142 - recall: 0.9142 - auc: 0.9668 - prc: 0.9616\n",
      "Epoch 67: loss did not improve from 0.17005\n",
      "685/685 [==============================] - 314s 456ms/step - loss: 0.1950 - tp: 10006.0000 - fp: 939.0000 - tn: 10006.0000 - fn: 939.0000 - accuracy: 0.9142 - precision: 0.9142 - recall: 0.9142 - auc: 0.9668 - prc: 0.9616 - val_loss: 0.2456 - val_tp: 1238.0000 - val_fp: 114.0000 - val_tn: 1238.0000 - val_fn: 114.0000 - val_accuracy: 0.9157 - val_precision: 0.9157 - val_recall: 0.9157 - val_auc: 0.9665 - val_prc: 0.9604\n",
      "Epoch 68/100\n",
      "685/685 [==============================] - ETA: 0s - loss: 0.1533 - tp: 10242.0000 - fp: 703.0000 - tn: 10242.0000 - fn: 703.0000 - accuracy: 0.9358 - precision: 0.9358 - recall: 0.9358 - auc: 0.9764 - prc: 0.9719\n",
      "Epoch 68: loss improved from 0.17005 to 0.15331, saving model to drive/MyDrive/ColabNotebooks/checkpoint/ResNet50-68.hdf5\n",
      "685/685 [==============================] - 318s 461ms/step - loss: 0.1533 - tp: 10242.0000 - fp: 703.0000 - tn: 10242.0000 - fn: 703.0000 - accuracy: 0.9358 - precision: 0.9358 - recall: 0.9358 - auc: 0.9764 - prc: 0.9719 - val_loss: 0.2898 - val_tp: 1253.0000 - val_fp: 99.0000 - val_tn: 1253.0000 - val_fn: 99.0000 - val_accuracy: 0.9268 - val_precision: 0.9268 - val_recall: 0.9268 - val_auc: 0.9556 - val_prc: 0.9443\n",
      "Epoch 69/100\n",
      "685/685 [==============================] - ETA: 0s - loss: 0.1537 - tp: 10216.0000 - fp: 729.0000 - tn: 10216.0000 - fn: 729.0000 - accuracy: 0.9334 - precision: 0.9334 - recall: 0.9334 - auc: 0.9779 - prc: 0.9743\n",
      "Epoch 69: loss did not improve from 0.15331\n",
      "685/685 [==============================] - 316s 457ms/step - loss: 0.1537 - tp: 10216.0000 - fp: 729.0000 - tn: 10216.0000 - fn: 729.0000 - accuracy: 0.9334 - precision: 0.9334 - recall: 0.9334 - auc: 0.9779 - prc: 0.9743 - val_loss: 0.2832 - val_tp: 1218.0000 - val_fp: 134.0000 - val_tn: 1218.0000 - val_fn: 134.0000 - val_accuracy: 0.9009 - val_precision: 0.9009 - val_recall: 0.9009 - val_auc: 0.9553 - val_prc: 0.9455\n",
      "Epoch 70/100\n",
      "685/685 [==============================] - ETA: 0s - loss: 0.1159 - tp: 10396.0000 - fp: 549.0000 - tn: 10396.0000 - fn: 549.0000 - accuracy: 0.9498 - precision: 0.9498 - recall: 0.9498 - auc: 0.9833 - prc: 0.9798\n",
      "Epoch 70: loss improved from 0.15331 to 0.11589, saving model to drive/MyDrive/ColabNotebooks/checkpoint/ResNet50-70.hdf5\n",
      "685/685 [==============================] - 316s 456ms/step - loss: 0.1159 - tp: 10396.0000 - fp: 549.0000 - tn: 10396.0000 - fn: 549.0000 - accuracy: 0.9498 - precision: 0.9498 - recall: 0.9498 - auc: 0.9833 - prc: 0.9798 - val_loss: 0.8578 - val_tp: 1015.0000 - val_fp: 337.0000 - val_tn: 1015.0000 - val_fn: 337.0000 - val_accuracy: 0.7507 - val_precision: 0.7507 - val_recall: 0.7507 - val_auc: 0.8026 - val_prc: 0.7735\n",
      "Epoch 71/100\n",
      "685/685 [==============================] - ETA: 0s - loss: 0.1274 - tp: 10325.0000 - fp: 620.0000 - tn: 10325.0000 - fn: 620.0000 - accuracy: 0.9434 - precision: 0.9434 - recall: 0.9434 - auc: 0.9810 - prc: 0.9773\n",
      "Epoch 71: loss did not improve from 0.11589\n",
      "685/685 [==============================] - 315s 457ms/step - loss: 0.1274 - tp: 10325.0000 - fp: 620.0000 - tn: 10325.0000 - fn: 620.0000 - accuracy: 0.9434 - precision: 0.9434 - recall: 0.9434 - auc: 0.9810 - prc: 0.9773 - val_loss: 0.3719 - val_tp: 1183.0000 - val_fp: 169.0000 - val_tn: 1183.0000 - val_fn: 169.0000 - val_accuracy: 0.8750 - val_precision: 0.8750 - val_recall: 0.8750 - val_auc: 0.9344 - val_prc: 0.9210\n",
      "Epoch 72/100\n",
      "685/685 [==============================] - ETA: 0s - loss: 0.1809 - tp: 10230.0000 - fp: 715.0000 - tn: 10230.0000 - fn: 715.0000 - accuracy: 0.9347 - precision: 0.9347 - recall: 0.9347 - auc: 0.9740 - prc: 0.9683\n",
      "Epoch 72: loss did not improve from 0.11589\n",
      "685/685 [==============================] - 316s 458ms/step - loss: 0.1809 - tp: 10230.0000 - fp: 715.0000 - tn: 10230.0000 - fn: 715.0000 - accuracy: 0.9347 - precision: 0.9347 - recall: 0.9347 - auc: 0.9740 - prc: 0.9683 - val_loss: 0.3914 - val_tp: 1204.0000 - val_fp: 148.0000 - val_tn: 1204.0000 - val_fn: 148.0000 - val_accuracy: 0.8905 - val_precision: 0.8905 - val_recall: 0.8905 - val_auc: 0.9356 - val_prc: 0.9210\n",
      "Epoch 73/100\n",
      "685/685 [==============================] - ETA: 0s - loss: 0.1551 - tp: 10233.0000 - fp: 712.0000 - tn: 10233.0000 - fn: 712.0000 - accuracy: 0.9349 - precision: 0.9349 - recall: 0.9349 - auc: 0.9776 - prc: 0.9737\n",
      "Epoch 73: loss did not improve from 0.11589\n",
      "685/685 [==============================] - 316s 457ms/step - loss: 0.1551 - tp: 10233.0000 - fp: 712.0000 - tn: 10233.0000 - fn: 712.0000 - accuracy: 0.9349 - precision: 0.9349 - recall: 0.9349 - auc: 0.9776 - prc: 0.9737 - val_loss: 0.2675 - val_tp: 1260.0000 - val_fp: 92.0000 - val_tn: 1260.0000 - val_fn: 92.0000 - val_accuracy: 0.9320 - val_precision: 0.9320 - val_recall: 0.9320 - val_auc: 0.9637 - val_prc: 0.9545\n",
      "Epoch 74/100\n",
      "685/685 [==============================] - ETA: 0s - loss: 0.1272 - tp: 10377.0000 - fp: 568.0000 - tn: 10377.0000 - fn: 568.0000 - accuracy: 0.9481 - precision: 0.9481 - recall: 0.9481 - auc: 0.9838 - prc: 0.9808\n",
      "Epoch 74: loss did not improve from 0.11589\n",
      "685/685 [==============================] - 315s 458ms/step - loss: 0.1272 - tp: 10377.0000 - fp: 568.0000 - tn: 10377.0000 - fn: 568.0000 - accuracy: 0.9481 - precision: 0.9481 - recall: 0.9481 - auc: 0.9838 - prc: 0.9808 - val_loss: 0.2822 - val_tp: 1234.0000 - val_fp: 118.0000 - val_tn: 1234.0000 - val_fn: 118.0000 - val_accuracy: 0.9127 - val_precision: 0.9127 - val_recall: 0.9127 - val_auc: 0.9507 - val_prc: 0.9387\n",
      "Epoch 75/100\n",
      "685/685 [==============================] - ETA: 0s - loss: 0.2060 - tp: 10197.0000 - fp: 748.0000 - tn: 10197.0000 - fn: 748.0000 - accuracy: 0.9317 - precision: 0.9317 - recall: 0.9317 - auc: 0.9702 - prc: 0.9635\n",
      "Epoch 75: loss did not improve from 0.11589\n",
      "685/685 [==============================] - 313s 453ms/step - loss: 0.2060 - tp: 10197.0000 - fp: 748.0000 - tn: 10197.0000 - fn: 748.0000 - accuracy: 0.9317 - precision: 0.9317 - recall: 0.9317 - auc: 0.9702 - prc: 0.9635 - val_loss: 0.4504 - val_tp: 1237.0000 - val_fp: 115.0000 - val_tn: 1237.0000 - val_fn: 115.0000 - val_accuracy: 0.9149 - val_precision: 0.9149 - val_recall: 0.9149 - val_auc: 0.9432 - val_prc: 0.9286\n",
      "Epoch 76/100\n",
      "685/685 [==============================] - ETA: 0s - loss: 0.2066 - tp: 10051.0000 - fp: 894.0000 - tn: 10051.0000 - fn: 894.0000 - accuracy: 0.9183 - precision: 0.9183 - recall: 0.9183 - auc: 0.9635 - prc: 0.9564\n",
      "Epoch 76: loss did not improve from 0.11589\n",
      "685/685 [==============================] - 319s 458ms/step - loss: 0.2066 - tp: 10051.0000 - fp: 894.0000 - tn: 10051.0000 - fn: 894.0000 - accuracy: 0.9183 - precision: 0.9183 - recall: 0.9183 - auc: 0.9635 - prc: 0.9564 - val_loss: 0.5318 - val_tp: 1093.0000 - val_fp: 259.0000 - val_tn: 1093.0000 - val_fn: 259.0000 - val_accuracy: 0.8084 - val_precision: 0.8084 - val_recall: 0.8084 - val_auc: 0.8753 - val_prc: 0.8549\n",
      "Epoch 77/100\n",
      "685/685 [==============================] - ETA: 0s - loss: 0.0829 - tp: 10550.0000 - fp: 395.0000 - tn: 10550.0000 - fn: 395.0000 - accuracy: 0.9639 - precision: 0.9639 - recall: 0.9639 - auc: 0.9901 - prc: 0.9880\n",
      "Epoch 77: loss improved from 0.11589 to 0.08295, saving model to drive/MyDrive/ColabNotebooks/checkpoint/ResNet50-77.hdf5\n",
      "685/685 [==============================] - 316s 458ms/step - loss: 0.0829 - tp: 10550.0000 - fp: 395.0000 - tn: 10550.0000 - fn: 395.0000 - accuracy: 0.9639 - precision: 0.9639 - recall: 0.9639 - auc: 0.9901 - prc: 0.9880 - val_loss: 0.2561 - val_tp: 1271.0000 - val_fp: 81.0000 - val_tn: 1271.0000 - val_fn: 81.0000 - val_accuracy: 0.9401 - val_precision: 0.9401 - val_recall: 0.9401 - val_auc: 0.9626 - val_prc: 0.9524\n",
      "Epoch 78/100\n",
      "685/685 [==============================] - ETA: 0s - loss: 0.0817 - tp: 10566.0000 - fp: 379.0000 - tn: 10566.0000 - fn: 379.0000 - accuracy: 0.9654 - precision: 0.9654 - recall: 0.9654 - auc: 0.9899 - prc: 0.9875\n",
      "Epoch 78: loss improved from 0.08295 to 0.08165, saving model to drive/MyDrive/ColabNotebooks/checkpoint/ResNet50-78.hdf5\n",
      "685/685 [==============================] - 315s 456ms/step - loss: 0.0817 - tp: 10566.0000 - fp: 379.0000 - tn: 10566.0000 - fn: 379.0000 - accuracy: 0.9654 - precision: 0.9654 - recall: 0.9654 - auc: 0.9899 - prc: 0.9875 - val_loss: 0.3307 - val_tp: 1226.0000 - val_fp: 126.0000 - val_tn: 1226.0000 - val_fn: 126.0000 - val_accuracy: 0.9068 - val_precision: 0.9068 - val_recall: 0.9068 - val_auc: 0.9494 - val_prc: 0.9372\n",
      "Epoch 79/100\n",
      "685/685 [==============================] - ETA: 0s - loss: 0.0844 - tp: 10558.0000 - fp: 387.0000 - tn: 10558.0000 - fn: 387.0000 - accuracy: 0.9646 - precision: 0.9646 - recall: 0.9646 - auc: 0.9881 - prc: 0.9851\n",
      "Epoch 79: loss did not improve from 0.08165\n",
      "685/685 [==============================] - 314s 454ms/step - loss: 0.0844 - tp: 10558.0000 - fp: 387.0000 - tn: 10558.0000 - fn: 387.0000 - accuracy: 0.9646 - precision: 0.9646 - recall: 0.9646 - auc: 0.9881 - prc: 0.9851 - val_loss: 0.4398 - val_tp: 1193.0000 - val_fp: 159.0000 - val_tn: 1193.0000 - val_fn: 159.0000 - val_accuracy: 0.8824 - val_precision: 0.8824 - val_recall: 0.8824 - val_auc: 0.9297 - val_prc: 0.9139\n",
      "Epoch 80/100\n",
      "685/685 [==============================] - ETA: 0s - loss: 0.0981 - tp: 10492.0000 - fp: 453.0000 - tn: 10492.0000 - fn: 453.0000 - accuracy: 0.9586 - precision: 0.9586 - recall: 0.9586 - auc: 0.9868 - prc: 0.9839\n",
      "Epoch 80: loss did not improve from 0.08165\n",
      "685/685 [==============================] - 317s 457ms/step - loss: 0.0981 - tp: 10492.0000 - fp: 453.0000 - tn: 10492.0000 - fn: 453.0000 - accuracy: 0.9586 - precision: 0.9586 - recall: 0.9586 - auc: 0.9868 - prc: 0.9839 - val_loss: 0.3159 - val_tp: 1252.0000 - val_fp: 100.0000 - val_tn: 1252.0000 - val_fn: 100.0000 - val_accuracy: 0.9260 - val_precision: 0.9260 - val_recall: 0.9260 - val_auc: 0.9552 - val_prc: 0.9434\n",
      "Epoch 81/100\n",
      "685/685 [==============================] - ETA: 0s - loss: 0.0999 - tp: 10497.0000 - fp: 448.0000 - tn: 10497.0000 - fn: 448.0000 - accuracy: 0.9591 - precision: 0.9591 - recall: 0.9591 - auc: 0.9875 - prc: 0.9847\n",
      "Epoch 81: loss did not improve from 0.08165\n",
      "685/685 [==============================] - 314s 457ms/step - loss: 0.0999 - tp: 10497.0000 - fp: 448.0000 - tn: 10497.0000 - fn: 448.0000 - accuracy: 0.9591 - precision: 0.9591 - recall: 0.9591 - auc: 0.9875 - prc: 0.9847 - val_loss: 0.2928 - val_tp: 1272.0000 - val_fp: 80.0000 - val_tn: 1272.0000 - val_fn: 80.0000 - val_accuracy: 0.9408 - val_precision: 0.9408 - val_recall: 0.9408 - val_auc: 0.9623 - val_prc: 0.9520\n",
      "Epoch 82/100\n",
      "684/685 [============================>.] - ETA: 0s - loss: 0.0993 - tp: 10486.0000 - fp: 443.0000 - tn: 10486.0000 - fn: 443.0000 - accuracy: 0.9595 - precision: 0.9595 - recall: 0.9595 - auc: 0.9865 - prc: 0.9833\n",
      "Epoch 82: loss did not improve from 0.08165\n",
      "685/685 [==============================] - 314s 453ms/step - loss: 0.0991 - tp: 10502.0000 - fp: 443.0000 - tn: 10502.0000 - fn: 443.0000 - accuracy: 0.9595 - precision: 0.9595 - recall: 0.9595 - auc: 0.9865 - prc: 0.9833 - val_loss: 0.4098 - val_tp: 1250.0000 - val_fp: 102.0000 - val_tn: 1250.0000 - val_fn: 102.0000 - val_accuracy: 0.9246 - val_precision: 0.9246 - val_recall: 0.9246 - val_auc: 0.9444 - val_prc: 0.9296\n",
      "Epoch 83/100\n",
      "685/685 [==============================] - ETA: 0s - loss: 0.1235 - tp: 10428.0000 - fp: 517.0000 - tn: 10428.0000 - fn: 517.0000 - accuracy: 0.9528 - precision: 0.9528 - recall: 0.9528 - auc: 0.9822 - prc: 0.9780\n",
      "Epoch 83: loss did not improve from 0.08165\n",
      "685/685 [==============================] - 314s 455ms/step - loss: 0.1235 - tp: 10428.0000 - fp: 517.0000 - tn: 10428.0000 - fn: 517.0000 - accuracy: 0.9528 - precision: 0.9528 - recall: 0.9528 - auc: 0.9822 - prc: 0.9780 - val_loss: 0.4693 - val_tp: 1190.0000 - val_fp: 162.0000 - val_tn: 1190.0000 - val_fn: 162.0000 - val_accuracy: 0.8802 - val_precision: 0.8802 - val_recall: 0.8802 - val_auc: 0.9247 - val_prc: 0.9075\n",
      "Epoch 84/100\n",
      "612/685 [=========================>....] - ETA: 27s - loss: 0.0903 - tp: 9414.0000 - fp: 363.0000 - tn: 9414.0000 - fn: 363.0000 - accuracy: 0.9629 - precision: 0.9629 - recall: 0.9629 - auc: 0.9876 - prc: 0.9846"
     ]
    }
   ],
   "source": [
    "history = model_ResNet50.fit(train_generator, \n",
    "                             epochs = CONFIG.get(\"epochs\"), \n",
    "                             workers = CONFIG.get(\"workers\"),\n",
    "                             validation_data = valid_generator,\n",
    "                             callbacks = callbacks_list,\n",
    "                             class_weight = class_weight\n",
    "                            )"
   ]
  },
  {
   "cell_type": "markdown",
   "metadata": {
    "id": "GYppZRWanv1d"
   },
   "source": [
    "#8. Ocena modelu"
   ]
  },
  {
   "cell_type": "code",
   "execution_count": null,
   "metadata": {
    "id": "897o73BPM4WM"
   },
   "outputs": [],
   "source": [
    "history.history"
   ]
  },
  {
   "cell_type": "code",
   "execution_count": null,
   "metadata": {
    "id": "bRgpwgd26bit"
   },
   "outputs": [],
   "source": [
    "acc = history.history['accuracy']\n",
    "val_acc = history.history['val_accuracy']\n",
    "\n",
    "loss = history.history['loss']\n",
    "val_loss = history.history['val_loss']\n",
    "\n",
    "metrics = history.history['accuracy']\n",
    "epochs_range = range(1, len(metrics) + 1) \n",
    "\n",
    "plt.figure(figsize=(23, 8))\n",
    "plt.subplot(1, 2, 1)\n",
    "plt.plot(epochs_range, acc, label='Training Accuracy')\n",
    "plt.plot(epochs_range, val_acc, label='Validation Accuracy')\n",
    "plt.legend(loc='lower right')\n",
    "plt.title('Training and Validation Accuracy')\n",
    "\n",
    "plt.subplot(1, 2, 2)\n",
    "plt.plot(epochs_range, loss, label='Training Loss')\n",
    "plt.plot(epochs_range, val_loss, label='Validation Loss')\n",
    "plt.legend(loc='upper right')\n",
    "plt.title('Training and Validation Loss')\n",
    "plt.show()"
   ]
  }
 ],
 "metadata": {
  "accelerator": "GPU",
  "colab": {
   "authorship_tag": "ABX9TyP3oxb5nojwcHJdZJ51nd32",
   "collapsed_sections": [
    "hpwPG6X2lJmQ",
    "XGEucUQxAktz",
    "06B_3rz8Fhav",
    "If2zEQAR8bZn",
    "_u7H8rBhq5ic",
    "GYppZRWanv1d",
    "uGbsnCKI_eLQ"
   ],
   "machine_shape": "hm",
   "mount_file_id": "1hLi9f5XPFox-1V995PLJjdbIhX4ogtg_",
   "provenance": []
  },
  "gpuClass": "premium",
  "kernelspec": {
   "display_name": "Python 3 (ipykernel)",
   "language": "python",
   "name": "python3"
  },
  "language_info": {
   "codemirror_mode": {
    "name": "ipython",
    "version": 3
   },
   "file_extension": ".py",
   "mimetype": "text/x-python",
   "name": "python",
   "nbconvert_exporter": "python",
   "pygments_lexer": "ipython3",
   "version": "3.10.4"
  }
 },
 "nbformat": 4,
 "nbformat_minor": 1
}
