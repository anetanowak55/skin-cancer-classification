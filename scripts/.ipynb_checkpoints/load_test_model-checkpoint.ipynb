{
 "cells": [
  {
   "cell_type": "code",
   "execution_count": 7,
   "metadata": {
    "executionInfo": {
     "elapsed": 328,
     "status": "ok",
     "timestamp": 1672782358764,
     "user": {
      "displayName": "Aneta Nowak",
      "userId": "06833223845055190790"
     },
     "user_tz": -60
    },
    "id": "msK6K8zHSE-Q"
   },
   "outputs": [],
   "source": [
    "import tensorflow as tf\n",
    "from tensorflow import keras\n",
    "from tensorflow.keras.models import load_model\n",
    "from tensorflow.keras.preprocessing.image import ImageDataGenerator"
   ]
  },
  {
   "cell_type": "code",
   "execution_count": 2,
   "metadata": {
    "executionInfo": {
     "elapsed": 11,
     "status": "ok",
     "timestamp": 1672782254911,
     "user": {
      "displayName": "Aneta Nowak",
      "userId": "06833223845055190790"
     },
     "user_tz": -60
    },
    "id": "JRvRWHM0SDIr"
   },
   "outputs": [],
   "source": [
    "base_path = \"drive/MyDrive/ColabNotebooks/\"\n",
    "path_test_img = base_path + \"datasets/test\"\n",
    "model_path = base_path + \"models/model_1.hdf5\"\n",
    "#tfjs_target_dir = base_path + \"tfjs/3\""
   ]
  },
  {
   "cell_type": "markdown",
   "metadata": {
    "id": "_Ap3tJt9lNNN"
   },
   "source": [
    "#1. Test model"
   ]
  },
  {
   "cell_type": "code",
   "execution_count": 3,
   "metadata": {
    "colab": {
     "base_uri": "https://localhost:8080/"
    },
    "executionInfo": {
     "elapsed": 7082,
     "status": "ok",
     "timestamp": 1672782261985,
     "user": {
      "displayName": "Aneta Nowak",
      "userId": "06833223845055190790"
     },
     "user_tz": -60
    },
    "id": "-sWL3KrzOmka",
    "outputId": "cdf0c6d3-6f83-4bd8-8a41-55cff77ef1f6"
   },
   "outputs": [
    {
     "name": "stdout",
     "output_type": "stream",
     "text": [
      "Model: \"sequential_2\"\n",
      "_________________________________________________________________\n",
      " Layer (type)                Output Shape              Param #   \n",
      "=================================================================\n",
      " resnet50 (Functional)       (None, 7, 7, 2048)        23587712  \n",
      "                                                                 \n",
      " global_average_pooling2d_2   (None, 2048)             0         \n",
      " (GlobalAveragePooling2D)                                        \n",
      "                                                                 \n",
      " dense_2 (Dense)             (None, 2)                 4098      \n",
      "                                                                 \n",
      "=================================================================\n",
      "Total params: 23,591,810\n",
      "Trainable params: 23,538,690\n",
      "Non-trainable params: 53,120\n",
      "_________________________________________________________________\n"
     ]
    }
   ],
   "source": [
    "model = load_model(model_path, compile=False)\n",
    "model.summary()"
   ]
  },
  {
   "cell_type": "code",
   "execution_count": 5,
   "metadata": {
    "colab": {
     "base_uri": "https://localhost:8080/"
    },
    "executionInfo": {
     "elapsed": 22469,
     "status": "ok",
     "timestamp": 1672782298006,
     "user": {
      "displayName": "Aneta Nowak",
      "userId": "06833223845055190790"
     },
     "user_tz": -60
    },
    "id": "efjr4v7ORh4q",
    "outputId": "195b23eb-0f93-48cd-8f2e-13455364e50d"
   },
   "outputs": [
    {
     "name": "stdout",
     "output_type": "stream",
     "text": [
      "Found 3312 images belonging to 2 classes.\n"
     ]
    }
   ],
   "source": [
    "test_datagen = ImageDataGenerator(rescale=1./255)\n",
    "\n",
    "test_generator = test_datagen.flow_from_directory(path_test_img,\n",
    "                                                    target_size=(224,224),\n",
    "                                                    batch_size = 16,\n",
    "                                                    class_mode='categorical',\n",
    "                                                    )"
   ]
  },
  {
   "cell_type": "code",
   "execution_count": 8,
   "metadata": {
    "executionInfo": {
     "elapsed": 2,
     "status": "ok",
     "timestamp": 1672782363960,
     "user": {
      "displayName": "Aneta Nowak",
      "userId": "06833223845055190790"
     },
     "user_tz": -60
    },
    "id": "dSN9F9cKlhEU"
   },
   "outputs": [],
   "source": [
    "METRICS = [\n",
    "      keras.metrics.BinaryAccuracy(name='accuracy'),\n",
    "      keras.metrics.Precision(name='precision'),\n",
    "      keras.metrics.Recall(name='recall'),\n",
    "      keras.metrics.AUC(name='auc')\n",
    "]"
   ]
  },
  {
   "cell_type": "code",
   "execution_count": 9,
   "metadata": {
    "executionInfo": {
     "elapsed": 310,
     "status": "ok",
     "timestamp": 1672782449500,
     "user": {
      "displayName": "Aneta Nowak",
      "userId": "06833223845055190790"
     },
     "user_tz": -60
    },
    "id": "neltwFAGXALM"
   },
   "outputs": [],
   "source": [
    "model.compile(\n",
    "    optimizer = 'adam',\n",
    "    loss = 'binary_crossentropy',\n",
    "    metrics = METRICS\n",
    ")"
   ]
  },
  {
   "cell_type": "code",
   "execution_count": 10,
   "metadata": {
    "colab": {
     "base_uri": "https://localhost:8080/"
    },
    "executionInfo": {
     "elapsed": 1711582,
     "status": "ok",
     "timestamp": 1672784163954,
     "user": {
      "displayName": "Aneta Nowak",
      "userId": "06833223845055190790"
     },
     "user_tz": -60
    },
    "id": "MER1hgABlKU1",
    "outputId": "e4c06a00-966a-46b0-869c-c1c13275c838"
   },
   "outputs": [
    {
     "name": "stdout",
     "output_type": "stream",
     "text": [
      "207/207 [==============================] - 1699s 8s/step - loss: 0.6784 - accuracy: 0.7065 - precision: 0.7065 - recall: 0.7065 - auc: 0.6912\n"
     ]
    },
    {
     "data": {
      "text/plain": [
       "[0.678398072719574,\n",
       " 0.70652174949646,\n",
       " 0.70652174949646,\n",
       " 0.70652174949646,\n",
       " 0.6911754012107849]"
      ]
     },
     "execution_count": 10,
     "metadata": {},
     "output_type": "execute_result"
    }
   ],
   "source": [
    "model.evaluate(test_generator)"
   ]
  },
  {
   "cell_type": "markdown",
   "metadata": {
    "id": "lHMbTGnslLG3"
   },
   "source": [
    "#2. TFJS"
   ]
  },
  {
   "cell_type": "code",
   "execution_count": null,
   "metadata": {
    "executionInfo": {
     "elapsed": 15,
     "status": "aborted",
     "timestamp": 1672782262426,
     "user": {
      "displayName": "Aneta Nowak",
      "userId": "06833223845055190790"
     },
     "user_tz": -60
    },
    "id": "5PhQPDmxaQ66"
   },
   "outputs": [],
   "source": [
    "#!sudo pip install tensorflowjs"
   ]
  },
  {
   "cell_type": "code",
   "execution_count": null,
   "metadata": {
    "executionInfo": {
     "elapsed": 16,
     "status": "aborted",
     "timestamp": 1672782262427,
     "user": {
      "displayName": "Aneta Nowak",
      "userId": "06833223845055190790"
     },
     "user_tz": -60
    },
    "id": "tpFnU-f6bG6U"
   },
   "outputs": [],
   "source": [
    "#!tensorflowjs_converter --input_format=keras  drive/MyDrive/ColabNotebooks/models/model_5.hdf5 drive/MyDrive/ColabNotebooks/tfjs/new"
   ]
  }
 ],
 "metadata": {
  "accelerator": "GPU",
  "colab": {
   "authorship_tag": "ABX9TyOrjqHe0np3WSmTnjCB+2h0",
   "machine_shape": "hm",
   "mount_file_id": "14oavtRzFXnGIpbFXBCgiPR3KKj9LXm42",
   "provenance": []
  },
  "gpuClass": "standard",
  "kernelspec": {
   "display_name": "Python 3 (ipykernel)",
   "language": "python",
   "name": "python3"
  },
  "language_info": {
   "codemirror_mode": {
    "name": "ipython",
    "version": 3
   },
   "file_extension": ".py",
   "mimetype": "text/x-python",
   "name": "python",
   "nbconvert_exporter": "python",
   "pygments_lexer": "ipython3",
   "version": "3.10.4"
  }
 },
 "nbformat": 4,
 "nbformat_minor": 1
}
