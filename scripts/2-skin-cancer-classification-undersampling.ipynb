{
 "cells": [
  {
   "cell_type": "markdown",
   "metadata": {
    "id": "zCImDNTvn1L-"
   },
   "source": [
    "#0. Importy"
   ]
  },
  {
   "cell_type": "code",
   "execution_count": 1,
   "metadata": {
    "executionInfo": {
     "elapsed": 1245,
     "status": "ok",
     "timestamp": 1672852814892,
     "user": {
      "displayName": "Aneta Nowak",
      "userId": "06833223845055190790"
     },
     "user_tz": -60
    },
    "id": "Bt5vPVO2Uru4"
   },
   "outputs": [],
   "source": [
    "import pandas as pd \n",
    "import matplotlib.pyplot as plt\n",
    "import numpy as np\n",
    "from PIL import Image\n",
    "from sklearn.model_selection import train_test_split"
   ]
  },
  {
   "cell_type": "code",
   "execution_count": 2,
   "metadata": {
    "executionInfo": {
     "elapsed": 13,
     "status": "ok",
     "timestamp": 1672852814894,
     "user": {
      "displayName": "Aneta Nowak",
      "userId": "06833223845055190790"
     },
     "user_tz": -60
    },
    "id": "YQsoywZicQhw"
   },
   "outputs": [],
   "source": [
    "# from google.colab import drive\n",
    "# drive.mount('/content/drive')"
   ]
  },
  {
   "cell_type": "code",
   "execution_count": 3,
   "metadata": {
    "executionInfo": {
     "elapsed": 9,
     "status": "ok",
     "timestamp": 1672852814895,
     "user": {
      "displayName": "Aneta Nowak",
      "userId": "06833223845055190790"
     },
     "user_tz": -60
    },
    "id": "NRnO7YcigphU"
   },
   "outputs": [],
   "source": [
    "# !sudo pip install tensorflowjs\n",
    "# !pip show tensorflow\n",
    "# !pip show keras\n",
    "# !python -V"
   ]
  },
  {
   "cell_type": "code",
   "execution_count": 4,
   "metadata": {
    "executionInfo": {
     "elapsed": 2336,
     "status": "ok",
     "timestamp": 1672852817627,
     "user": {
      "displayName": "Aneta Nowak",
      "userId": "06833223845055190790"
     },
     "user_tz": -60
    },
    "id": "VuPJg0NQt8rv"
   },
   "outputs": [],
   "source": [
    "import tensorflow as tf\n",
    "from tensorflow import keras\n",
    "from tensorflow.keras.preprocessing import image\n",
    "from tensorflow.keras import layers\n",
    "from tensorflow.keras.models import Model,Sequential\n",
    "from tensorflow.keras.optimizers import Adam, SGD, RMSprop\n",
    "from tensorflow.keras.layers import Dropout, BatchNormalization\n",
    "from tensorflow.keras.layers import (\n",
    "    Input, Dense, Conv2D, Flatten, Activation, \n",
    "    MaxPooling2D, AveragePooling2D, ZeroPadding2D, GlobalAveragePooling2D, GlobalMaxPooling2D, add\n",
    ")\n",
    "from tensorflow.keras.applications import ResNet50\n",
    "from tensorflow.keras.callbacks import EarlyStopping, ModelCheckpoint\n",
    "#from tensorflow.keras.models import load_model\n",
    "from tensorflow.keras.utils import plot_model\n",
    "from tensorflow.keras.preprocessing.image import ImageDataGenerator\n",
    "#import tensorflowjs as tfjs"
   ]
  },
  {
   "cell_type": "markdown",
   "metadata": {
    "id": "unUP8BI9k7Bd"
   },
   "source": [
    "#1. Konfiguracja"
   ]
  },
  {
   "cell_type": "code",
   "execution_count": 5,
   "metadata": {
    "executionInfo": {
     "elapsed": 18,
     "status": "ok",
     "timestamp": 1672852817628,
     "user": {
      "displayName": "Aneta Nowak",
      "userId": "06833223845055190790"
     },
     "user_tz": -60
    },
    "id": "5qwtcjyauAEw"
   },
   "outputs": [],
   "source": [
    "SEED=123\n",
    "np.random.seed(SEED)"
   ]
  },
  {
   "cell_type": "code",
   "execution_count": 6,
   "metadata": {
    "colab": {
     "base_uri": "https://localhost:8080/"
    },
    "executionInfo": {
     "elapsed": 14,
     "status": "ok",
     "timestamp": 1672852817628,
     "user": {
      "displayName": "Aneta Nowak",
      "userId": "06833223845055190790"
     },
     "user_tz": -60
    },
    "id": "8Xy3lydIbMDR",
    "outputId": "b027c23f-d9d6-4b44-dcee-74a12ee604b1"
   },
   "outputs": [
    {
     "name": "stdout",
     "output_type": "stream",
     "text": [
      "Num GPUs Available:  0\n"
     ]
    }
   ],
   "source": [
    "print(\"Num GPUs Available: \", len(tf.config.experimental.list_physical_devices('GPU')))"
   ]
  },
  {
   "cell_type": "code",
   "execution_count": 7,
   "metadata": {
    "executionInfo": {
     "elapsed": 11,
     "status": "ok",
     "timestamp": 1672852817629,
     "user": {
      "displayName": "Aneta Nowak",
      "userId": "06833223845055190790"
     },
     "user_tz": -60
    },
    "id": "OjL-nbExWA2i"
   },
   "outputs": [],
   "source": [
    "base_path = \"drive/MyDrive/ColabNotebooks/\"\n",
    "path_train_csv = \"train.csv\"\n",
    "path_train_img = base_path + \"datasets/train_undersampled\"\n",
    "checkpoint_path = base_path + \"checkpoint2/\"\n",
    "models_path = base_path + '/models'"
   ]
  },
  {
   "cell_type": "code",
   "execution_count": 8,
   "metadata": {
    "executionInfo": {
     "elapsed": 9,
     "status": "ok",
     "timestamp": 1672852817629,
     "user": {
      "displayName": "Aneta Nowak",
      "userId": "06833223845055190790"
     },
     "user_tz": -60
    },
    "id": "yFQSRiGyqyHE"
   },
   "outputs": [],
   "source": [
    "CONFIG = dict(\n",
    "    # Preprocessing\n",
    "    validation = 0.11,\n",
    "    target_size = (224,224),\n",
    "    input_shape = (224, 224, 3),\n",
    "\n",
    "    # Training\n",
    "    epochs = 20,\n",
    "    verbose = 1,\n",
    "    workers = 8,\n",
    "    optimizer = 'adam', # 'SGD', 'RMSprop', 'adam'\n",
    "    RANDOM_STATE = 123,\n",
    "    loss = 'binary_crossentropy', # focal loss\n",
    "\n",
    "    # Postprocessing\n",
    "    label_smooth_fac  =  0.00,  # 0.01; 0.05; 0.1; 0.2;\n",
    ")"
   ]
  },
  {
   "cell_type": "markdown",
   "metadata": {
    "id": "cOYjQ0rWlnmG"
   },
   "source": [
    "#4. Przygotowanie zbiorów danych treningowych i testowych"
   ]
  },
  {
   "cell_type": "code",
   "execution_count": 9,
   "metadata": {
    "colab": {
     "base_uri": "https://localhost:8080/"
    },
    "executionInfo": {
     "elapsed": 8754,
     "status": "ok",
     "timestamp": 1672852826374,
     "user": {
      "displayName": "Aneta Nowak",
      "userId": "06833223845055190790"
     },
     "user_tz": -60
    },
    "id": "WXPsE2gA40Qh",
    "outputId": "b4d22e13-828e-4845-8945-201919ac1352"
   },
   "outputs": [
    {
     "name": "stdout",
     "output_type": "stream",
     "text": [
      "Found 738 images belonging to 2 classes.\n",
      "Found 314 images belonging to 2 classes.\n",
      "\n",
      "2 classes:\n",
      "{'benign': 0, 'malignant': 1}\n"
     ]
    }
   ],
   "source": [
    "train_datagen = ImageDataGenerator(rescale=1./255, validation_split=0.3)\n",
    "\n",
    "train_generator = train_datagen.flow_from_directory(path_train_img,\n",
    "                                                    subset='training', \n",
    "                                                    target_size=CONFIG.get(\"target_size\"),\n",
    "                                                    batch_size = 16,\n",
    "                                                    class_mode='categorical',\n",
    "                                                    )\n",
    "\n",
    "valid_generator = train_datagen.flow_from_directory(path_train_img,\n",
    "                                                     subset='validation', \n",
    "                                                     target_size=CONFIG.get(\"target_size\"),\n",
    "                                                     batch_size = 16,\n",
    "                                                     class_mode='categorical'\n",
    "                                                     ) \n",
    "\n",
    "class_names = train_generator.class_indices\n",
    "num_classes = len(class_names)\n",
    "print('\\n{} classes:\\n{}'.format(num_classes,class_names))"
   ]
  },
  {
   "cell_type": "code",
   "execution_count": 10,
   "metadata": {
    "colab": {
     "base_uri": "https://localhost:8080/"
    },
    "executionInfo": {
     "elapsed": 14,
     "status": "ok",
     "timestamp": 1672852826375,
     "user": {
      "displayName": "Aneta Nowak",
      "userId": "06833223845055190790"
     },
     "user_tz": -60
    },
    "id": "gBIU21SFGFd4",
    "outputId": "6e6b8887-f83a-4fc7-fac2-c1447322d499"
   },
   "outputs": [
    {
     "name": "stdout",
     "output_type": "stream",
     "text": [
      "TRAINING >> dict_items([(0, 369), (1, 369)]), ratio malignant/benign: 1.0\n",
      "VALIDATION >> dict_items([(0, 157), (1, 157)]), ratio malignant/benign: 1.0\n"
     ]
    }
   ],
   "source": [
    "from collections import Counter\n",
    "\n",
    "counter_train = Counter(train_generator.classes)\n",
    "ratio_train = round(counter_train.get(1) / counter_train.get(0), 3)\n",
    "print(\"TRAINING >> {}, ratio malignant/benign: {}\".format(counter_train.items(), ratio_train))\n",
    "\n",
    "counter_valid = Counter(valid_generator.classes)\n",
    "ratio_valid = round(counter_valid.get(1) / counter_valid.get(0), 3)\n",
    "print(\"VALIDATION >> {}, ratio malignant/benign: {}\".format(counter_valid.items(), ratio_valid))"
   ]
  },
  {
   "cell_type": "markdown",
   "metadata": {
    "id": "blWPWEwzl3HU"
   },
   "source": [
    "#6. Przygotowanie modelu"
   ]
  },
  {
   "cell_type": "code",
   "execution_count": 11,
   "metadata": {
    "colab": {
     "base_uri": "https://localhost:8080/"
    },
    "executionInfo": {
     "elapsed": 4091,
     "status": "ok",
     "timestamp": 1672852830457,
     "user": {
      "displayName": "Aneta Nowak",
      "userId": "06833223845055190790"
     },
     "user_tz": -60
    },
    "id": "p2cOShsvaWKf",
    "outputId": "ae2d22b5-279a-465a-c40d-6c5e6b0e8613"
   },
   "outputs": [
    {
     "name": "stdout",
     "output_type": "stream",
     "text": [
      "Downloading data from https://storage.googleapis.com/tensorflow/keras-applications/resnet/resnet50_weights_tf_dim_ordering_tf_kernels_notop.h5\n",
      "94765736/94765736 [==============================] - 1s 0us/step\n",
      "Model: \"sequential\"\n",
      "_________________________________________________________________\n",
      " Layer (type)                Output Shape              Param #   \n",
      "=================================================================\n",
      " resnet50 (Functional)       (None, 7, 7, 2048)        23587712  \n",
      "                                                                 \n",
      " global_average_pooling2d (G  (None, 2048)             0         \n",
      " lobalAveragePooling2D)                                          \n",
      "                                                                 \n",
      " dense (Dense)               (None, 2)                 4098      \n",
      "                                                                 \n",
      "=================================================================\n",
      "Total params: 23,591,810\n",
      "Trainable params: 23,538,690\n",
      "Non-trainable params: 53,120\n",
      "_________________________________________________________________\n"
     ]
    }
   ],
   "source": [
    "model_ResNet50 = tf.keras.Sequential([\n",
    "     tf.keras.applications.ResNet50(\n",
    "        input_shape = CONFIG.get(\"input_shape\"),\n",
    "        weights = 'imagenet', # one of None (random initialization), \n",
    "                              # 'imagenet' (pre-training on ImageNet) - default,\n",
    "                              # or the path to the weights file to be loaded\n",
    "        include_top = False # include the fully-connected layer at the top of the network\n",
    "    ),\n",
    "    \n",
    "    GlobalAveragePooling2D(),\n",
    "    \n",
    "    Dense(num_classes, activation='softmax')\n",
    "])\n",
    "\n",
    "METRICS = [\n",
    "      keras.metrics.TruePositives(name='tp'),\n",
    "      keras.metrics.FalsePositives(name='fp'),\n",
    "      keras.metrics.TrueNegatives(name='tn'),\n",
    "      keras.metrics.FalseNegatives(name='fn'), \n",
    "      keras.metrics.BinaryAccuracy(name='accuracy'),\n",
    "      keras.metrics.Precision(name='precision'),\n",
    "      keras.metrics.Recall(name='recall'),\n",
    "      keras.metrics.AUC(name='auc'),\n",
    "      keras.metrics.AUC(name='prc', curve='PR'), # precision-recall curve\n",
    "]\n",
    "    \n",
    "model_ResNet50.compile(\n",
    "    optimizer = CONFIG.get(\"optimizer\"),\n",
    "    loss = CONFIG.get('loss'),\n",
    "    metrics = METRICS\n",
    ")\n",
    "\n",
    "model_ResNet50.summary()\n"
   ]
  },
  {
   "cell_type": "code",
   "execution_count": 12,
   "metadata": {
    "colab": {
     "base_uri": "https://localhost:8080/"
    },
    "executionInfo": {
     "elapsed": 19,
     "status": "ok",
     "timestamp": 1672852830458,
     "user": {
      "displayName": "Aneta Nowak",
      "userId": "06833223845055190790"
     },
     "user_tz": -60
    },
    "id": "yIdyr0el6xoY",
    "outputId": "2fcf4e6c-7152-432d-bc36-28ecd757472d"
   },
   "outputs": [
    {
     "name": "stdout",
     "output_type": "stream",
     "text": [
      "Model: \"sequential\"\n",
      "_________________________________________________________________\n",
      " Layer (type)                Output Shape              Param #   \n",
      "=================================================================\n",
      " resnet50 (Functional)       (None, 7, 7, 2048)        23587712  \n",
      "                                                                 \n",
      " global_average_pooling2d (G  (None, 2048)             0         \n",
      " lobalAveragePooling2D)                                          \n",
      "                                                                 \n",
      " dense (Dense)               (None, 2)                 4098      \n",
      "                                                                 \n",
      "=================================================================\n",
      "Total params: 23,591,810\n",
      "Trainable params: 4,098\n",
      "Non-trainable params: 23,587,712\n",
      "_________________________________________________________________\n"
     ]
    }
   ],
   "source": [
    "model_ResNet50.layers[0].trainable = False\n",
    "model_ResNet50.summary()"
   ]
  },
  {
   "cell_type": "markdown",
   "metadata": {
    "id": "camF2wF-npqZ"
   },
   "source": [
    "#7. Trenowanie modelu"
   ]
  },
  {
   "cell_type": "code",
   "execution_count": 13,
   "metadata": {
    "executionInfo": {
     "elapsed": 11,
     "status": "ok",
     "timestamp": 1672852830459,
     "user": {
      "displayName": "Aneta Nowak",
      "userId": "06833223845055190790"
     },
     "user_tz": -60
    },
    "id": "X56zsU7l5vCL"
   },
   "outputs": [],
   "source": [
    "# ref: https://keras.io/api/callbacks/early_stopping/\n",
    "cb_early_stopper = EarlyStopping(monitor = 'loss', patience = 5)\n",
    "\n",
    "# ref: https://keras.io/api/callbacks/model_checkpoint/\n",
    "cb_checkpointer  = ModelCheckpoint(filepath = checkpoint_path+'ResNet50-{epoch:02d}.hdf5',\n",
    "                                   monitor = 'loss', \n",
    "                                   verbose = 1,\n",
    "                                   save_best_only = True,\n",
    "                                   mode = 'min'\n",
    "                                  )\n",
    "\n",
    "callbacks_list = [cb_checkpointer, cb_early_stopper]"
   ]
  },
  {
   "cell_type": "code",
   "execution_count": 14,
   "metadata": {
    "colab": {
     "base_uri": "https://localhost:8080/"
    },
    "executionInfo": {
     "elapsed": 14304840,
     "status": "ok",
     "timestamp": 1672867135289,
     "user": {
      "displayName": "Aneta Nowak",
      "userId": "06833223845055190790"
     },
     "user_tz": -60
    },
    "id": "hvK_1Yl7BJCM",
    "outputId": "3e1e51ad-f4b4-458e-ad8f-cdd4b3d201c4"
   },
   "outputs": [
    {
     "name": "stdout",
     "output_type": "stream",
     "text": [
      "Epoch 1/20\n",
      "47/47 [==============================] - ETA: 0s - loss: 0.8275 - tp: 489.0000 - fp: 249.0000 - tn: 489.0000 - fn: 249.0000 - accuracy: 0.6626 - precision: 0.6626 - recall: 0.6626 - auc: 0.7146 - prc: 0.6984 \n",
      "Epoch 1: loss improved from inf to 0.82747, saving model to drive/MyDrive/ColabNotebooks/checkpoint2/ResNet50-01.hdf5\n",
      "47/47 [==============================] - 733s 15s/step - loss: 0.8275 - tp: 489.0000 - fp: 249.0000 - tn: 489.0000 - fn: 249.0000 - accuracy: 0.6626 - precision: 0.6626 - recall: 0.6626 - auc: 0.7146 - prc: 0.6984 - val_loss: 883.7233 - val_tp: 157.0000 - val_fp: 157.0000 - val_tn: 157.0000 - val_fn: 157.0000 - val_accuracy: 0.5000 - val_precision: 0.5000 - val_recall: 0.5000 - val_auc: 0.5000 - val_prc: 0.5000\n",
      "Epoch 2/20\n",
      "47/47 [==============================] - ETA: 0s - loss: 0.5947 - tp: 546.0000 - fp: 192.0000 - tn: 546.0000 - fn: 192.0000 - accuracy: 0.7398 - precision: 0.7398 - recall: 0.7398 - auc: 0.8005 - prc: 0.7861 \n",
      "Epoch 2: loss improved from 0.82747 to 0.59473, saving model to drive/MyDrive/ColabNotebooks/checkpoint2/ResNet50-02.hdf5\n",
      "47/47 [==============================] - 693s 14s/step - loss: 0.5947 - tp: 546.0000 - fp: 192.0000 - tn: 546.0000 - fn: 192.0000 - accuracy: 0.7398 - precision: 0.7398 - recall: 0.7398 - auc: 0.8005 - prc: 0.7861 - val_loss: 0.7128 - val_tp: 157.0000 - val_fp: 157.0000 - val_tn: 157.0000 - val_fn: 157.0000 - val_accuracy: 0.5000 - val_precision: 0.5000 - val_recall: 0.5000 - val_auc: 0.5610 - val_prc: 0.5728\n",
      "Epoch 3/20\n",
      "47/47 [==============================] - ETA: 0s - loss: 0.5050 - tp: 541.0000 - fp: 197.0000 - tn: 541.0000 - fn: 197.0000 - accuracy: 0.7331 - precision: 0.7331 - recall: 0.7331 - auc: 0.8294 - prc: 0.8251 \n",
      "Epoch 3: loss improved from 0.59473 to 0.50500, saving model to drive/MyDrive/ColabNotebooks/checkpoint2/ResNet50-03.hdf5\n",
      "47/47 [==============================] - 698s 14s/step - loss: 0.5050 - tp: 541.0000 - fp: 197.0000 - tn: 541.0000 - fn: 197.0000 - accuracy: 0.7331 - precision: 0.7331 - recall: 0.7331 - auc: 0.8294 - prc: 0.8251 - val_loss: 1.0240 - val_tp: 157.0000 - val_fp: 157.0000 - val_tn: 157.0000 - val_fn: 157.0000 - val_accuracy: 0.5000 - val_precision: 0.5000 - val_recall: 0.5000 - val_auc: 0.4026 - val_prc: 0.4274\n",
      "Epoch 4/20\n",
      "47/47 [==============================] - ETA: 0s - loss: 0.5210 - tp: 553.0000 - fp: 185.0000 - tn: 553.0000 - fn: 185.0000 - accuracy: 0.7493 - precision: 0.7493 - recall: 0.7493 - auc: 0.8270 - prc: 0.8256 \n",
      "Epoch 4: loss did not improve from 0.50500\n",
      "47/47 [==============================] - 692s 14s/step - loss: 0.5210 - tp: 553.0000 - fp: 185.0000 - tn: 553.0000 - fn: 185.0000 - accuracy: 0.7493 - precision: 0.7493 - recall: 0.7493 - auc: 0.8270 - prc: 0.8256 - val_loss: 5.6395 - val_tp: 157.0000 - val_fp: 157.0000 - val_tn: 157.0000 - val_fn: 157.0000 - val_accuracy: 0.5000 - val_precision: 0.5000 - val_recall: 0.5000 - val_auc: 0.5000 - val_prc: 0.5000\n",
      "Epoch 5/20\n",
      "47/47 [==============================] - ETA: 0s - loss: 0.4781 - tp: 575.0000 - fp: 163.0000 - tn: 575.0000 - fn: 163.0000 - accuracy: 0.7791 - precision: 0.7791 - recall: 0.7791 - auc: 0.8532 - prc: 0.8505 \n",
      "Epoch 5: loss improved from 0.50500 to 0.47811, saving model to drive/MyDrive/ColabNotebooks/checkpoint2/ResNet50-05.hdf5\n",
      "47/47 [==============================] - 717s 15s/step - loss: 0.4781 - tp: 575.0000 - fp: 163.0000 - tn: 575.0000 - fn: 163.0000 - accuracy: 0.7791 - precision: 0.7791 - recall: 0.7791 - auc: 0.8532 - prc: 0.8505 - val_loss: 0.7189 - val_tp: 158.0000 - val_fp: 156.0000 - val_tn: 158.0000 - val_fn: 156.0000 - val_accuracy: 0.5032 - val_precision: 0.5032 - val_recall: 0.5032 - val_auc: 0.4132 - val_prc: 0.4338\n",
      "Epoch 6/20\n",
      "47/47 [==============================] - ETA: 0s - loss: 0.4612 - tp: 568.0000 - fp: 170.0000 - tn: 568.0000 - fn: 170.0000 - accuracy: 0.7696 - precision: 0.7696 - recall: 0.7696 - auc: 0.8625 - prc: 0.8622 \n",
      "Epoch 6: loss improved from 0.47811 to 0.46123, saving model to drive/MyDrive/ColabNotebooks/checkpoint2/ResNet50-06.hdf5\n",
      "47/47 [==============================] - 701s 14s/step - loss: 0.4612 - tp: 568.0000 - fp: 170.0000 - tn: 568.0000 - fn: 170.0000 - accuracy: 0.7696 - precision: 0.7696 - recall: 0.7696 - auc: 0.8625 - prc: 0.8622 - val_loss: 1.6818 - val_tp: 157.0000 - val_fp: 157.0000 - val_tn: 157.0000 - val_fn: 157.0000 - val_accuracy: 0.5000 - val_precision: 0.5000 - val_recall: 0.5000 - val_auc: 0.5000 - val_prc: 0.5000\n",
      "Epoch 7/20\n",
      "47/47 [==============================] - ETA: 0s - loss: 0.4478 - tp: 580.0000 - fp: 158.0000 - tn: 580.0000 - fn: 158.0000 - accuracy: 0.7859 - precision: 0.7859 - recall: 0.7859 - auc: 0.8678 - prc: 0.8624 \n",
      "Epoch 7: loss improved from 0.46123 to 0.44784, saving model to drive/MyDrive/ColabNotebooks/checkpoint2/ResNet50-07.hdf5\n",
      "47/47 [==============================] - 687s 14s/step - loss: 0.4478 - tp: 580.0000 - fp: 158.0000 - tn: 580.0000 - fn: 158.0000 - accuracy: 0.7859 - precision: 0.7859 - recall: 0.7859 - auc: 0.8678 - prc: 0.8624 - val_loss: 0.8096 - val_tp: 157.0000 - val_fp: 157.0000 - val_tn: 157.0000 - val_fn: 157.0000 - val_accuracy: 0.5000 - val_precision: 0.5000 - val_recall: 0.5000 - val_auc: 0.5993 - val_prc: 0.5954\n",
      "Epoch 8/20\n",
      "47/47 [==============================] - ETA: 0s - loss: 0.4482 - tp: 586.0000 - fp: 152.0000 - tn: 586.0000 - fn: 152.0000 - accuracy: 0.7940 - precision: 0.7940 - recall: 0.7940 - auc: 0.8796 - prc: 0.8776 \n",
      "Epoch 8: loss did not improve from 0.44784\n",
      "47/47 [==============================] - 676s 14s/step - loss: 0.4482 - tp: 586.0000 - fp: 152.0000 - tn: 586.0000 - fn: 152.0000 - accuracy: 0.7940 - precision: 0.7940 - recall: 0.7940 - auc: 0.8796 - prc: 0.8776 - val_loss: 0.6918 - val_tp: 157.0000 - val_fp: 157.0000 - val_tn: 157.0000 - val_fn: 157.0000 - val_accuracy: 0.5000 - val_precision: 0.5000 - val_recall: 0.5000 - val_auc: 0.5628 - val_prc: 0.5880\n",
      "Epoch 9/20\n",
      "47/47 [==============================] - ETA: 0s - loss: 0.3920 - tp: 606.0000 - fp: 132.0000 - tn: 606.0000 - fn: 132.0000 - accuracy: 0.8211 - precision: 0.8211 - recall: 0.8211 - auc: 0.9006 - prc: 0.8992 \n",
      "Epoch 9: loss improved from 0.44784 to 0.39204, saving model to drive/MyDrive/ColabNotebooks/checkpoint2/ResNet50-09.hdf5\n",
      "47/47 [==============================] - 693s 14s/step - loss: 0.3920 - tp: 606.0000 - fp: 132.0000 - tn: 606.0000 - fn: 132.0000 - accuracy: 0.8211 - precision: 0.8211 - recall: 0.8211 - auc: 0.9006 - prc: 0.8992 - val_loss: 4.2117 - val_tp: 157.0000 - val_fp: 157.0000 - val_tn: 157.0000 - val_fn: 157.0000 - val_accuracy: 0.5000 - val_precision: 0.5000 - val_recall: 0.5000 - val_auc: 0.5000 - val_prc: 0.5000\n",
      "Epoch 10/20\n",
      "47/47 [==============================] - ETA: 0s - loss: 0.3957 - tp: 600.0000 - fp: 138.0000 - tn: 600.0000 - fn: 138.0000 - accuracy: 0.8130 - precision: 0.8130 - recall: 0.8130 - auc: 0.9042 - prc: 0.9015 \n",
      "Epoch 10: loss did not improve from 0.39204\n",
      "47/47 [==============================] - 686s 14s/step - loss: 0.3957 - tp: 600.0000 - fp: 138.0000 - tn: 600.0000 - fn: 138.0000 - accuracy: 0.8130 - precision: 0.8130 - recall: 0.8130 - auc: 0.9042 - prc: 0.9015 - val_loss: 0.6902 - val_tp: 157.0000 - val_fp: 157.0000 - val_tn: 157.0000 - val_fn: 157.0000 - val_accuracy: 0.5000 - val_precision: 0.5000 - val_recall: 0.5000 - val_auc: 0.5678 - val_prc: 0.6052\n",
      "Epoch 11/20\n",
      "47/47 [==============================] - ETA: 0s - loss: 0.3682 - tp: 615.0000 - fp: 123.0000 - tn: 615.0000 - fn: 123.0000 - accuracy: 0.8333 - precision: 0.8333 - recall: 0.8333 - auc: 0.9181 - prc: 0.9150 \n",
      "Epoch 11: loss improved from 0.39204 to 0.36822, saving model to drive/MyDrive/ColabNotebooks/checkpoint2/ResNet50-11.hdf5\n",
      "47/47 [==============================] - 698s 14s/step - loss: 0.3682 - tp: 615.0000 - fp: 123.0000 - tn: 615.0000 - fn: 123.0000 - accuracy: 0.8333 - precision: 0.8333 - recall: 0.8333 - auc: 0.9181 - prc: 0.9150 - val_loss: 1.1928 - val_tp: 157.0000 - val_fp: 157.0000 - val_tn: 157.0000 - val_fn: 157.0000 - val_accuracy: 0.5000 - val_precision: 0.5000 - val_recall: 0.5000 - val_auc: 0.6070 - val_prc: 0.6197\n",
      "Epoch 12/20\n",
      "47/47 [==============================] - ETA: 0s - loss: 0.3736 - tp: 615.0000 - fp: 123.0000 - tn: 615.0000 - fn: 123.0000 - accuracy: 0.8333 - precision: 0.8333 - recall: 0.8333 - auc: 0.9108 - prc: 0.9075 \n",
      "Epoch 12: loss did not improve from 0.36822\n",
      "47/47 [==============================] - 696s 14s/step - loss: 0.3736 - tp: 615.0000 - fp: 123.0000 - tn: 615.0000 - fn: 123.0000 - accuracy: 0.8333 - precision: 0.8333 - recall: 0.8333 - auc: 0.9108 - prc: 0.9075 - val_loss: 0.7328 - val_tp: 157.0000 - val_fp: 157.0000 - val_tn: 157.0000 - val_fn: 157.0000 - val_accuracy: 0.5000 - val_precision: 0.5000 - val_recall: 0.5000 - val_auc: 0.6158 - val_prc: 0.6291\n",
      "Epoch 13/20\n",
      "47/47 [==============================] - ETA: 0s - loss: 0.3960 - tp: 604.0000 - fp: 134.0000 - tn: 604.0000 - fn: 134.0000 - accuracy: 0.8184 - precision: 0.8184 - recall: 0.8184 - auc: 0.8968 - prc: 0.8944 \n",
      "Epoch 13: loss did not improve from 0.36822\n",
      "47/47 [==============================] - 691s 14s/step - loss: 0.3960 - tp: 604.0000 - fp: 134.0000 - tn: 604.0000 - fn: 134.0000 - accuracy: 0.8184 - precision: 0.8184 - recall: 0.8184 - auc: 0.8968 - prc: 0.8944 - val_loss: 0.6909 - val_tp: 157.0000 - val_fp: 157.0000 - val_tn: 157.0000 - val_fn: 157.0000 - val_accuracy: 0.5000 - val_precision: 0.5000 - val_recall: 0.5000 - val_auc: 0.6164 - val_prc: 0.6411\n",
      "Epoch 14/20\n",
      "47/47 [==============================] - ETA: 0s - loss: 0.3528 - tp: 620.0000 - fp: 118.0000 - tn: 620.0000 - fn: 118.0000 - accuracy: 0.8401 - precision: 0.8401 - recall: 0.8401 - auc: 0.9209 - prc: 0.9160 \n",
      "Epoch 14: loss improved from 0.36822 to 0.35277, saving model to drive/MyDrive/ColabNotebooks/checkpoint2/ResNet50-14.hdf5\n",
      "47/47 [==============================] - 707s 14s/step - loss: 0.3528 - tp: 620.0000 - fp: 118.0000 - tn: 620.0000 - fn: 118.0000 - accuracy: 0.8401 - precision: 0.8401 - recall: 0.8401 - auc: 0.9209 - prc: 0.9160 - val_loss: 3.6885 - val_tp: 157.0000 - val_fp: 157.0000 - val_tn: 157.0000 - val_fn: 157.0000 - val_accuracy: 0.5000 - val_precision: 0.5000 - val_recall: 0.5000 - val_auc: 0.5000 - val_prc: 0.5000\n",
      "Epoch 15/20\n",
      "47/47 [==============================] - ETA: 0s - loss: 0.3221 - tp: 643.0000 - fp: 95.0000 - tn: 643.0000 - fn: 95.0000 - accuracy: 0.8713 - precision: 0.8713 - recall: 0.8713 - auc: 0.9391 - prc: 0.9364 \n",
      "Epoch 15: loss improved from 0.35277 to 0.32206, saving model to drive/MyDrive/ColabNotebooks/checkpoint2/ResNet50-15.hdf5\n",
      "47/47 [==============================] - 705s 15s/step - loss: 0.3221 - tp: 643.0000 - fp: 95.0000 - tn: 643.0000 - fn: 95.0000 - accuracy: 0.8713 - precision: 0.8713 - recall: 0.8713 - auc: 0.9391 - prc: 0.9364 - val_loss: 0.8270 - val_tp: 156.0000 - val_fp: 158.0000 - val_tn: 156.0000 - val_fn: 158.0000 - val_accuracy: 0.4968 - val_precision: 0.4968 - val_recall: 0.4968 - val_auc: 0.5238 - val_prc: 0.5242\n",
      "Epoch 16/20\n",
      "47/47 [==============================] - ETA: 0s - loss: 0.3092 - tp: 635.0000 - fp: 103.0000 - tn: 635.0000 - fn: 103.0000 - accuracy: 0.8604 - precision: 0.8604 - recall: 0.8604 - auc: 0.9384 - prc: 0.9365 \n",
      "Epoch 16: loss improved from 0.32206 to 0.30920, saving model to drive/MyDrive/ColabNotebooks/checkpoint2/ResNet50-16.hdf5\n",
      "47/47 [==============================] - 702s 14s/step - loss: 0.3092 - tp: 635.0000 - fp: 103.0000 - tn: 635.0000 - fn: 103.0000 - accuracy: 0.8604 - precision: 0.8604 - recall: 0.8604 - auc: 0.9384 - prc: 0.9365 - val_loss: 1.0923 - val_tp: 159.0000 - val_fp: 155.0000 - val_tn: 159.0000 - val_fn: 155.0000 - val_accuracy: 0.5064 - val_precision: 0.5064 - val_recall: 0.5064 - val_auc: 0.6188 - val_prc: 0.6284\n",
      "Epoch 17/20\n",
      "47/47 [==============================] - ETA: 0s - loss: 0.2732 - tp: 643.0000 - fp: 95.0000 - tn: 643.0000 - fn: 95.0000 - accuracy: 0.8713 - precision: 0.8713 - recall: 0.8713 - auc: 0.9504 - prc: 0.9491 \n",
      "Epoch 17: loss improved from 0.30920 to 0.27323, saving model to drive/MyDrive/ColabNotebooks/checkpoint2/ResNet50-17.hdf5\n",
      "47/47 [==============================] - 694s 14s/step - loss: 0.2732 - tp: 643.0000 - fp: 95.0000 - tn: 643.0000 - fn: 95.0000 - accuracy: 0.8713 - precision: 0.8713 - recall: 0.8713 - auc: 0.9504 - prc: 0.9491 - val_loss: 2.3880 - val_tp: 159.0000 - val_fp: 155.0000 - val_tn: 159.0000 - val_fn: 155.0000 - val_accuracy: 0.5064 - val_precision: 0.5064 - val_recall: 0.5064 - val_auc: 0.5278 - val_prc: 0.5201\n",
      "Epoch 18/20\n",
      "47/47 [==============================] - ETA: 0s - loss: 0.2545 - tp: 668.0000 - fp: 70.0000 - tn: 668.0000 - fn: 70.0000 - accuracy: 0.9051 - precision: 0.9051 - recall: 0.9051 - auc: 0.9611 - prc: 0.9570 \n",
      "Epoch 18: loss improved from 0.27323 to 0.25452, saving model to drive/MyDrive/ColabNotebooks/checkpoint2/ResNet50-18.hdf5\n",
      "47/47 [==============================] - 700s 14s/step - loss: 0.2545 - tp: 668.0000 - fp: 70.0000 - tn: 668.0000 - fn: 70.0000 - accuracy: 0.9051 - precision: 0.9051 - recall: 0.9051 - auc: 0.9611 - prc: 0.9570 - val_loss: 3.9210 - val_tp: 157.0000 - val_fp: 157.0000 - val_tn: 157.0000 - val_fn: 157.0000 - val_accuracy: 0.5000 - val_precision: 0.5000 - val_recall: 0.5000 - val_auc: 0.4984 - val_prc: 0.4989\n",
      "Epoch 19/20\n",
      "47/47 [==============================] - ETA: 0s - loss: 0.3270 - tp: 639.0000 - fp: 99.0000 - tn: 639.0000 - fn: 99.0000 - accuracy: 0.8659 - precision: 0.8659 - recall: 0.8659 - auc: 0.9317 - prc: 0.9251 \n",
      "Epoch 19: loss did not improve from 0.25452\n",
      "47/47 [==============================] - 683s 14s/step - loss: 0.3270 - tp: 639.0000 - fp: 99.0000 - tn: 639.0000 - fn: 99.0000 - accuracy: 0.8659 - precision: 0.8659 - recall: 0.8659 - auc: 0.9317 - prc: 0.9251 - val_loss: 0.7060 - val_tp: 173.0000 - val_fp: 141.0000 - val_tn: 173.0000 - val_fn: 141.0000 - val_accuracy: 0.5510 - val_precision: 0.5510 - val_recall: 0.5510 - val_auc: 0.6638 - val_prc: 0.6858\n",
      "Epoch 20/20\n",
      "47/47 [==============================] - ETA: 0s - loss: 0.1942 - tp: 682.0000 - fp: 56.0000 - tn: 682.0000 - fn: 56.0000 - accuracy: 0.9241 - precision: 0.9241 - recall: 0.9241 - auc: 0.9787 - prc: 0.9773 \n",
      "Epoch 20: loss improved from 0.25452 to 0.19418, saving model to drive/MyDrive/ColabNotebooks/checkpoint2/ResNet50-20.hdf5\n",
      "47/47 [==============================] - 709s 14s/step - loss: 0.1942 - tp: 682.0000 - fp: 56.0000 - tn: 682.0000 - fn: 56.0000 - accuracy: 0.9241 - precision: 0.9241 - recall: 0.9241 - auc: 0.9787 - prc: 0.9773 - val_loss: 1.5559 - val_tp: 162.0000 - val_fp: 152.0000 - val_tn: 162.0000 - val_fn: 152.0000 - val_accuracy: 0.5159 - val_precision: 0.5159 - val_recall: 0.5159 - val_auc: 0.5544 - val_prc: 0.5427\n"
     ]
    }
   ],
   "source": [
    "history = model_ResNet50.fit(train_generator, \n",
    "                             epochs = CONFIG.get(\"epochs\"), \n",
    "                             workers = CONFIG.get(\"workers\"),\n",
    "                             validation_data = valid_generator,\n",
    "                             callbacks = callbacks_list \n",
    "                            )"
   ]
  },
  {
   "cell_type": "markdown",
   "metadata": {
    "id": "GYppZRWanv1d"
   },
   "source": [
    "#8. Ocena modelu"
   ]
  },
  {
   "cell_type": "code",
   "execution_count": 15,
   "metadata": {
    "colab": {
     "base_uri": "https://localhost:8080/"
    },
    "executionInfo": {
     "elapsed": 20,
     "status": "ok",
     "timestamp": 1672867135289,
     "user": {
      "displayName": "Aneta Nowak",
      "userId": "06833223845055190790"
     },
     "user_tz": -60
    },
    "id": "897o73BPM4WM",
    "outputId": "b88d1f0e-fc94-4264-f595-b37e65d2f669"
   },
   "outputs": [
    {
     "data": {
      "text/plain": [
       "{'loss': [0.827471137046814,\n",
       "  0.5947255492210388,\n",
       "  0.5049996972084045,\n",
       "  0.5209726691246033,\n",
       "  0.4781116545200348,\n",
       "  0.4612278342247009,\n",
       "  0.4478422701358795,\n",
       "  0.44815802574157715,\n",
       "  0.39203500747680664,\n",
       "  0.395746111869812,\n",
       "  0.3682158291339874,\n",
       "  0.37362200021743774,\n",
       "  0.395988404750824,\n",
       "  0.3527696132659912,\n",
       "  0.32205572724342346,\n",
       "  0.3091983199119568,\n",
       "  0.2732328176498413,\n",
       "  0.25451546907424927,\n",
       "  0.327027827501297,\n",
       "  0.19417844712734222],\n",
       " 'tp': [489.0,\n",
       "  546.0,\n",
       "  541.0,\n",
       "  553.0,\n",
       "  575.0,\n",
       "  568.0,\n",
       "  580.0,\n",
       "  586.0,\n",
       "  606.0,\n",
       "  600.0,\n",
       "  615.0,\n",
       "  615.0,\n",
       "  604.0,\n",
       "  620.0,\n",
       "  643.0,\n",
       "  635.0,\n",
       "  643.0,\n",
       "  668.0,\n",
       "  639.0,\n",
       "  682.0],\n",
       " 'fp': [249.0,\n",
       "  192.0,\n",
       "  197.0,\n",
       "  185.0,\n",
       "  163.0,\n",
       "  170.0,\n",
       "  158.0,\n",
       "  152.0,\n",
       "  132.0,\n",
       "  138.0,\n",
       "  123.0,\n",
       "  123.0,\n",
       "  134.0,\n",
       "  118.0,\n",
       "  95.0,\n",
       "  103.0,\n",
       "  95.0,\n",
       "  70.0,\n",
       "  99.0,\n",
       "  56.0],\n",
       " 'tn': [489.0,\n",
       "  546.0,\n",
       "  541.0,\n",
       "  553.0,\n",
       "  575.0,\n",
       "  568.0,\n",
       "  580.0,\n",
       "  586.0,\n",
       "  606.0,\n",
       "  600.0,\n",
       "  615.0,\n",
       "  615.0,\n",
       "  604.0,\n",
       "  620.0,\n",
       "  643.0,\n",
       "  635.0,\n",
       "  643.0,\n",
       "  668.0,\n",
       "  639.0,\n",
       "  682.0],\n",
       " 'fn': [249.0,\n",
       "  192.0,\n",
       "  197.0,\n",
       "  185.0,\n",
       "  163.0,\n",
       "  170.0,\n",
       "  158.0,\n",
       "  152.0,\n",
       "  132.0,\n",
       "  138.0,\n",
       "  123.0,\n",
       "  123.0,\n",
       "  134.0,\n",
       "  118.0,\n",
       "  95.0,\n",
       "  103.0,\n",
       "  95.0,\n",
       "  70.0,\n",
       "  99.0,\n",
       "  56.0],\n",
       " 'accuracy': [0.6626016497612,\n",
       "  0.7398374080657959,\n",
       "  0.7330623269081116,\n",
       "  0.7493224740028381,\n",
       "  0.7791327834129333,\n",
       "  0.7696477174758911,\n",
       "  0.7859078645706177,\n",
       "  0.794037938117981,\n",
       "  0.8211382031440735,\n",
       "  0.8130081295967102,\n",
       "  0.8333333134651184,\n",
       "  0.8333333134651184,\n",
       "  0.8184281587600708,\n",
       "  0.8401083946228027,\n",
       "  0.8712736964225769,\n",
       "  0.8604335784912109,\n",
       "  0.8712736964225769,\n",
       "  0.9051490426063538,\n",
       "  0.8658536672592163,\n",
       "  0.924119234085083],\n",
       " 'precision': [0.6626016497612,\n",
       "  0.7398374080657959,\n",
       "  0.7330623269081116,\n",
       "  0.7493224740028381,\n",
       "  0.7791327834129333,\n",
       "  0.7696477174758911,\n",
       "  0.7859078645706177,\n",
       "  0.794037938117981,\n",
       "  0.8211382031440735,\n",
       "  0.8130081295967102,\n",
       "  0.8333333134651184,\n",
       "  0.8333333134651184,\n",
       "  0.8184281587600708,\n",
       "  0.8401083946228027,\n",
       "  0.8712736964225769,\n",
       "  0.8604335784912109,\n",
       "  0.8712736964225769,\n",
       "  0.9051490426063538,\n",
       "  0.8658536672592163,\n",
       "  0.924119234085083],\n",
       " 'recall': [0.6626016497612,\n",
       "  0.7398374080657959,\n",
       "  0.7330623269081116,\n",
       "  0.7493224740028381,\n",
       "  0.7791327834129333,\n",
       "  0.7696477174758911,\n",
       "  0.7859078645706177,\n",
       "  0.794037938117981,\n",
       "  0.8211382031440735,\n",
       "  0.8130081295967102,\n",
       "  0.8333333134651184,\n",
       "  0.8333333134651184,\n",
       "  0.8184281587600708,\n",
       "  0.8401083946228027,\n",
       "  0.8712736964225769,\n",
       "  0.8604335784912109,\n",
       "  0.8712736964225769,\n",
       "  0.9051490426063538,\n",
       "  0.8658536672592163,\n",
       "  0.924119234085083],\n",
       " 'auc': [0.7145639657974243,\n",
       "  0.8005247712135315,\n",
       "  0.8294060230255127,\n",
       "  0.8269585371017456,\n",
       "  0.8532105684280396,\n",
       "  0.8625486493110657,\n",
       "  0.867836594581604,\n",
       "  0.8795663118362427,\n",
       "  0.9005579352378845,\n",
       "  0.9042171835899353,\n",
       "  0.918076753616333,\n",
       "  0.9108216166496277,\n",
       "  0.8967912793159485,\n",
       "  0.9208611845970154,\n",
       "  0.9390720725059509,\n",
       "  0.9384441375732422,\n",
       "  0.9503564834594727,\n",
       "  0.9611013531684875,\n",
       "  0.9316617250442505,\n",
       "  0.9786825180053711],\n",
       " 'prc': [0.6984124183654785,\n",
       "  0.7861021757125854,\n",
       "  0.8250700831413269,\n",
       "  0.8255590200424194,\n",
       "  0.8505294322967529,\n",
       "  0.8622235059738159,\n",
       "  0.8624266386032104,\n",
       "  0.8775734901428223,\n",
       "  0.8991547226905823,\n",
       "  0.9014527797698975,\n",
       "  0.914979100227356,\n",
       "  0.9075374007225037,\n",
       "  0.894435703754425,\n",
       "  0.9160066843032837,\n",
       "  0.9364422559738159,\n",
       "  0.9364898800849915,\n",
       "  0.9490878582000732,\n",
       "  0.9569783806800842,\n",
       "  0.9250826835632324,\n",
       "  0.9772595763206482],\n",
       " 'val_loss': [883.7233276367188,\n",
       "  0.7127839922904968,\n",
       "  1.0239758491516113,\n",
       "  5.63953161239624,\n",
       "  0.7189445495605469,\n",
       "  1.6818126440048218,\n",
       "  0.8096064329147339,\n",
       "  0.6917886137962341,\n",
       "  4.2117180824279785,\n",
       "  0.6901763081550598,\n",
       "  1.1928327083587646,\n",
       "  0.7328373789787292,\n",
       "  0.6908990740776062,\n",
       "  3.6885313987731934,\n",
       "  0.8270444273948669,\n",
       "  1.0923261642456055,\n",
       "  2.388043165206909,\n",
       "  3.9210081100463867,\n",
       "  0.7060186266899109,\n",
       "  1.5559083223342896],\n",
       " 'val_tp': [157.0,\n",
       "  157.0,\n",
       "  157.0,\n",
       "  157.0,\n",
       "  158.0,\n",
       "  157.0,\n",
       "  157.0,\n",
       "  157.0,\n",
       "  157.0,\n",
       "  157.0,\n",
       "  157.0,\n",
       "  157.0,\n",
       "  157.0,\n",
       "  157.0,\n",
       "  156.0,\n",
       "  159.0,\n",
       "  159.0,\n",
       "  157.0,\n",
       "  173.0,\n",
       "  162.0],\n",
       " 'val_fp': [157.0,\n",
       "  157.0,\n",
       "  157.0,\n",
       "  157.0,\n",
       "  156.0,\n",
       "  157.0,\n",
       "  157.0,\n",
       "  157.0,\n",
       "  157.0,\n",
       "  157.0,\n",
       "  157.0,\n",
       "  157.0,\n",
       "  157.0,\n",
       "  157.0,\n",
       "  158.0,\n",
       "  155.0,\n",
       "  155.0,\n",
       "  157.0,\n",
       "  141.0,\n",
       "  152.0],\n",
       " 'val_tn': [157.0,\n",
       "  157.0,\n",
       "  157.0,\n",
       "  157.0,\n",
       "  158.0,\n",
       "  157.0,\n",
       "  157.0,\n",
       "  157.0,\n",
       "  157.0,\n",
       "  157.0,\n",
       "  157.0,\n",
       "  157.0,\n",
       "  157.0,\n",
       "  157.0,\n",
       "  156.0,\n",
       "  159.0,\n",
       "  159.0,\n",
       "  157.0,\n",
       "  173.0,\n",
       "  162.0],\n",
       " 'val_fn': [157.0,\n",
       "  157.0,\n",
       "  157.0,\n",
       "  157.0,\n",
       "  156.0,\n",
       "  157.0,\n",
       "  157.0,\n",
       "  157.0,\n",
       "  157.0,\n",
       "  157.0,\n",
       "  157.0,\n",
       "  157.0,\n",
       "  157.0,\n",
       "  157.0,\n",
       "  158.0,\n",
       "  155.0,\n",
       "  155.0,\n",
       "  157.0,\n",
       "  141.0,\n",
       "  152.0],\n",
       " 'val_accuracy': [0.5,\n",
       "  0.5,\n",
       "  0.5,\n",
       "  0.5,\n",
       "  0.5031847357749939,\n",
       "  0.5,\n",
       "  0.5,\n",
       "  0.5,\n",
       "  0.5,\n",
       "  0.5,\n",
       "  0.5,\n",
       "  0.5,\n",
       "  0.5,\n",
       "  0.5,\n",
       "  0.4968152940273285,\n",
       "  0.506369411945343,\n",
       "  0.506369411945343,\n",
       "  0.5,\n",
       "  0.5509554147720337,\n",
       "  0.5159235596656799],\n",
       " 'val_precision': [0.5,\n",
       "  0.5,\n",
       "  0.5,\n",
       "  0.5,\n",
       "  0.5031847357749939,\n",
       "  0.5,\n",
       "  0.5,\n",
       "  0.5,\n",
       "  0.5,\n",
       "  0.5,\n",
       "  0.5,\n",
       "  0.5,\n",
       "  0.5,\n",
       "  0.5,\n",
       "  0.4968152940273285,\n",
       "  0.506369411945343,\n",
       "  0.506369411945343,\n",
       "  0.5,\n",
       "  0.5509554147720337,\n",
       "  0.5159235596656799],\n",
       " 'val_recall': [0.5,\n",
       "  0.5,\n",
       "  0.5,\n",
       "  0.5,\n",
       "  0.5031847357749939,\n",
       "  0.5,\n",
       "  0.5,\n",
       "  0.5,\n",
       "  0.5,\n",
       "  0.5,\n",
       "  0.5,\n",
       "  0.5,\n",
       "  0.5,\n",
       "  0.5,\n",
       "  0.4968152940273285,\n",
       "  0.506369411945343,\n",
       "  0.506369411945343,\n",
       "  0.5,\n",
       "  0.5509554147720337,\n",
       "  0.5159235596656799],\n",
       " 'val_auc': [0.5,\n",
       "  0.5609760880470276,\n",
       "  0.4025822579860687,\n",
       "  0.5,\n",
       "  0.4131607711315155,\n",
       "  0.5,\n",
       "  0.5993346571922302,\n",
       "  0.5628423094749451,\n",
       "  0.5,\n",
       "  0.5678019523620605,\n",
       "  0.6070225238800049,\n",
       "  0.6158363223075867,\n",
       "  0.616424560546875,\n",
       "  0.5,\n",
       "  0.5237535238265991,\n",
       "  0.6188182234764099,\n",
       "  0.5277901291847229,\n",
       "  0.49840766191482544,\n",
       "  0.6637541055679321,\n",
       "  0.5544342994689941],\n",
       " 'val_prc': [0.5,\n",
       "  0.5727939605712891,\n",
       "  0.4273553192615509,\n",
       "  0.5,\n",
       "  0.433824747800827,\n",
       "  0.5,\n",
       "  0.5954056978225708,\n",
       "  0.5879827737808228,\n",
       "  0.5,\n",
       "  0.6051719188690186,\n",
       "  0.6197024583816528,\n",
       "  0.6291236281394958,\n",
       "  0.6410516500473022,\n",
       "  0.5,\n",
       "  0.5241854190826416,\n",
       "  0.6283915042877197,\n",
       "  0.5201144218444824,\n",
       "  0.4988968074321747,\n",
       "  0.6858455538749695,\n",
       "  0.5426713228225708]}"
      ]
     },
     "execution_count": 15,
     "metadata": {},
     "output_type": "execute_result"
    }
   ],
   "source": [
    "history.history"
   ]
  },
  {
   "cell_type": "code",
   "execution_count": 17,
   "metadata": {
    "colab": {
     "base_uri": "https://localhost:8080/",
     "height": 424
    },
    "executionInfo": {
     "elapsed": 1364,
     "status": "ok",
     "timestamp": 1672867304061,
     "user": {
      "displayName": "Aneta Nowak",
      "userId": "06833223845055190790"
     },
     "user_tz": -60
    },
    "id": "bRgpwgd26bit",
    "outputId": "6387f274-5abf-4c60-8051-8a14caad8b68"
   },
   "outputs": [
    {
     "data": {
      "image/png": "[encoded data removed]",
      "text/plain": [
       "<Figure size 1656x576 with 2 Axes>"
      ]
     },
     "metadata": {
      "needs_background": "light"
     },
     "output_type": "display_data"
    }
   ],
   "source": [
    "acc = history.history['accuracy']\n",
    "val_acc = history.history['val_accuracy']\n",
    "\n",
    "loss = history.history['loss']\n",
    "val_loss = history.history['val_loss']\n",
    "\n",
    "metrics = history.history['accuracy']\n",
    "epochs_range = range(1, len(metrics) + 1) \n",
    "\n",
    "plt.figure(figsize=(23, 8))\n",
    "plt.subplot(1, 2, 1)\n",
    "plt.plot(epochs_range, acc, label='Training Accuracy')\n",
    "plt.plot(epochs_range, val_acc, label='Validation Accuracy')\n",
    "plt.legend(loc='lower right')\n",
    "plt.title('Training and Validation Accuracy')\n",
    "\n",
    "plt.subplot(1, 2, 2)\n",
    "plt.plot(epochs_range, loss, label='Training Loss')\n",
    "plt.plot(epochs_range, val_loss, label='Validation Loss')\n",
    "plt.legend(loc='upper right')\n",
    "plt.title('Training and Validation Loss')\n",
    "plt.show()"
   ]
  }
 ],
 "metadata": {
  "accelerator": "GPU",
  "colab": {
   "authorship_tag": "ABX9TyOqlk3I+ClyxedJ2XwFSdMJ",
   "collapsed_sections": [
    "zCImDNTvn1L-",
    "cOYjQ0rWlnmG",
    "GYppZRWanv1d"
   ],
   "machine_shape": "hm",
   "mount_file_id": "1k7ptxnCeB9P34IQBmOK7tBxUBHXUZjIw",
   "provenance": [
    {
     "file_id": "1hLi9f5XPFox-1V995PLJjdbIhX4ogtg_",
     "timestamp": 1672179962305
    }
   ]
  },
  "gpuClass": "premium",
  "kernelspec": {
   "display_name": "Python 3 (ipykernel)",
   "language": "python",
   "name": "python3"
  },
  "language_info": {
   "codemirror_mode": {
    "name": "ipython",
    "version": 3
   },
   "file_extension": ".py",
   "mimetype": "text/x-python",
   "name": "python",
   "nbconvert_exporter": "python",
   "pygments_lexer": "ipython3",
   "version": "3.10.4"
  }
 },
 "nbformat": 4,
 "nbformat_minor": 1
}
