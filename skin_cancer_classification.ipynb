{
  "cells": [
    {
      "cell_type": "markdown",
      "metadata": {
        "id": "view-in-github",
        "colab_type": "text"
      },
      "source": [
        "<a href=\"https://colab.research.google.com/github/anetanowak55/skin-cancer-classification/blob/main/skin_cancer_classification.ipynb\" target=\"_parent\"><img src=\"https://colab.research.google.com/assets/colab-badge.svg\" alt=\"Open In Colab\"/></a>"
      ]
    },
    {
      "cell_type": "markdown",
      "source": [
        "#0. Importy"
      ],
      "metadata": {
        "id": "zCImDNTvn1L-"
      }
    },
    {
      "cell_type": "code",
      "execution_count": null,
      "metadata": {
        "id": "Bt5vPVO2Uru4"
      },
      "outputs": [],
      "source": [
        "import pandas as pd \n",
        "import matplotlib.pyplot as plt\n",
        "import numpy as np\n",
        "from PIL import Image\n",
        "from sklearn.model_selection import train_test_split"
      ]
    },
    {
      "cell_type": "code",
      "execution_count": null,
      "metadata": {
        "id": "YQsoywZicQhw"
      },
      "outputs": [],
      "source": [
        "# from google.colab import drive\n",
        "# drive.mount('/content/drive')"
      ]
    },
    {
      "cell_type": "code",
      "source": [
        "!pip install tensorflowjs\n",
        "!pip show tensorflow\n",
        "!pip show keras\n",
        "!python -V"
      ],
      "metadata": {
        "id": "NRnO7YcigphU",
        "colab": {
          "base_uri": "https://localhost:8080/"
        },
        "outputId": "1d635d1b-65d0-4d84-e36a-0d3ea460915f"
      },
      "execution_count": null,
      "outputs": [
        {
          "output_type": "stream",
          "name": "stdout",
          "text": [
            "Looking in indexes: https://pypi.org/simple, https://us-python.pkg.dev/colab-wheels/public/simple/\n",
            "Collecting tensorflowjs\n",
            "  Downloading tensorflowjs-4.1.0-py3-none-any.whl (84 kB)\n",
            "\u001b[K     |████████████████████████████████| 84 kB 3.1 MB/s \n",
            "\u001b[?25hCollecting packaging~=20.9\n",
            "  Downloading packaging-20.9-py2.py3-none-any.whl (40 kB)\n",
            "\u001b[K     |████████████████████████████████| 40 kB 5.0 MB/s \n",
            "\u001b[?25hRequirement already satisfied: six<2,>=1.12.0 in /usr/local/lib/python3.8/dist-packages (from tensorflowjs) (1.15.0)\n",
            "Requirement already satisfied: tensorflow-hub<0.13,>=0.7.0 in /usr/local/lib/python3.8/dist-packages (from tensorflowjs) (0.12.0)\n",
            "Requirement already satisfied: importlib_resources>=5.9.0 in /usr/local/lib/python3.8/dist-packages (from tensorflowjs) (5.10.0)\n",
            "Collecting tensorflow-decision-forests>=1.0.1\n",
            "  Downloading tensorflow_decision_forests-1.1.0-cp38-cp38-manylinux_2_17_x86_64.manylinux2014_x86_64.whl (16.2 MB)\n",
            "\u001b[K     |████████████████████████████████| 16.2 MB 80.2 MB/s \n",
            "\u001b[?25hRequirement already satisfied: protobuf<3.20,>=3.9.2 in /usr/local/lib/python3.8/dist-packages (from tensorflowjs) (3.19.6)\n",
            "Collecting flax>=0.5.3\n",
            "  Downloading flax-0.6.3-py3-none-any.whl (197 kB)\n",
            "\u001b[K     |████████████████████████████████| 197 kB 103.7 MB/s \n",
            "\u001b[?25hRequirement already satisfied: jax>=0.3.16 in /usr/local/lib/python3.8/dist-packages (from tensorflowjs) (0.3.25)\n",
            "Collecting tensorflow<3,>=2.10.0\n",
            "  Downloading tensorflow-2.11.0-cp38-cp38-manylinux_2_17_x86_64.manylinux2014_x86_64.whl (588.3 MB)\n",
            "\u001b[K     |████████████████████████████████| 588.3 MB 18 kB/s \n",
            "\u001b[?25hCollecting optax\n",
            "  Downloading optax-0.1.4-py3-none-any.whl (154 kB)\n",
            "\u001b[K     |████████████████████████████████| 154 kB 98.5 MB/s \n",
            "\u001b[?25hCollecting tensorstore\n",
            "  Downloading tensorstore-0.1.28-cp38-cp38-manylinux_2_17_x86_64.manylinux2014_x86_64.whl (8.3 MB)\n",
            "\u001b[K     |████████████████████████████████| 8.3 MB 91.7 MB/s \n",
            "\u001b[?25hRequirement already satisfied: numpy>=1.12 in /usr/local/lib/python3.8/dist-packages (from flax>=0.5.3->tensorflowjs) (1.21.6)\n",
            "Requirement already satisfied: msgpack in /usr/local/lib/python3.8/dist-packages (from flax>=0.5.3->tensorflowjs) (1.0.4)\n",
            "Requirement already satisfied: PyYAML>=5.4.1 in /usr/local/lib/python3.8/dist-packages (from flax>=0.5.3->tensorflowjs) (6.0)\n",
            "Requirement already satisfied: typing-extensions>=4.1.1 in /usr/local/lib/python3.8/dist-packages (from flax>=0.5.3->tensorflowjs) (4.4.0)\n",
            "Requirement already satisfied: matplotlib in /usr/local/lib/python3.8/dist-packages (from flax>=0.5.3->tensorflowjs) (3.2.2)\n",
            "Collecting rich>=11.1\n",
            "  Downloading rich-12.6.0-py3-none-any.whl (237 kB)\n",
            "\u001b[K     |████████████████████████████████| 237 kB 106.2 MB/s \n",
            "\u001b[?25hCollecting orbax\n",
            "  Downloading orbax-0.0.23-py3-none-any.whl (66 kB)\n",
            "\u001b[K     |████████████████████████████████| 66 kB 5.8 MB/s \n",
            "\u001b[?25hRequirement already satisfied: zipp>=3.1.0 in /usr/local/lib/python3.8/dist-packages (from importlib_resources>=5.9.0->tensorflowjs) (3.11.0)\n",
            "Requirement already satisfied: opt-einsum in /usr/local/lib/python3.8/dist-packages (from jax>=0.3.16->tensorflowjs) (3.3.0)\n",
            "Requirement already satisfied: scipy>=1.5 in /usr/local/lib/python3.8/dist-packages (from jax>=0.3.16->tensorflowjs) (1.7.3)\n",
            "Requirement already satisfied: pyparsing>=2.0.2 in /usr/local/lib/python3.8/dist-packages (from packaging~=20.9->tensorflowjs) (3.0.9)\n",
            "Requirement already satisfied: pygments<3.0.0,>=2.6.0 in /usr/local/lib/python3.8/dist-packages (from rich>=11.1->flax>=0.5.3->tensorflowjs) (2.6.1)\n",
            "Collecting commonmark<0.10.0,>=0.9.0\n",
            "  Downloading commonmark-0.9.1-py2.py3-none-any.whl (51 kB)\n",
            "\u001b[K     |████████████████████████████████| 51 kB 7.9 MB/s \n",
            "\u001b[?25hRequirement already satisfied: wrapt>=1.11.0 in /usr/local/lib/python3.8/dist-packages (from tensorflow<3,>=2.10.0->tensorflowjs) (1.14.1)\n",
            "Collecting flatbuffers>=2.0\n",
            "  Downloading flatbuffers-22.12.6-py2.py3-none-any.whl (26 kB)\n",
            "Requirement already satisfied: grpcio<2.0,>=1.24.3 in /usr/local/lib/python3.8/dist-packages (from tensorflow<3,>=2.10.0->tensorflowjs) (1.51.1)\n",
            "Requirement already satisfied: google-pasta>=0.1.1 in /usr/local/lib/python3.8/dist-packages (from tensorflow<3,>=2.10.0->tensorflowjs) (0.2.0)\n",
            "Collecting tensorflow-estimator<2.12,>=2.11.0\n",
            "  Downloading tensorflow_estimator-2.11.0-py2.py3-none-any.whl (439 kB)\n",
            "\u001b[K     |████████████████████████████████| 439 kB 88.2 MB/s \n",
            "\u001b[?25hRequirement already satisfied: libclang>=13.0.0 in /usr/local/lib/python3.8/dist-packages (from tensorflow<3,>=2.10.0->tensorflowjs) (14.0.6)\n",
            "Requirement already satisfied: h5py>=2.9.0 in /usr/local/lib/python3.8/dist-packages (from tensorflow<3,>=2.10.0->tensorflowjs) (3.1.0)\n",
            "Collecting tensorboard<2.12,>=2.11\n",
            "  Downloading tensorboard-2.11.0-py3-none-any.whl (6.0 MB)\n",
            "\u001b[K     |████████████████████████████████| 6.0 MB 62.6 MB/s \n",
            "\u001b[?25hRequirement already satisfied: termcolor>=1.1.0 in /usr/local/lib/python3.8/dist-packages (from tensorflow<3,>=2.10.0->tensorflowjs) (2.1.1)\n",
            "Collecting keras<2.12,>=2.11.0\n",
            "  Downloading keras-2.11.0-py2.py3-none-any.whl (1.7 MB)\n",
            "\u001b[K     |████████████████████████████████| 1.7 MB 91.8 MB/s \n",
            "\u001b[?25hRequirement already satisfied: tensorflow-io-gcs-filesystem>=0.23.1 in /usr/local/lib/python3.8/dist-packages (from tensorflow<3,>=2.10.0->tensorflowjs) (0.28.0)\n",
            "Requirement already satisfied: gast<=0.4.0,>=0.2.1 in /usr/local/lib/python3.8/dist-packages (from tensorflow<3,>=2.10.0->tensorflowjs) (0.4.0)\n",
            "Requirement already satisfied: setuptools in /usr/local/lib/python3.8/dist-packages (from tensorflow<3,>=2.10.0->tensorflowjs) (57.4.0)\n",
            "Requirement already satisfied: astunparse>=1.6.0 in /usr/local/lib/python3.8/dist-packages (from tensorflow<3,>=2.10.0->tensorflowjs) (1.6.3)\n",
            "Requirement already satisfied: absl-py>=1.0.0 in /usr/local/lib/python3.8/dist-packages (from tensorflow<3,>=2.10.0->tensorflowjs) (1.3.0)\n",
            "Requirement already satisfied: wheel<1.0,>=0.23.0 in /usr/local/lib/python3.8/dist-packages (from astunparse>=1.6.0->tensorflow<3,>=2.10.0->tensorflowjs) (0.38.4)\n",
            "Requirement already satisfied: google-auth-oauthlib<0.5,>=0.4.1 in /usr/local/lib/python3.8/dist-packages (from tensorboard<2.12,>=2.11->tensorflow<3,>=2.10.0->tensorflowjs) (0.4.6)\n",
            "Requirement already satisfied: tensorboard-plugin-wit>=1.6.0 in /usr/local/lib/python3.8/dist-packages (from tensorboard<2.12,>=2.11->tensorflow<3,>=2.10.0->tensorflowjs) (1.8.1)\n",
            "Requirement already satisfied: tensorboard-data-server<0.7.0,>=0.6.0 in /usr/local/lib/python3.8/dist-packages (from tensorboard<2.12,>=2.11->tensorflow<3,>=2.10.0->tensorflowjs) (0.6.1)\n",
            "Requirement already satisfied: werkzeug>=1.0.1 in /usr/local/lib/python3.8/dist-packages (from tensorboard<2.12,>=2.11->tensorflow<3,>=2.10.0->tensorflowjs) (1.0.1)\n",
            "Requirement already satisfied: google-auth<3,>=1.6.3 in /usr/local/lib/python3.8/dist-packages (from tensorboard<2.12,>=2.11->tensorflow<3,>=2.10.0->tensorflowjs) (2.15.0)\n",
            "Requirement already satisfied: markdown>=2.6.8 in /usr/local/lib/python3.8/dist-packages (from tensorboard<2.12,>=2.11->tensorflow<3,>=2.10.0->tensorflowjs) (3.4.1)\n",
            "Requirement already satisfied: requests<3,>=2.21.0 in /usr/local/lib/python3.8/dist-packages (from tensorboard<2.12,>=2.11->tensorflow<3,>=2.10.0->tensorflowjs) (2.23.0)\n",
            "Requirement already satisfied: pyasn1-modules>=0.2.1 in /usr/local/lib/python3.8/dist-packages (from google-auth<3,>=1.6.3->tensorboard<2.12,>=2.11->tensorflow<3,>=2.10.0->tensorflowjs) (0.2.8)\n",
            "Requirement already satisfied: cachetools<6.0,>=2.0.0 in /usr/local/lib/python3.8/dist-packages (from google-auth<3,>=1.6.3->tensorboard<2.12,>=2.11->tensorflow<3,>=2.10.0->tensorflowjs) (5.2.0)\n",
            "Requirement already satisfied: rsa<5,>=3.1.4 in /usr/local/lib/python3.8/dist-packages (from google-auth<3,>=1.6.3->tensorboard<2.12,>=2.11->tensorflow<3,>=2.10.0->tensorflowjs) (4.9)\n",
            "Requirement already satisfied: requests-oauthlib>=0.7.0 in /usr/local/lib/python3.8/dist-packages (from google-auth-oauthlib<0.5,>=0.4.1->tensorboard<2.12,>=2.11->tensorflow<3,>=2.10.0->tensorflowjs) (1.3.1)\n",
            "Requirement already satisfied: importlib-metadata>=4.4 in /usr/local/lib/python3.8/dist-packages (from markdown>=2.6.8->tensorboard<2.12,>=2.11->tensorflow<3,>=2.10.0->tensorflowjs) (4.13.0)\n",
            "Requirement already satisfied: pyasn1<0.5.0,>=0.4.6 in /usr/local/lib/python3.8/dist-packages (from pyasn1-modules>=0.2.1->google-auth<3,>=1.6.3->tensorboard<2.12,>=2.11->tensorflow<3,>=2.10.0->tensorflowjs) (0.4.8)\n",
            "Requirement already satisfied: idna<3,>=2.5 in /usr/local/lib/python3.8/dist-packages (from requests<3,>=2.21.0->tensorboard<2.12,>=2.11->tensorflow<3,>=2.10.0->tensorflowjs) (2.10)\n",
            "Requirement already satisfied: chardet<4,>=3.0.2 in /usr/local/lib/python3.8/dist-packages (from requests<3,>=2.21.0->tensorboard<2.12,>=2.11->tensorflow<3,>=2.10.0->tensorflowjs) (3.0.4)\n",
            "Requirement already satisfied: urllib3!=1.25.0,!=1.25.1,<1.26,>=1.21.1 in /usr/local/lib/python3.8/dist-packages (from requests<3,>=2.21.0->tensorboard<2.12,>=2.11->tensorflow<3,>=2.10.0->tensorflowjs) (1.24.3)\n",
            "Requirement already satisfied: certifi>=2017.4.17 in /usr/local/lib/python3.8/dist-packages (from requests<3,>=2.21.0->tensorboard<2.12,>=2.11->tensorflow<3,>=2.10.0->tensorflowjs) (2022.9.24)\n",
            "Requirement already satisfied: oauthlib>=3.0.0 in /usr/local/lib/python3.8/dist-packages (from requests-oauthlib>=0.7.0->google-auth-oauthlib<0.5,>=0.4.1->tensorboard<2.12,>=2.11->tensorflow<3,>=2.10.0->tensorflowjs) (3.2.2)\n",
            "Collecting wurlitzer\n",
            "  Downloading wurlitzer-3.0.3-py3-none-any.whl (7.3 kB)\n",
            "Requirement already satisfied: pandas in /usr/local/lib/python3.8/dist-packages (from tensorflow-decision-forests>=1.0.1->tensorflowjs) (1.3.5)\n",
            "Requirement already satisfied: kiwisolver>=1.0.1 in /usr/local/lib/python3.8/dist-packages (from matplotlib->flax>=0.5.3->tensorflowjs) (1.4.4)\n",
            "Requirement already satisfied: python-dateutil>=2.1 in /usr/local/lib/python3.8/dist-packages (from matplotlib->flax>=0.5.3->tensorflowjs) (2.8.2)\n",
            "Requirement already satisfied: cycler>=0.10 in /usr/local/lib/python3.8/dist-packages (from matplotlib->flax>=0.5.3->tensorflowjs) (0.11.0)\n",
            "Collecting chex>=0.1.5\n",
            "  Downloading chex-0.1.5-py3-none-any.whl (85 kB)\n",
            "\u001b[K     |████████████████████████████████| 85 kB 5.2 MB/s \n",
            "\u001b[?25hRequirement already satisfied: jaxlib>=0.1.37 in /usr/local/lib/python3.8/dist-packages (from optax->flax>=0.5.3->tensorflowjs) (0.3.25+cuda11.cudnn805)\n",
            "Requirement already satisfied: toolz>=0.9.0 in /usr/local/lib/python3.8/dist-packages (from chex>=0.1.5->optax->flax>=0.5.3->tensorflowjs) (0.12.0)\n",
            "Requirement already satisfied: dm-tree>=0.1.5 in /usr/local/lib/python3.8/dist-packages (from chex>=0.1.5->optax->flax>=0.5.3->tensorflowjs) (0.1.7)\n",
            "Requirement already satisfied: etils in /usr/local/lib/python3.8/dist-packages (from orbax->flax>=0.5.3->tensorflowjs) (0.9.0)\n",
            "Requirement already satisfied: pytest in /usr/local/lib/python3.8/dist-packages (from orbax->flax>=0.5.3->tensorflowjs) (3.6.4)\n",
            "Collecting cached_property\n",
            "  Downloading cached_property-1.5.2-py2.py3-none-any.whl (7.6 kB)\n",
            "Requirement already satisfied: pytz>=2017.3 in /usr/local/lib/python3.8/dist-packages (from pandas->tensorflow-decision-forests>=1.0.1->tensorflowjs) (2022.6)\n",
            "Requirement already satisfied: py>=1.5.0 in /usr/local/lib/python3.8/dist-packages (from pytest->orbax->flax>=0.5.3->tensorflowjs) (1.11.0)\n",
            "Requirement already satisfied: pluggy<0.8,>=0.5 in /usr/local/lib/python3.8/dist-packages (from pytest->orbax->flax>=0.5.3->tensorflowjs) (0.7.1)\n",
            "Requirement already satisfied: attrs>=17.4.0 in /usr/local/lib/python3.8/dist-packages (from pytest->orbax->flax>=0.5.3->tensorflowjs) (22.1.0)\n",
            "Requirement already satisfied: more-itertools>=4.0.0 in /usr/local/lib/python3.8/dist-packages (from pytest->orbax->flax>=0.5.3->tensorflowjs) (9.0.0)\n",
            "Requirement already satisfied: atomicwrites>=1.0 in /usr/local/lib/python3.8/dist-packages (from pytest->orbax->flax>=0.5.3->tensorflowjs) (1.4.1)\n",
            "Installing collected packages: tensorstore, tensorflow-estimator, tensorboard, packaging, keras, flatbuffers, commonmark, chex, cached-property, wurlitzer, tensorflow, rich, orbax, optax, tensorflow-decision-forests, flax, tensorflowjs\n",
            "  Attempting uninstall: tensorflow-estimator\n",
            "    Found existing installation: tensorflow-estimator 2.9.0\n",
            "    Uninstalling tensorflow-estimator-2.9.0:\n",
            "      Successfully uninstalled tensorflow-estimator-2.9.0\n",
            "  Attempting uninstall: tensorboard\n",
            "    Found existing installation: tensorboard 2.9.1\n",
            "    Uninstalling tensorboard-2.9.1:\n",
            "      Successfully uninstalled tensorboard-2.9.1\n",
            "  Attempting uninstall: packaging\n",
            "    Found existing installation: packaging 21.3\n",
            "    Uninstalling packaging-21.3:\n",
            "      Successfully uninstalled packaging-21.3\n",
            "  Attempting uninstall: keras\n",
            "    Found existing installation: keras 2.9.0\n",
            "    Uninstalling keras-2.9.0:\n",
            "      Successfully uninstalled keras-2.9.0\n",
            "  Attempting uninstall: flatbuffers\n",
            "    Found existing installation: flatbuffers 1.12\n",
            "    Uninstalling flatbuffers-1.12:\n",
            "      Successfully uninstalled flatbuffers-1.12\n",
            "  Attempting uninstall: tensorflow\n",
            "    Found existing installation: tensorflow 2.9.2\n",
            "    Uninstalling tensorflow-2.9.2:\n",
            "      Successfully uninstalled tensorflow-2.9.2\n",
            "Successfully installed cached-property-1.5.2 chex-0.1.5 commonmark-0.9.1 flatbuffers-22.12.6 flax-0.6.3 keras-2.11.0 optax-0.1.4 orbax-0.0.23 packaging-20.9 rich-12.6.0 tensorboard-2.11.0 tensorflow-2.11.0 tensorflow-decision-forests-1.1.0 tensorflow-estimator-2.11.0 tensorflowjs-4.1.0 tensorstore-0.1.28 wurlitzer-3.0.3\n",
            "Name: tensorflow\n",
            "Version: 2.11.0\n",
            "Summary: TensorFlow is an open source machine learning framework for everyone.\n",
            "Home-page: https://www.tensorflow.org/\n",
            "Author: Google Inc.\n",
            "Author-email: packages@tensorflow.org\n",
            "License: Apache 2.0\n",
            "Location: /usr/local/lib/python3.8/dist-packages\n",
            "Requires: grpcio, termcolor, six, opt-einsum, libclang, setuptools, tensorflow-estimator, absl-py, tensorboard, typing-extensions, tensorflow-io-gcs-filesystem, protobuf, gast, astunparse, flatbuffers, wrapt, google-pasta, packaging, keras, h5py, numpy\n",
            "Required-by: tensorflowjs, tensorflow-decision-forests, kapre\n",
            "Name: keras\n",
            "Version: 2.11.0\n",
            "Summary: Deep learning for humans.\n",
            "Home-page: https://keras.io/\n",
            "Author: Keras team\n",
            "Author-email: keras-users@googlegroups.com\n",
            "License: Apache 2.0\n",
            "Location: /usr/local/lib/python3.8/dist-packages\n",
            "Requires: \n",
            "Required-by: tensorflow, keras-vis\n",
            "Python 3.8.16\n"
          ]
        }
      ]
    },
    {
      "cell_type": "code",
      "execution_count": null,
      "metadata": {
        "id": "VuPJg0NQt8rv"
      },
      "outputs": [],
      "source": [
        "import tensorflow as tf\n",
        "from tensorflow import keras\n",
        "from tensorflow.keras.preprocessing import image\n",
        "#from keras_preprocessing.image import ImageDataGenerator\n",
        "from tensorflow.keras import layers\n",
        "from tensorflow.keras.models import Model,Sequential\n",
        "from tensorflow.keras.optimizers import Adam, SGD, RMSprop\n",
        "from tensorflow.keras.layers import Dropout, BatchNormalization\n",
        "from tensorflow.keras.layers import (\n",
        "    Input, Dense, Conv2D, Flatten, Activation, \n",
        "    MaxPooling2D, AveragePooling2D, ZeroPadding2D, GlobalAveragePooling2D, GlobalMaxPooling2D, add\n",
        ")\n",
        "from tensorflow.keras.applications import ResNet50\n",
        "from tensorflow.keras.callbacks import EarlyStopping, ModelCheckpoint\n",
        "from tensorflow.keras.models import load_model\n",
        "from tensorflow.keras.utils import plot_model\n",
        "from tensorflow.keras.preprocessing.image import ImageDataGenerator\n",
        "import tensorflowjs as tfjs"
      ]
    },
    {
      "cell_type": "markdown",
      "source": [
        "#1. Konfiguracja"
      ],
      "metadata": {
        "id": "unUP8BI9k7Bd"
      }
    },
    {
      "cell_type": "code",
      "execution_count": null,
      "metadata": {
        "id": "5qwtcjyauAEw"
      },
      "outputs": [],
      "source": [
        "SEED=123\n",
        "np.random.seed(SEED)"
      ]
    },
    {
      "cell_type": "code",
      "execution_count": null,
      "metadata": {
        "colab": {
          "base_uri": "https://localhost:8080/"
        },
        "id": "8Xy3lydIbMDR",
        "outputId": "a88ff696-9f80-45fe-bfab-ad4eb5966371"
      },
      "outputs": [
        {
          "output_type": "stream",
          "name": "stdout",
          "text": [
            "Num GPUs Available:  1\n"
          ]
        }
      ],
      "source": [
        "print(\"Num GPUs Available: \", len(tf.config.experimental.list_physical_devices('GPU')))"
      ]
    },
    {
      "cell_type": "code",
      "execution_count": null,
      "metadata": {
        "id": "OjL-nbExWA2i"
      },
      "outputs": [],
      "source": [
        "base_path = \"drive/MyDrive/Colab Notebooks/\"\n",
        "path_train_csv = \"train.csv\"\n",
        "path_test_csv = \"test.csv\"\n",
        "path_train_img = base_path + \"img/train\"\n",
        "path_test_img = base_path + \"jpeg/test\"\n",
        "checkpoint_path = base_path + \"checkpoint/\"\n",
        "tfjs_target_dir = base_path + \"/tfjs\""
      ]
    },
    {
      "cell_type": "code",
      "source": [
        "CONFIG = dict(\n",
        "    # Preprocessing\n",
        "    validation = 0.25,\n",
        "    target_size = (224,224),\n",
        "    input_shape = (224, 224, 3),\n",
        "    frac = 0.1, # fraction of train dataset to use\n",
        "\n",
        "    # Training\n",
        "    epochs = 5,   # 5; 10; 20; 100\n",
        "    verbose = 1,    # 0; 1\n",
        "    workers = 4,    # 1; 2; 3; 4\n",
        "    optimizer = 'adam', # 'SGD', 'RMSprop', 'adam'\n",
        "    RANDOM_STATE = 123,\n",
        "    loss = 'binary_crossentropy', # focal loss\n",
        "\n",
        "    # Postprocessing\n",
        "    label_smooth_fac  =  0.00,  # 0.01; 0.05; 0.1; 0.2;\n",
        ")"
      ],
      "metadata": {
        "id": "yFQSRiGyqyHE"
      },
      "execution_count": null,
      "outputs": []
    },
    {
      "cell_type": "markdown",
      "source": [
        "#2. Wczytanie i eksploracja danych"
      ],
      "metadata": {
        "id": "hpwPG6X2lJmQ"
      }
    },
    {
      "cell_type": "code",
      "execution_count": null,
      "metadata": {
        "colab": {
          "base_uri": "https://localhost:8080/",
          "height": 424
        },
        "id": "f1bcew3uWBF3",
        "outputId": "db476501-49d6-48d9-879c-801ae3c30550"
      },
      "outputs": [
        {
          "output_type": "execute_result",
          "data": {
            "text/plain": [
              "         image_name  patient_id     sex  age_approx  \\\n",
              "0      ISIC_2637011  IP_7279968    male        45.0   \n",
              "1      ISIC_0015719  IP_3075186  female        45.0   \n",
              "2      ISIC_0052212  IP_2842074  female        50.0   \n",
              "3      ISIC_0068279  IP_6890425  female        45.0   \n",
              "4      ISIC_0074268  IP_8723313  female        55.0   \n",
              "...             ...         ...     ...         ...   \n",
              "33121  ISIC_9999134  IP_6526534    male        50.0   \n",
              "33122  ISIC_9999320  IP_3650745    male        65.0   \n",
              "33123  ISIC_9999515  IP_2026598    male        20.0   \n",
              "33124  ISIC_9999666  IP_7702038    male        50.0   \n",
              "33125  ISIC_9999806  IP_0046310    male        45.0   \n",
              "\n",
              "      anatom_site_general_challenge diagnosis benign_malignant  target  \\\n",
              "0                         head/neck   unknown           benign       0   \n",
              "1                   upper extremity   unknown           benign       0   \n",
              "2                   lower extremity     nevus           benign       0   \n",
              "3                         head/neck   unknown           benign       0   \n",
              "4                   upper extremity   unknown           benign       0   \n",
              "...                             ...       ...              ...     ...   \n",
              "33121                         torso   unknown           benign       0   \n",
              "33122                         torso   unknown           benign       0   \n",
              "33123               lower extremity   unknown           benign       0   \n",
              "33124               lower extremity   unknown           benign       0   \n",
              "33125                         torso     nevus           benign       0   \n",
              "\n",
              "         image_filename  \n",
              "0      ISIC_2637011.jpg  \n",
              "1      ISIC_0015719.jpg  \n",
              "2      ISIC_0052212.jpg  \n",
              "3      ISIC_0068279.jpg  \n",
              "4      ISIC_0074268.jpg  \n",
              "...                 ...  \n",
              "33121  ISIC_9999134.jpg  \n",
              "33122  ISIC_9999320.jpg  \n",
              "33123  ISIC_9999515.jpg  \n",
              "33124  ISIC_9999666.jpg  \n",
              "33125  ISIC_9999806.jpg  \n",
              "\n",
              "[33126 rows x 9 columns]"
            ],
            "text/html": [
              "\n",
              "  <div id=\"df-dbe945bb-c01c-4b65-bc02-eaf3de80c488\">\n",
              "    <div class=\"colab-df-container\">\n",
              "      <div>\n",
              "<style scoped>\n",
              "    .dataframe tbody tr th:only-of-type {\n",
              "        vertical-align: middle;\n",
              "    }\n",
              "\n",
              "    .dataframe tbody tr th {\n",
              "        vertical-align: top;\n",
              "    }\n",
              "\n",
              "    .dataframe thead th {\n",
              "        text-align: right;\n",
              "    }\n",
              "</style>\n",
              "<table border=\"1\" class=\"dataframe\">\n",
              "  <thead>\n",
              "    <tr style=\"text-align: right;\">\n",
              "      <th></th>\n",
              "      <th>image_name</th>\n",
              "      <th>patient_id</th>\n",
              "      <th>sex</th>\n",
              "      <th>age_approx</th>\n",
              "      <th>anatom_site_general_challenge</th>\n",
              "      <th>diagnosis</th>\n",
              "      <th>benign_malignant</th>\n",
              "      <th>target</th>\n",
              "      <th>image_filename</th>\n",
              "    </tr>\n",
              "  </thead>\n",
              "  <tbody>\n",
              "    <tr>\n",
              "      <th>0</th>\n",
              "      <td>ISIC_2637011</td>\n",
              "      <td>IP_7279968</td>\n",
              "      <td>male</td>\n",
              "      <td>45.0</td>\n",
              "      <td>head/neck</td>\n",
              "      <td>unknown</td>\n",
              "      <td>benign</td>\n",
              "      <td>0</td>\n",
              "      <td>ISIC_2637011.jpg</td>\n",
              "    </tr>\n",
              "    <tr>\n",
              "      <th>1</th>\n",
              "      <td>ISIC_0015719</td>\n",
              "      <td>IP_3075186</td>\n",
              "      <td>female</td>\n",
              "      <td>45.0</td>\n",
              "      <td>upper extremity</td>\n",
              "      <td>unknown</td>\n",
              "      <td>benign</td>\n",
              "      <td>0</td>\n",
              "      <td>ISIC_0015719.jpg</td>\n",
              "    </tr>\n",
              "    <tr>\n",
              "      <th>2</th>\n",
              "      <td>ISIC_0052212</td>\n",
              "      <td>IP_2842074</td>\n",
              "      <td>female</td>\n",
              "      <td>50.0</td>\n",
              "      <td>lower extremity</td>\n",
              "      <td>nevus</td>\n",
              "      <td>benign</td>\n",
              "      <td>0</td>\n",
              "      <td>ISIC_0052212.jpg</td>\n",
              "    </tr>\n",
              "    <tr>\n",
              "      <th>3</th>\n",
              "      <td>ISIC_0068279</td>\n",
              "      <td>IP_6890425</td>\n",
              "      <td>female</td>\n",
              "      <td>45.0</td>\n",
              "      <td>head/neck</td>\n",
              "      <td>unknown</td>\n",
              "      <td>benign</td>\n",
              "      <td>0</td>\n",
              "      <td>ISIC_0068279.jpg</td>\n",
              "    </tr>\n",
              "    <tr>\n",
              "      <th>4</th>\n",
              "      <td>ISIC_0074268</td>\n",
              "      <td>IP_8723313</td>\n",
              "      <td>female</td>\n",
              "      <td>55.0</td>\n",
              "      <td>upper extremity</td>\n",
              "      <td>unknown</td>\n",
              "      <td>benign</td>\n",
              "      <td>0</td>\n",
              "      <td>ISIC_0074268.jpg</td>\n",
              "    </tr>\n",
              "    <tr>\n",
              "      <th>...</th>\n",
              "      <td>...</td>\n",
              "      <td>...</td>\n",
              "      <td>...</td>\n",
              "      <td>...</td>\n",
              "      <td>...</td>\n",
              "      <td>...</td>\n",
              "      <td>...</td>\n",
              "      <td>...</td>\n",
              "      <td>...</td>\n",
              "    </tr>\n",
              "    <tr>\n",
              "      <th>33121</th>\n",
              "      <td>ISIC_9999134</td>\n",
              "      <td>IP_6526534</td>\n",
              "      <td>male</td>\n",
              "      <td>50.0</td>\n",
              "      <td>torso</td>\n",
              "      <td>unknown</td>\n",
              "      <td>benign</td>\n",
              "      <td>0</td>\n",
              "      <td>ISIC_9999134.jpg</td>\n",
              "    </tr>\n",
              "    <tr>\n",
              "      <th>33122</th>\n",
              "      <td>ISIC_9999320</td>\n",
              "      <td>IP_3650745</td>\n",
              "      <td>male</td>\n",
              "      <td>65.0</td>\n",
              "      <td>torso</td>\n",
              "      <td>unknown</td>\n",
              "      <td>benign</td>\n",
              "      <td>0</td>\n",
              "      <td>ISIC_9999320.jpg</td>\n",
              "    </tr>\n",
              "    <tr>\n",
              "      <th>33123</th>\n",
              "      <td>ISIC_9999515</td>\n",
              "      <td>IP_2026598</td>\n",
              "      <td>male</td>\n",
              "      <td>20.0</td>\n",
              "      <td>lower extremity</td>\n",
              "      <td>unknown</td>\n",
              "      <td>benign</td>\n",
              "      <td>0</td>\n",
              "      <td>ISIC_9999515.jpg</td>\n",
              "    </tr>\n",
              "    <tr>\n",
              "      <th>33124</th>\n",
              "      <td>ISIC_9999666</td>\n",
              "      <td>IP_7702038</td>\n",
              "      <td>male</td>\n",
              "      <td>50.0</td>\n",
              "      <td>lower extremity</td>\n",
              "      <td>unknown</td>\n",
              "      <td>benign</td>\n",
              "      <td>0</td>\n",
              "      <td>ISIC_9999666.jpg</td>\n",
              "    </tr>\n",
              "    <tr>\n",
              "      <th>33125</th>\n",
              "      <td>ISIC_9999806</td>\n",
              "      <td>IP_0046310</td>\n",
              "      <td>male</td>\n",
              "      <td>45.0</td>\n",
              "      <td>torso</td>\n",
              "      <td>nevus</td>\n",
              "      <td>benign</td>\n",
              "      <td>0</td>\n",
              "      <td>ISIC_9999806.jpg</td>\n",
              "    </tr>\n",
              "  </tbody>\n",
              "</table>\n",
              "<p>33126 rows × 9 columns</p>\n",
              "</div>\n",
              "      <button class=\"colab-df-convert\" onclick=\"convertToInteractive('df-dbe945bb-c01c-4b65-bc02-eaf3de80c488')\"\n",
              "              title=\"Convert this dataframe to an interactive table.\"\n",
              "              style=\"display:none;\">\n",
              "        \n",
              "  <svg xmlns=\"http://www.w3.org/2000/svg\" height=\"24px\"viewBox=\"0 0 24 24\"\n",
              "       width=\"24px\">\n",
              "    <path d=\"M0 0h24v24H0V0z\" fill=\"none\"/>\n",
              "    <path d=\"M18.56 5.44l.94 2.06.94-2.06 2.06-.94-2.06-.94-.94-2.06-.94 2.06-2.06.94zm-11 1L8.5 8.5l.94-2.06 2.06-.94-2.06-.94L8.5 2.5l-.94 2.06-2.06.94zm10 10l.94 2.06.94-2.06 2.06-.94-2.06-.94-.94-2.06-.94 2.06-2.06.94z\"/><path d=\"M17.41 7.96l-1.37-1.37c-.4-.4-.92-.59-1.43-.59-.52 0-1.04.2-1.43.59L10.3 9.45l-7.72 7.72c-.78.78-.78 2.05 0 2.83L4 21.41c.39.39.9.59 1.41.59.51 0 1.02-.2 1.41-.59l7.78-7.78 2.81-2.81c.8-.78.8-2.07 0-2.86zM5.41 20L4 18.59l7.72-7.72 1.47 1.35L5.41 20z\"/>\n",
              "  </svg>\n",
              "      </button>\n",
              "      \n",
              "  <style>\n",
              "    .colab-df-container {\n",
              "      display:flex;\n",
              "      flex-wrap:wrap;\n",
              "      gap: 12px;\n",
              "    }\n",
              "\n",
              "    .colab-df-convert {\n",
              "      background-color: #E8F0FE;\n",
              "      border: none;\n",
              "      border-radius: 50%;\n",
              "      cursor: pointer;\n",
              "      display: none;\n",
              "      fill: #1967D2;\n",
              "      height: 32px;\n",
              "      padding: 0 0 0 0;\n",
              "      width: 32px;\n",
              "    }\n",
              "\n",
              "    .colab-df-convert:hover {\n",
              "      background-color: #E2EBFA;\n",
              "      box-shadow: 0px 1px 2px rgba(60, 64, 67, 0.3), 0px 1px 3px 1px rgba(60, 64, 67, 0.15);\n",
              "      fill: #174EA6;\n",
              "    }\n",
              "\n",
              "    [theme=dark] .colab-df-convert {\n",
              "      background-color: #3B4455;\n",
              "      fill: #D2E3FC;\n",
              "    }\n",
              "\n",
              "    [theme=dark] .colab-df-convert:hover {\n",
              "      background-color: #434B5C;\n",
              "      box-shadow: 0px 1px 3px 1px rgba(0, 0, 0, 0.15);\n",
              "      filter: drop-shadow(0px 1px 2px rgba(0, 0, 0, 0.3));\n",
              "      fill: #FFFFFF;\n",
              "    }\n",
              "  </style>\n",
              "\n",
              "      <script>\n",
              "        const buttonEl =\n",
              "          document.querySelector('#df-dbe945bb-c01c-4b65-bc02-eaf3de80c488 button.colab-df-convert');\n",
              "        buttonEl.style.display =\n",
              "          google.colab.kernel.accessAllowed ? 'block' : 'none';\n",
              "\n",
              "        async function convertToInteractive(key) {\n",
              "          const element = document.querySelector('#df-dbe945bb-c01c-4b65-bc02-eaf3de80c488');\n",
              "          const dataTable =\n",
              "            await google.colab.kernel.invokeFunction('convertToInteractive',\n",
              "                                                     [key], {});\n",
              "          if (!dataTable) return;\n",
              "\n",
              "          const docLinkHtml = 'Like what you see? Visit the ' +\n",
              "            '<a target=\"_blank\" href=https://colab.research.google.com/notebooks/data_table.ipynb>data table notebook</a>'\n",
              "            + ' to learn more about interactive tables.';\n",
              "          element.innerHTML = '';\n",
              "          dataTable['output_type'] = 'display_data';\n",
              "          await google.colab.output.renderOutput(dataTable, element);\n",
              "          const docLink = document.createElement('div');\n",
              "          docLink.innerHTML = docLinkHtml;\n",
              "          element.appendChild(docLink);\n",
              "        }\n",
              "      </script>\n",
              "    </div>\n",
              "  </div>\n",
              "  "
            ]
          },
          "metadata": {},
          "execution_count": 10
        }
      ],
      "source": [
        "train_df = pd.read_csv(base_path + path_train_csv)\n",
        "train_df['image_filename'] = train_df['image_name'].astype(str) + \".jpg\"\n",
        "train_df"
      ]
    },
    {
      "cell_type": "code",
      "source": [
        "train_df.groupby('benign_malignant').size()"
      ],
      "metadata": {
        "colab": {
          "base_uri": "https://localhost:8080/"
        },
        "id": "6suv-vynkUx7",
        "outputId": "a631e9ac-3951-4569-d2a8-70e27cc330f8"
      },
      "execution_count": null,
      "outputs": [
        {
          "output_type": "execute_result",
          "data": {
            "text/plain": [
              "benign_malignant\n",
              "benign       32542\n",
              "malignant      584\n",
              "dtype: int64"
            ]
          },
          "metadata": {},
          "execution_count": 11
        }
      ]
    },
    {
      "cell_type": "code",
      "source": [
        "# # Create a dataset with equal number of malignant and benign cases.\n",
        "\n",
        "# b, m = train_df.groupby('benign_malignant')\n",
        "# b[1].drop(b[1].index[584:], inplace=True)\n",
        "# b[1]\n",
        "# train_df=pd.concat([m[1], b[1]])\n",
        "# train_df.groupby('benign_malignant').size()"
      ],
      "metadata": {
        "id": "hm6L1FJ-ib3U"
      },
      "execution_count": null,
      "outputs": []
    },
    {
      "cell_type": "markdown",
      "source": [
        "#3. Zapisanie obrazów w odpowiedniej strukturze katalogów"
      ],
      "metadata": {
        "id": "XGEucUQxAktz"
      }
    },
    {
      "cell_type": "code",
      "source": [
        "# b, m = train_df.groupby('benign_malignant')\n",
        "# b = b[1]\n",
        "# m = m[1]"
      ],
      "metadata": {
        "id": "yMgIOUfOkVf5"
      },
      "execution_count": null,
      "outputs": []
    },
    {
      "cell_type": "code",
      "source": [
        "# path = base_path + '/img/malignant/'\n",
        "# for item in m['image_filename']:\n",
        "#   img = Image.open(path_train_img+\"/\"+item)\n",
        "#   img.save(path+item)"
      ],
      "metadata": {
        "id": "vfVXCZ0ZggxE"
      },
      "execution_count": null,
      "outputs": []
    },
    {
      "cell_type": "code",
      "source": [
        "# Create a train_df that uses % of each label (benign and malignant). Used for quicker adjusting model config.\n",
        "\n",
        "# train_df = train_df.groupby('benign_malignant', group_keys=False).apply(lambda x: x.sample(frac=CONFIG.get('frac')))\n",
        "# train_df.groupby('benign_malignant').size()"
      ],
      "metadata": {
        "id": "OCy3cDcVo23e"
      },
      "execution_count": null,
      "outputs": []
    },
    {
      "cell_type": "code",
      "source": [
        "test_df = pd.read_csv(base_path + path_test_csv)\n",
        "test_df['image_filename'] = test_df['image_name'].astype(str) + \".jpg\""
      ],
      "metadata": {
        "id": "cEObXGHWr2-L"
      },
      "execution_count": null,
      "outputs": []
    },
    {
      "cell_type": "markdown",
      "source": [
        "#4. Przygotowanie zbiorów danych treningowych i testowych"
      ],
      "metadata": {
        "id": "cOYjQ0rWlnmG"
      }
    },
    {
      "cell_type": "code",
      "source": [
        "# # making sure the proportion of classes is equal in train and validation set\n",
        "# train_train, train_valid = train_test_split(train_df, test_size=CONFIG.get(\"validation\"), stratify=train_df['benign_malignant'])\n",
        "# train_df_stratified = pd.concat([train_train, train_valid])\n",
        "# train_df_stratified"
      ],
      "metadata": {
        "id": "KYOMPDRfi8wh"
      },
      "execution_count": null,
      "outputs": []
    },
    {
      "cell_type": "code",
      "execution_count": null,
      "metadata": {
        "id": "XBmBiFyAaVgV"
      },
      "outputs": [],
      "source": [
        "# # ref: https://vijayabhaskar96.medium.com/tutorial-on-keras-flow-from-dataframe-1fd4493d237c\n",
        "\n",
        "# datagen = ImageDataGenerator(validation_split=CONFIG.get(\"validation\")) # todo image augmentation??\n",
        "\n",
        "# train_generator = datagen.flow_from_dataframe(\n",
        "#   dataframe = train_train,\n",
        "#   directory = path_train_img,\n",
        "#   x_col = \"image_filename\",\n",
        "#   y_col = \"benign_malignant\",\n",
        "#   subset=\"training\",\n",
        "#   batch_size = 32,\n",
        "#   seed = SEED,\n",
        "#   shuffle = False,\n",
        "#   class_mode = \"categorical\",\n",
        "#   target_size = CONFIG.get(\"target_size\"))\n",
        "\n",
        "# valid_generator = datagen.flow_from_dataframe(\n",
        "#   dataframe = train_valid,\n",
        "#   directory = path_train_img,\n",
        "#   x_col = \"image_filename\",\n",
        "#   y_col = \"benign_malignant\",\n",
        "#   subset=\"validation\",\n",
        "#   batch_size = 32,\n",
        "#   seed = SEED,\n",
        "#   shuffle = False,\n",
        "#   class_mode = \"categorical\",\n",
        "#   target_size = CONFIG.get(\"target_size\"))\n",
        "\n",
        "# test_datagen = ImageDataGenerator()\n",
        "\n",
        "# test_generator = valid_generator = datagen.flow_from_dataframe(\n",
        "#   dataframe = test_df,\n",
        "#   directory = path_test_img,\n",
        "#   x_col = \"image_filename\",\n",
        "#   y_col = None,\n",
        "#   subset = \"validation\",\n",
        "#   batch_size = 32,\n",
        "#   seed = SEED,\n",
        "#   shuffle = False,\n",
        "#   class_mode = None,\n",
        "#   target_size = CONFIG.get(\"target_size\"))"
      ]
    },
    {
      "cell_type": "code",
      "source": [
        "# train_dir = base_path + '/img'\n",
        "# train_ds = tf.keras.preprocessing.image_dataset_from_directory(train_dir, validation_split=0.3, image_size=(224,224), subset=\"training\", seed=SEED)\n",
        "# valid_ds = tf.keras.preprocessing.image_dataset_from_directory(train_dir, validation_split=0.3, image_size=(224,224), subset=\"validation\",seed=SEED)\n",
        "\n",
        "# class_names = train_ds.class_names\n",
        "# num_classes = len(class_names)\n",
        "# print('\\n{} classes:\\n{}'.format(num_classes,class_names))"
      ],
      "metadata": {
        "id": "RYbqsPJYxKQX"
      },
      "execution_count": null,
      "outputs": []
    },
    {
      "cell_type": "code",
      "source": [
        "train_datagen = ImageDataGenerator(rescale=1./255, validation_split=0.3)\n",
        "\n",
        "train_generator = train_datagen.flow_from_directory(path_train_img,\n",
        "                                                    subset='training', \n",
        "                                                    target_size=CONFIG.get(\"target_size\"),\n",
        "                                                    batch_size = 16,\n",
        "                                                    class_mode='categorical',\n",
        "                                                    )\n",
        "\n",
        "valid_generator = train_datagen.flow_from_directory(path_train_img,\n",
        "                                                     subset='validation', \n",
        "                                                     target_size=CONFIG.get(\"target_size\"),\n",
        "                                                     batch_size = 16,\n",
        "                                                     class_mode='categorical'\n",
        "                                                     ) \n",
        "\n",
        "class_names = train_generator.class_indices\n",
        "num_classes = len(class_names)\n",
        "print('\\n{} classes:\\n{}'.format(num_classes,class_names))"
      ],
      "metadata": {
        "colab": {
          "base_uri": "https://localhost:8080/"
        },
        "id": "WXPsE2gA40Qh",
        "outputId": "69b27a8c-42e7-4771-e263-c3cd757972ef"
      },
      "execution_count": null,
      "outputs": [
        {
          "output_type": "stream",
          "name": "stdout",
          "text": [
            "Found 818 images belonging to 2 classes.\n",
            "Found 350 images belonging to 2 classes.\n",
            "\n",
            "2 classes:\n",
            "{'benign': 0, 'malignant': 1}\n"
          ]
        }
      ]
    },
    {
      "cell_type": "markdown",
      "source": [
        "#5. Deklaracja funkcji focal_loss"
      ],
      "metadata": {
        "id": "If2zEQAR8bZn"
      }
    },
    {
      "cell_type": "markdown",
      "source": [
        "Focal loss - function that addresses class imbalance during training in tasks like object detection\n",
        "\n",
        "Ref: https://github.com/mkocabas/focal-loss-keras"
      ],
      "metadata": {
        "id": "sQS-0Fn58in3"
      }
    },
    {
      "cell_type": "code",
      "source": [
        "def focal_loss(gamma=2., alpha=.25):\n",
        "\tdef focal_loss_fixed(y_true, y_pred):\n",
        "\t\tpt_1 = tf.where(tf.equal(y_true, 1), y_pred, tf.ones_like(y_pred))\n",
        "\t\tpt_0 = tf.where(tf.equal(y_true, 0), y_pred, tf.zeros_like(y_pred))\n",
        "\t\treturn -K.mean(alpha * K.pow(1. - pt_1, gamma) * K.log(pt_1+K.epsilon())) - K.mean((1 - alpha) * K.pow(pt_0, gamma) * K.log(1. - pt_0 + K.epsilon()))\n",
        "\treturn focal_loss_fixed"
      ],
      "metadata": {
        "id": "OKMd1SaS8aMP"
      },
      "execution_count": null,
      "outputs": []
    },
    {
      "cell_type": "markdown",
      "source": [
        "#6. Przygotowanie modelu"
      ],
      "metadata": {
        "id": "blWPWEwzl3HU"
      }
    },
    {
      "cell_type": "code",
      "execution_count": null,
      "metadata": {
        "id": "p2cOShsvaWKf",
        "colab": {
          "base_uri": "https://localhost:8080/"
        },
        "outputId": "6d2f5061-4bdf-43ed-d364-57f42e9d1a82"
      },
      "outputs": [
        {
          "output_type": "stream",
          "name": "stdout",
          "text": [
            "Downloading data from https://storage.googleapis.com/tensorflow/keras-applications/resnet/resnet50_weights_tf_dim_ordering_tf_kernels_notop.h5\n",
            "94765736/94765736 [==============================] - 6s 0us/step\n",
            "Model: \"sequential\"\n",
            "_________________________________________________________________\n",
            " Layer (type)                Output Shape              Param #   \n",
            "=================================================================\n",
            " resnet50 (Functional)       (None, 7, 7, 2048)        23587712  \n",
            "                                                                 \n",
            " global_average_pooling2d (G  (None, 2048)             0         \n",
            " lobalAveragePooling2D)                                          \n",
            "                                                                 \n",
            " dense (Dense)               (None, 2)                 4098      \n",
            "                                                                 \n",
            "=================================================================\n",
            "Total params: 23,591,810\n",
            "Trainable params: 23,538,690\n",
            "Non-trainable params: 53,120\n",
            "_________________________________________________________________\n"
          ]
        }
      ],
      "source": [
        "model_ResNet50 = tf.keras.Sequential([\n",
        "     tf.keras.applications.ResNet50(\n",
        "        input_shape = CONFIG.get(\"input_shape\"),\n",
        "        weights = 'imagenet', # one of None (random initialization), \n",
        "                              # 'imagenet' (pre-training on ImageNet) - default,\n",
        "                              # or the path to the weights file to be loaded\n",
        "        include_top = False # include the fully-connected layer at the top of the network\n",
        "    ),\n",
        "    \n",
        "    GlobalAveragePooling2D(),\n",
        "    \n",
        "    Dense(num_classes, activation='softmax')\n",
        "])\n",
        "    \n",
        "model_ResNet50.compile(\n",
        "    optimizer = CONFIG.get(\"optimizer\"),\n",
        "    #loss = tf.keras.losses.BinaryCrossentropy(label_smoothing = CONFIG.get(\"label_smooth_fac\")),\n",
        "    loss = CONFIG.get('loss'), #[focal_loss(alpha=.25, gamma=2)],\n",
        "    metrics = ['accuracy']\n",
        ")\n",
        "\n",
        "model_ResNet50.summary()\n"
      ]
    },
    {
      "cell_type": "code",
      "source": [
        "# We reduce significantly number of trainable parameters by freezing certain layers, excluding from training, i.e. their weights will never be updated\n",
        "\n",
        "# freeze the first 1 layer\n",
        "\n",
        "model_ResNet50.layers[0].trainable = False\n",
        "#for layer in model_ResNet50.layers[:1]:\n",
        "#    layer.trainable = False\n",
        "model_ResNet50.summary()"
      ],
      "metadata": {
        "colab": {
          "base_uri": "https://localhost:8080/"
        },
        "id": "yIdyr0el6xoY",
        "outputId": "a04ce33d-b349-42f1-805a-710346af8fad"
      },
      "execution_count": null,
      "outputs": [
        {
          "output_type": "stream",
          "name": "stdout",
          "text": [
            "Model: \"sequential\"\n",
            "_________________________________________________________________\n",
            " Layer (type)                Output Shape              Param #   \n",
            "=================================================================\n",
            " resnet50 (Functional)       (None, 7, 7, 2048)        23587712  \n",
            "                                                                 \n",
            " global_average_pooling2d (G  (None, 2048)             0         \n",
            " lobalAveragePooling2D)                                          \n",
            "                                                                 \n",
            " dense (Dense)               (None, 2)                 4098      \n",
            "                                                                 \n",
            "=================================================================\n",
            "Total params: 23,591,810\n",
            "Trainable params: 4,098\n",
            "Non-trainable params: 23,587,712\n",
            "_________________________________________________________________\n"
          ]
        }
      ]
    },
    {
      "cell_type": "code",
      "source": [
        "# Plot model scheme with TF/Keras plot_model function\n",
        "plot_model(model_ResNet50, to_file='model_plot.png', show_shapes=True, show_layer_names=True)"
      ],
      "metadata": {
        "colab": {
          "base_uri": "https://localhost:8080/",
          "height": 422
        },
        "id": "B4SUUuIb63_X",
        "outputId": "519ab56b-658e-4cd6-b0f8-383d6f0c6f12"
      },
      "execution_count": null,
      "outputs": [
        {
          "output_type": "execute_result",
          "data": {
            "image/png": "[encoded data removed]",
            "text/plain": [
              "<IPython.core.display.Image object>"
            ]
          },
          "metadata": {},
          "execution_count": 24
        }
      ]
    },
    {
      "cell_type": "markdown",
      "source": [
        "#7. Trenowanie modelu"
      ],
      "metadata": {
        "id": "camF2wF-npqZ"
      }
    },
    {
      "cell_type": "code",
      "source": [
        "# ref: https://keras.io/api/callbacks/early_stopping/\n",
        "cb_early_stopper = EarlyStopping(monitor = 'loss', patience = 1)\n",
        "\n",
        "# ref: https://keras.io/api/callbacks/model_checkpoint/\n",
        "cb_checkpointer  = ModelCheckpoint(filepath = checkpoint_path+'ResNet50-{epoch:02d}.hdf5',\n",
        "                                   monitor = 'loss', \n",
        "                                   verbose = 1,\n",
        "                                   save_best_only = True,\n",
        "                                   mode = 'min'\n",
        "                                  )\n",
        "\n",
        "callbacks_list = [cb_checkpointer, cb_early_stopper]"
      ],
      "metadata": {
        "id": "X56zsU7l5vCL"
      },
      "execution_count": null,
      "outputs": []
    },
    {
      "cell_type": "code",
      "source": [
        "history = model_ResNet50.fit(train_generator, \n",
        "                             epochs=CONFIG.get(\"epochs\"), \n",
        "                             workers=CONFIG.get(\"workers\"),\n",
        "                             validation_data=valid_generator,\n",
        "                             callbacks = callbacks_list \n",
        "                            )"
      ],
      "metadata": {
        "colab": {
          "base_uri": "https://localhost:8080/"
        },
        "id": "hvK_1Yl7BJCM",
        "outputId": "c651cbe8-8b10-4a17-8ca4-84c3591e3475"
      },
      "execution_count": null,
      "outputs": [
        {
          "output_type": "stream",
          "name": "stdout",
          "text": [
            "Epoch 1/5\n",
            "52/52 [==============================] - ETA: 0s - loss: 0.7808 - accuracy: 0.6614\n",
            "Epoch 1: loss improved from inf to 0.78075, saving model to drive/MyDrive/Colab Notebooks/checkpoint/ResNet50-01.hdf5\n",
            "52/52 [==============================] - 260s 4s/step - loss: 0.7808 - accuracy: 0.6614 - val_loss: 2.9255 - val_accuracy: 0.5000\n",
            "Epoch 2/5\n",
            "52/52 [==============================] - ETA: 0s - loss: 0.5770 - accuracy: 0.7127\n",
            "Epoch 2: loss improved from 0.78075 to 0.57701, saving model to drive/MyDrive/Colab Notebooks/checkpoint/ResNet50-02.hdf5\n",
            "52/52 [==============================] - 93s 2s/step - loss: 0.5770 - accuracy: 0.7127 - val_loss: 0.7633 - val_accuracy: 0.5000\n",
            "Epoch 3/5\n",
            "52/52 [==============================] - ETA: 0s - loss: 0.5625 - accuracy: 0.7262\n",
            "Epoch 3: loss improved from 0.57701 to 0.56251, saving model to drive/MyDrive/Colab Notebooks/checkpoint/ResNet50-03.hdf5\n",
            "52/52 [==============================] - 88s 2s/step - loss: 0.5625 - accuracy: 0.7262 - val_loss: 0.6932 - val_accuracy: 0.4943\n",
            "Epoch 4/5\n",
            "52/52 [==============================] - ETA: 0s - loss: 0.5412 - accuracy: 0.7152\n",
            "Epoch 4: loss improved from 0.56251 to 0.54117, saving model to drive/MyDrive/Colab Notebooks/checkpoint/ResNet50-04.hdf5\n",
            "52/52 [==============================] - 86s 2s/step - loss: 0.5412 - accuracy: 0.7152 - val_loss: 0.6931 - val_accuracy: 0.5000\n",
            "Epoch 5/5\n",
            "52/52 [==============================] - ETA: 0s - loss: 0.5327 - accuracy: 0.7372\n",
            "Epoch 5: loss improved from 0.54117 to 0.53269, saving model to drive/MyDrive/Colab Notebooks/checkpoint/ResNet50-05.hdf5\n",
            "52/52 [==============================] - 94s 2s/step - loss: 0.5327 - accuracy: 0.7372 - val_loss: 0.6931 - val_accuracy: 0.5000\n"
          ]
        }
      ]
    },
    {
      "cell_type": "markdown",
      "source": [
        "#8. Ocena modelu"
      ],
      "metadata": {
        "id": "GYppZRWanv1d"
      }
    },
    {
      "cell_type": "code",
      "source": [
        "model_ResNet50.evaluate(valid_generator)"
      ],
      "metadata": {
        "colab": {
          "base_uri": "https://localhost:8080/"
        },
        "id": "CHfJIWk4CFhn",
        "outputId": "5cbf107c-f747-4d0c-e19f-110a44fee304"
      },
      "execution_count": null,
      "outputs": [
        {
          "output_type": "stream",
          "name": "stdout",
          "text": [
            "22/22 [==============================] - 43s 2s/step - loss: 0.6931 - accuracy: 0.5000\n"
          ]
        },
        {
          "output_type": "execute_result",
          "data": {
            "text/plain": [
              "[0.6931479573249817, 0.5]"
            ]
          },
          "metadata": {},
          "execution_count": 27
        }
      ]
    },
    {
      "cell_type": "code",
      "source": [
        "history.history"
      ],
      "metadata": {
        "colab": {
          "base_uri": "https://localhost:8080/"
        },
        "id": "897o73BPM4WM",
        "outputId": "148f4d52-d9d5-41eb-b6b4-33dddd8b6916"
      },
      "execution_count": null,
      "outputs": [
        {
          "output_type": "execute_result",
          "data": {
            "text/plain": [
              "{'loss': [0.7807543873786926,\n",
              "  0.5770081877708435,\n",
              "  0.5625085830688477,\n",
              "  0.5411691665649414,\n",
              "  0.532687783241272],\n",
              " 'accuracy': [0.6613692045211792,\n",
              "  0.7127139568328857,\n",
              "  0.7261613607406616,\n",
              "  0.7151589393615723,\n",
              "  0.7371638417243958],\n",
              " 'val_loss': [2.9254510402679443,\n",
              "  0.7632749080657959,\n",
              "  0.6931648254394531,\n",
              "  0.6931484341621399,\n",
              "  0.6931479573249817],\n",
              " 'val_accuracy': [0.5, 0.5, 0.4942857027053833, 0.5, 0.5]}"
            ]
          },
          "metadata": {},
          "execution_count": 28
        }
      ]
    },
    {
      "cell_type": "code",
      "source": [
        "acc = history.history['accuracy']\n",
        "val_acc = history.history['val_accuracy']\n",
        "\n",
        "loss = history.history['loss']\n",
        "val_loss = history.history['val_loss']\n",
        "\n",
        "metrics = history.history['accuracy']\n",
        "epochs_range = range(1, len(metrics) + 1) \n",
        "\n",
        "plt.figure(figsize=(23, 8))\n",
        "plt.subplot(1, 2, 1)\n",
        "plt.plot(epochs_range, acc, label='Training Accuracy')\n",
        "plt.plot(epochs_range, val_acc, label='Validation Accuracy')\n",
        "plt.legend(loc='lower right')\n",
        "plt.title('Training and Validation Accuracy')\n",
        "\n",
        "plt.subplot(1, 2, 2)\n",
        "plt.plot(epochs_range, loss, label='Training Loss')\n",
        "plt.plot(epochs_range, val_loss, label='Validation Loss')\n",
        "plt.legend(loc='upper right')\n",
        "plt.title('Training and Validation Loss')\n",
        "plt.show()"
      ],
      "metadata": {
        "id": "bRgpwgd26bit",
        "colab": {
          "base_uri": "https://localhost:8080/"
        },
        "outputId": "cd764916-6443-47b6-ff30-bd49dd184f44"
      },
      "execution_count": null,
      "outputs": [
        {
          "output_type": "display_data",
          "data": {
            "text/plain": [
              "<Figure size 1656x576 with 2 Axes>"
            ],
            "image/png": "[encoded data removed]"
          },
          "metadata": {
            "needs_background": "light"
          }
        }
      ]
    },
    {
      "cell_type": "markdown",
      "source": [],
      "metadata": {
        "id": "0rkq6fek_bgT"
      }
    },
    {
      "cell_type": "markdown",
      "source": [
        "#9. Zapisanie modelu w tensorflow.js"
      ],
      "metadata": {
        "id": "uGbsnCKI_eLQ"
      }
    },
    {
      "cell_type": "code",
      "source": [
        "#tfjs.converters.save_keras_model(model_ResNet50, tfjs_target_dir)\n",
        "# serialize model to JSON\n",
        "model_json = model_ResNet50.to_json()\n",
        "with open(\"model.json\", \"w\") as json_file:\n",
        "    json_file.write(model_json)\n",
        "# serialize weights to HDF5\n",
        "model.save_weights(\"model.h5\")\n",
        "print(\"Saved model to disk\")"
      ],
      "metadata": {
        "id": "tCqpuxY7_lzg"
      },
      "execution_count": null,
      "outputs": []
    }
  ],
  "metadata": {
    "accelerator": "GPU",
    "colab": {
      "provenance": [],
      "machine_shape": "hm",
      "collapsed_sections": [
        "zCImDNTvn1L-",
        "hpwPG6X2lJmQ",
        "cOYjQ0rWlnmG",
        "If2zEQAR8bZn",
        "GYppZRWanv1d"
      ],
      "mount_file_id": "1hLi9f5XPFox-1V995PLJjdbIhX4ogtg_",
      "authorship_tag": "ABX9TyMAMKuv+yyY5z1EzSnNoycJ",
      "include_colab_link": true
    },
    "gpuClass": "premium",
    "kernelspec": {
      "display_name": "Python 3",
      "name": "python3"
    },
    "language_info": {
      "name": "python"
    }
  },
  "nbformat": 4,
  "nbformat_minor": 0
}